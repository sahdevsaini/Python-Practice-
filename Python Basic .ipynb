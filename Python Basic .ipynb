{
 "cells": [
  {
   "cell_type": "code",
   "execution_count": null,
   "id": "f4fee9a2",
   "metadata": {},
   "outputs": [],
   "source": [
    "s='sahdev'"
   ]
  },
  {
   "cell_type": "code",
   "execution_count": null,
   "id": "0731006a",
   "metadata": {},
   "outputs": [],
   "source": [
    "s[1]"
   ]
  },
  {
   "cell_type": "code",
   "execution_count": null,
   "id": "06b7b2ec",
   "metadata": {},
   "outputs": [],
   "source": [
    "s[2]"
   ]
  },
  {
   "cell_type": "code",
   "execution_count": null,
   "id": "2a1c6edb",
   "metadata": {},
   "outputs": [],
   "source": [
    "s[3]"
   ]
  },
  {
   "cell_type": "code",
   "execution_count": null,
   "id": "e6f6ad78",
   "metadata": {},
   "outputs": [],
   "source": [
    "type(s)"
   ]
  },
  {
   "cell_type": "code",
   "execution_count": null,
   "id": "0a072740",
   "metadata": {},
   "outputs": [],
   "source": [
    "s[0]"
   ]
  },
  {
   "cell_type": "code",
   "execution_count": null,
   "id": "94ac98f5",
   "metadata": {},
   "outputs": [],
   "source": [
    "s[4]"
   ]
  },
  {
   "cell_type": "code",
   "execution_count": null,
   "id": "6984911b",
   "metadata": {},
   "outputs": [],
   "source": [
    "s[5]"
   ]
  },
  {
   "cell_type": "code",
   "execution_count": null,
   "id": "5255ae66",
   "metadata": {},
   "outputs": [],
   "source": [
    "s[-1]"
   ]
  },
  {
   "cell_type": "code",
   "execution_count": null,
   "id": "65d48f33",
   "metadata": {},
   "outputs": [],
   "source": [
    "s[-2]"
   ]
  },
  {
   "cell_type": "code",
   "execution_count": null,
   "id": "602fd4bd",
   "metadata": {},
   "outputs": [],
   "source": [
    "a='My name is Sahdev Saini'"
   ]
  },
  {
   "cell_type": "code",
   "execution_count": null,
   "id": "1039f31b",
   "metadata": {},
   "outputs": [],
   "source": [
    "a[-1]"
   ]
  },
  {
   "cell_type": "code",
   "execution_count": null,
   "id": "10f1bbbe",
   "metadata": {},
   "outputs": [],
   "source": [
    "a[0]"
   ]
  },
  {
   "cell_type": "code",
   "execution_count": null,
   "id": "1d4cba65",
   "metadata": {},
   "outputs": [],
   "source": [
    "a[100]"
   ]
  },
  {
   "cell_type": "code",
   "execution_count": null,
   "id": "9ee9aa0b",
   "metadata": {},
   "outputs": [],
   "source": [
    "a"
   ]
  },
  {
   "cell_type": "code",
   "execution_count": null,
   "id": "889dc9c9",
   "metadata": {},
   "outputs": [],
   "source": [
    "a[0:100]"
   ]
  },
  {
   "cell_type": "code",
   "execution_count": null,
   "id": "461c6d89",
   "metadata": {},
   "outputs": [],
   "source": [
    "b='Datasciene'"
   ]
  },
  {
   "cell_type": "code",
   "execution_count": null,
   "id": "f7622471",
   "metadata": {},
   "outputs": [],
   "source": [
    "b[-1:-4]"
   ]
  },
  {
   "cell_type": "code",
   "execution_count": null,
   "id": "d719a563",
   "metadata": {},
   "outputs": [],
   "source": [
    "b[0:3]                    # It treat as openinterval for end bracket"
   ]
  },
  {
   "cell_type": "code",
   "execution_count": null,
   "id": "e1883a64",
   "metadata": {},
   "outputs": [],
   "source": [
    "b[0:100]"
   ]
  },
  {
   "cell_type": "code",
   "execution_count": null,
   "id": "46fbce57",
   "metadata": {},
   "outputs": [],
   "source": [
    "b[-100]"
   ]
  },
  {
   "cell_type": "code",
   "execution_count": null,
   "id": "da35b846",
   "metadata": {},
   "outputs": [],
   "source": [
    "b[-1:-4]"
   ]
  },
  {
   "cell_type": "code",
   "execution_count": null,
   "id": "c43c38f1",
   "metadata": {},
   "outputs": [],
   "source": [
    "b[-1:]"
   ]
  },
  {
   "cell_type": "code",
   "execution_count": null,
   "id": "9c6b5acf",
   "metadata": {},
   "outputs": [],
   "source": [
    "b[:-1]"
   ]
  },
  {
   "cell_type": "code",
   "execution_count": null,
   "id": "bbfefc3d",
   "metadata": {},
   "outputs": [],
   "source": [
    "b[-1:0]"
   ]
  },
  {
   "cell_type": "code",
   "execution_count": null,
   "id": "96e6e099",
   "metadata": {},
   "outputs": [],
   "source": [
    "b[-1:-2]"
   ]
  },
  {
   "cell_type": "code",
   "execution_count": null,
   "id": "4b01c4cc",
   "metadata": {},
   "outputs": [],
   "source": [
    "c= 'Saini'"
   ]
  },
  {
   "cell_type": "code",
   "execution_count": null,
   "id": "0468c3fd",
   "metadata": {},
   "outputs": [],
   "source": [
    "c[0:300:1]"
   ]
  },
  {
   "cell_type": "code",
   "execution_count": null,
   "id": "3bdf20a7",
   "metadata": {},
   "outputs": [],
   "source": [
    "c[0:100:3]"
   ]
  },
  {
   "cell_type": "code",
   "execution_count": null,
   "id": "33df1c6e",
   "metadata": {},
   "outputs": [],
   "source": [
    "c[0:100:-1]"
   ]
  },
  {
   "cell_type": "code",
   "execution_count": null,
   "id": "03705a7b",
   "metadata": {},
   "outputs": [],
   "source": [
    "c[-1:-4:1]"
   ]
  },
  {
   "cell_type": "code",
   "execution_count": null,
   "id": "7efb3f00",
   "metadata": {},
   "outputs": [],
   "source": [
    "c[0:-10:-1]"
   ]
  },
  {
   "cell_type": "code",
   "execution_count": null,
   "id": "4e974ee6",
   "metadata": {},
   "outputs": [],
   "source": [
    "c[-2:-1]"
   ]
  },
  {
   "cell_type": "code",
   "execution_count": null,
   "id": "891feda2",
   "metadata": {},
   "outputs": [],
   "source": [
    "c[:: -1]"
   ]
  },
  {
   "cell_type": "code",
   "execution_count": null,
   "id": "bd9be0a4",
   "metadata": {},
   "outputs": [],
   "source": [
    "c[-1::1-]"
   ]
  },
  {
   "cell_type": "code",
   "execution_count": null,
   "id": "d476365d",
   "metadata": {},
   "outputs": [],
   "source": [
    "c[-1::-1]"
   ]
  },
  {
   "cell_type": "code",
   "execution_count": null,
   "id": "a1954c45",
   "metadata": {},
   "outputs": [],
   "source": [
    "d='I am working with motherson'"
   ]
  },
  {
   "cell_type": "code",
   "execution_count": null,
   "id": "6614fd81",
   "metadata": {},
   "outputs": [],
   "source": [
    "d"
   ]
  },
  {
   "cell_type": "code",
   "execution_count": null,
   "id": "fb81191b",
   "metadata": {},
   "outputs": [],
   "source": [
    "d[-5:5,-1]"
   ]
  },
  {
   "cell_type": "code",
   "execution_count": null,
   "id": "d56b40c3",
   "metadata": {},
   "outputs": [],
   "source": [
    "d[-2:-10:-1]"
   ]
  },
  {
   "cell_type": "code",
   "execution_count": null,
   "id": "9b6d6565",
   "metadata": {},
   "outputs": [],
   "source": [
    "d[-1:-10]"
   ]
  },
  {
   "cell_type": "code",
   "execution_count": null,
   "id": "6e368941",
   "metadata": {},
   "outputs": [],
   "source": [
    "d[-10:-1]"
   ]
  },
  {
   "cell_type": "code",
   "execution_count": null,
   "id": "3e5eb259",
   "metadata": {},
   "outputs": [],
   "source": [
    "d[-1:-10:-1]"
   ]
  },
  {
   "cell_type": "code",
   "execution_count": null,
   "id": "c79cf123",
   "metadata": {},
   "outputs": [],
   "source": [
    "d[0:100:3]"
   ]
  },
  {
   "cell_type": "code",
   "execution_count": null,
   "id": "a62e0999",
   "metadata": {},
   "outputs": [],
   "source": [
    "\"saini\"*3"
   ]
  },
  {
   "cell_type": "code",
   "execution_count": null,
   "id": "8afef68b",
   "metadata": {},
   "outputs": [],
   "source": [
    "\"sahdev\"+\"saini\""
   ]
  },
  {
   "cell_type": "code",
   "execution_count": null,
   "id": "34b1baf5",
   "metadata": {},
   "outputs": [],
   "source": [
    "d"
   ]
  },
  {
   "cell_type": "code",
   "execution_count": null,
   "id": "69e0d18c",
   "metadata": {},
   "outputs": [],
   "source": [
    "len(d)"
   ]
  },
  {
   "cell_type": "markdown",
   "id": "92dfe6a8",
   "metadata": {},
   "source": [
    "## Use of Find() ,Count(),Split  Function ."
   ]
  },
  {
   "cell_type": "code",
   "execution_count": null,
   "id": "5d5a257f",
   "metadata": {},
   "outputs": [],
   "source": [
    "d.find(\"w\")"
   ]
  },
  {
   "cell_type": "code",
   "execution_count": null,
   "id": "9d322f55",
   "metadata": {},
   "outputs": [],
   "source": [
    "d.find(\"so\")"
   ]
  },
  {
   "cell_type": "code",
   "execution_count": null,
   "id": "bf5ebb20",
   "metadata": {},
   "outputs": [],
   "source": [
    "d.find(\"so\")"
   ]
  },
  {
   "cell_type": "code",
   "execution_count": null,
   "id": "015f162e",
   "metadata": {},
   "outputs": [],
   "source": [
    "d.find(\"s\")"
   ]
  },
  {
   "cell_type": "code",
   "execution_count": null,
   "id": "5f0f79f8",
   "metadata": {},
   "outputs": [],
   "source": [
    "d.count(\"o\")"
   ]
  },
  {
   "cell_type": "code",
   "execution_count": null,
   "id": "8b401890",
   "metadata": {},
   "outputs": [],
   "source": [
    "d.count(\"i\")"
   ]
  },
  {
   "cell_type": "code",
   "execution_count": null,
   "id": "35ae3a90",
   "metadata": {},
   "outputs": [],
   "source": [
    "d.count(\"m\")"
   ]
  },
  {
   "cell_type": "code",
   "execution_count": null,
   "id": "08c735a4",
   "metadata": {},
   "outputs": [],
   "source": [
    "l= d.split()"
   ]
  },
  {
   "cell_type": "code",
   "execution_count": null,
   "id": "b942fdd8",
   "metadata": {},
   "outputs": [],
   "source": [
    "l"
   ]
  },
  {
   "cell_type": "code",
   "execution_count": null,
   "id": "f3569104",
   "metadata": {},
   "outputs": [],
   "source": [
    "d.split(\" \")"
   ]
  },
  {
   "cell_type": "code",
   "execution_count": null,
   "id": "10b4841c",
   "metadata": {},
   "outputs": [],
   "source": [
    "d.split('wo')"
   ]
  },
  {
   "cell_type": "code",
   "execution_count": null,
   "id": "3c4d6447",
   "metadata": {},
   "outputs": [],
   "source": [
    "l[3]"
   ]
  },
  {
   "cell_type": "code",
   "execution_count": null,
   "id": "7cbb7151",
   "metadata": {},
   "outputs": [],
   "source": [
    "l[0:2]"
   ]
  },
  {
   "cell_type": "code",
   "execution_count": null,
   "id": "3e6d18cd",
   "metadata": {},
   "outputs": [],
   "source": [
    "l[0:4]"
   ]
  },
  {
   "cell_type": "markdown",
   "id": "a14320a0",
   "metadata": {},
   "source": [
    "## Use Of Upper, upper,swapcase,title,capitalize,join"
   ]
  },
  {
   "cell_type": "code",
   "execution_count": null,
   "id": "87b8b8dc",
   "metadata": {},
   "outputs": [],
   "source": [
    "d.upper() "
   ]
  },
  {
   "cell_type": "code",
   "execution_count": null,
   "id": "d685e4ea",
   "metadata": {},
   "outputs": [],
   "source": [
    "d.lower()"
   ]
  },
  {
   "cell_type": "code",
   "execution_count": null,
   "id": "18cadcee",
   "metadata": {},
   "outputs": [],
   "source": [
    "l.upper[3]"
   ]
  },
  {
   "cell_type": "code",
   "execution_count": null,
   "id": "22547823",
   "metadata": {},
   "outputs": [],
   "source": [
    "d.uppercase()"
   ]
  },
  {
   "cell_type": "code",
   "execution_count": null,
   "id": "e34a349c",
   "metadata": {},
   "outputs": [],
   "source": [
    "d.capitalize()"
   ]
  },
  {
   "cell_type": "code",
   "execution_count": null,
   "id": "fea9583c",
   "metadata": {},
   "outputs": [],
   "source": [
    "b='Saini'"
   ]
  },
  {
   "cell_type": "code",
   "execution_count": null,
   "id": "78c408a7",
   "metadata": {},
   "outputs": [],
   "source": [
    "b.swapecase()"
   ]
  },
  {
   "cell_type": "code",
   "execution_count": null,
   "id": "f2a350c8",
   "metadata": {},
   "outputs": [],
   "source": [
    "b.swapcase()"
   ]
  },
  {
   "cell_type": "code",
   "execution_count": null,
   "id": "f6a23e6d",
   "metadata": {},
   "outputs": [],
   "source": [
    "b.title()"
   ]
  },
  {
   "cell_type": "code",
   "execution_count": null,
   "id": "e1fd89ac",
   "metadata": {},
   "outputs": [],
   "source": [
    "b.capitalize()"
   ]
  },
  {
   "cell_type": "code",
   "execution_count": null,
   "id": "a66bb217",
   "metadata": {},
   "outputs": [],
   "source": [
    "d.join(\"-\")"
   ]
  },
  {
   "cell_type": "code",
   "execution_count": null,
   "id": "1eb80fd5",
   "metadata": {},
   "outputs": [],
   "source": [
    "d.join(\" \")"
   ]
  },
  {
   "cell_type": "code",
   "execution_count": null,
   "id": "9f94200b",
   "metadata": {},
   "outputs": [],
   "source": [
    "e= \"Sahdev\"\n",
    "f= \"Saini\""
   ]
  },
  {
   "cell_type": "code",
   "execution_count": null,
   "id": "a24d0bb8",
   "metadata": {},
   "outputs": [],
   "source": [
    "e.join(f)"
   ]
  },
  {
   "cell_type": "code",
   "execution_count": null,
   "id": "95f1b9e2",
   "metadata": {},
   "outputs": [],
   "source": [
    "l.join(\" \")"
   ]
  },
  {
   "cell_type": "code",
   "execution_count": null,
   "id": "1215ad89",
   "metadata": {},
   "outputs": [],
   "source": [
    "\" \".join(e)"
   ]
  },
  {
   "cell_type": "code",
   "execution_count": null,
   "id": "196829ac",
   "metadata": {},
   "outputs": [],
   "source": [
    "\" \".join(d)"
   ]
  },
  {
   "cell_type": "code",
   "execution_count": null,
   "id": "aeae716c",
   "metadata": {},
   "outputs": [],
   "source": [
    "\"-\".join(d)"
   ]
  },
  {
   "cell_type": "code",
   "execution_count": null,
   "id": "4aa0d2ab",
   "metadata": {},
   "outputs": [],
   "source": [
    "\"-\".join(l)"
   ]
  },
  {
   "cell_type": "code",
   "execution_count": null,
   "id": "04cb3ad0",
   "metadata": {},
   "outputs": [],
   "source": [
    "l"
   ]
  },
  {
   "cell_type": "code",
   "execution_count": null,
   "id": "729e1b45",
   "metadata": {},
   "outputs": [],
   "source": [
    "\" \".join(l)"
   ]
  },
  {
   "cell_type": "markdown",
   "id": "933f7eae",
   "metadata": {},
   "source": [
    "## Use of reversed Function "
   ]
  },
  {
   "cell_type": "code",
   "execution_count": null,
   "id": "eb1a8d8d",
   "metadata": {},
   "outputs": [],
   "source": [
    "for i in e:\n",
    "    print(i)"
   ]
  },
  {
   "cell_type": "code",
   "execution_count": null,
   "id": "7ba04712",
   "metadata": {},
   "outputs": [],
   "source": [
    "for i in reversed(e):\n",
    "    print(i)"
   ]
  },
  {
   "cell_type": "code",
   "execution_count": null,
   "id": "c8a18fe6",
   "metadata": {},
   "outputs": [],
   "source": [
    "e"
   ]
  },
  {
   "cell_type": "code",
   "execution_count": null,
   "id": "d51c4f97",
   "metadata": {},
   "outputs": [],
   "source": [
    "e[::-1]"
   ]
  },
  {
   "cell_type": "markdown",
   "id": "f15e0659",
   "metadata": {},
   "source": [
    "## Use of lstrip, rstrip, strip,replace,expandtabs and centre  "
   ]
  },
  {
   "cell_type": "code",
   "execution_count": null,
   "id": "1f291480",
   "metadata": {},
   "outputs": [],
   "source": [
    "e.lstrip()"
   ]
  },
  {
   "cell_type": "code",
   "execution_count": null,
   "id": "453c1d48",
   "metadata": {},
   "outputs": [],
   "source": [
    "e.rstrip()"
   ]
  },
  {
   "cell_type": "code",
   "execution_count": null,
   "id": "c317de65",
   "metadata": {},
   "outputs": [],
   "source": [
    "e.strip()"
   ]
  },
  {
   "cell_type": "code",
   "execution_count": null,
   "id": "188d170e",
   "metadata": {},
   "outputs": [],
   "source": [
    "e.replace(\"v\",\"saini\")"
   ]
  },
  {
   "cell_type": "code",
   "execution_count": null,
   "id": "6463b0d9",
   "metadata": {},
   "outputs": [],
   "source": [
    "\"Sahdev\\tSaini\".expandtabs()"
   ]
  },
  {
   "cell_type": "code",
   "execution_count": null,
   "id": "1055338f",
   "metadata": {},
   "outputs": [],
   "source": [
    "\"Sahdev\\nSaini\".expandtabs()"
   ]
  },
  {
   "cell_type": "markdown",
   "id": "874ec2ca",
   "metadata": {},
   "source": [
    "e.center(20,\"#\")"
   ]
  },
  {
   "cell_type": "code",
   "execution_count": null,
   "id": "79bc9637",
   "metadata": {},
   "outputs": [],
   "source": [
    "b= \"   Indians are best in the world\""
   ]
  },
  {
   "cell_type": "code",
   "execution_count": null,
   "id": "7eaa72d2",
   "metadata": {},
   "outputs": [],
   "source": [
    "b"
   ]
  },
  {
   "cell_type": "code",
   "execution_count": null,
   "id": "6acf14f8",
   "metadata": {},
   "outputs": [],
   "source": [
    "b.strip()"
   ]
  },
  {
   "cell_type": "code",
   "execution_count": null,
   "id": "f5a13e33",
   "metadata": {},
   "outputs": [],
   "source": [
    "b.lstrip()"
   ]
  },
  {
   "cell_type": "code",
   "execution_count": null,
   "id": "c2beee3f",
   "metadata": {},
   "outputs": [],
   "source": [
    "b.rstrip()"
   ]
  },
  {
   "cell_type": "markdown",
   "id": "5eef37b5",
   "metadata": {},
   "source": [
    "## use of islower, isupper, isspace, isdigit,istitle \n"
   ]
  },
  {
   "cell_type": "code",
   "execution_count": null,
   "id": "939fe89e",
   "metadata": {},
   "outputs": [],
   "source": [
    "a=\"Saini\""
   ]
  },
  {
   "cell_type": "code",
   "execution_count": null,
   "id": "cc6b472e",
   "metadata": {},
   "outputs": [],
   "source": [
    "a"
   ]
  },
  {
   "cell_type": "code",
   "execution_count": null,
   "id": "8cec68e7",
   "metadata": {},
   "outputs": [],
   "source": [
    "a.islowerwer()"
   ]
  },
  {
   "cell_type": "code",
   "execution_count": null,
   "id": "c8df77ab",
   "metadata": {},
   "outputs": [],
   "source": [
    "a.isupper()"
   ]
  },
  {
   "cell_type": "code",
   "execution_count": null,
   "id": "6afa95e9",
   "metadata": {},
   "outputs": [],
   "source": [
    "a.isspace()"
   ]
  },
  {
   "cell_type": "code",
   "execution_count": null,
   "id": "e8580eb1",
   "metadata": {},
   "outputs": [],
   "source": [
    "a.isdigit()"
   ]
  },
  {
   "cell_type": "code",
   "execution_count": null,
   "id": "b2eb5e3a",
   "metadata": {},
   "outputs": [],
   "source": [
    "a.istitle()"
   ]
  },
  {
   "cell_type": "markdown",
   "id": "f9eacd78",
   "metadata": {},
   "source": [
    "## Use of endswith and startwith"
   ]
  },
  {
   "cell_type": "code",
   "execution_count": null,
   "id": "e02c51c8",
   "metadata": {},
   "outputs": [],
   "source": [
    "a.startswith(\"x\")"
   ]
  },
  {
   "cell_type": "code",
   "execution_count": null,
   "id": "99774415",
   "metadata": {},
   "outputs": [],
   "source": [
    "a.endswith(\"i\")"
   ]
  },
  {
   "cell_type": "code",
   "execution_count": null,
   "id": "0e68218b",
   "metadata": {},
   "outputs": [],
   "source": [
    "a.encode()"
   ]
  },
  {
   "cell_type": "code",
   "execution_count": null,
   "id": "ae9dcc61",
   "metadata": {},
   "outputs": [],
   "source": [
    "l = [\"Sahdev\" , \"Saini\" , 3543 , 4+6j , True , 345.56]"
   ]
  },
  {
   "cell_type": "code",
   "execution_count": null,
   "id": "5f968851",
   "metadata": {},
   "outputs": [],
   "source": [
    "l"
   ]
  },
  {
   "cell_type": "code",
   "execution_count": null,
   "id": "6911746f",
   "metadata": {},
   "outputs": [],
   "source": [
    "type(l)"
   ]
  },
  {
   "cell_type": "code",
   "execution_count": null,
   "id": "6d295dcf",
   "metadata": {},
   "outputs": [],
   "source": [
    "l[1]"
   ]
  },
  {
   "cell_type": "code",
   "execution_count": null,
   "id": "9c259c37",
   "metadata": {},
   "outputs": [],
   "source": [
    "l[0]"
   ]
  },
  {
   "cell_type": "code",
   "execution_count": null,
   "id": "7b3de318",
   "metadata": {},
   "outputs": [],
   "source": [
    "l[-1]"
   ]
  },
  {
   "cell_type": "code",
   "execution_count": null,
   "id": "fb43c68f",
   "metadata": {},
   "outputs": [],
   "source": [
    "l[-5]"
   ]
  },
  {
   "cell_type": "code",
   "execution_count": null,
   "id": "0c481453",
   "metadata": {},
   "outputs": [],
   "source": [
    "l[--2]"
   ]
  },
  {
   "cell_type": "code",
   "execution_count": null,
   "id": "97721834",
   "metadata": {},
   "outputs": [],
   "source": [
    "l[--1]"
   ]
  },
  {
   "cell_type": "code",
   "execution_count": null,
   "id": "41db0534",
   "metadata": {},
   "outputs": [],
   "source": [
    "l[-3]"
   ]
  },
  {
   "cell_type": "code",
   "execution_count": null,
   "id": "f1dd7e5c",
   "metadata": {},
   "outputs": [],
   "source": [
    "l[:: -1]"
   ]
  },
  {
   "cell_type": "code",
   "execution_count": null,
   "id": "9cc3ce1b",
   "metadata": {},
   "outputs": [],
   "source": [
    "l[0:4]"
   ]
  },
  {
   "cell_type": "code",
   "execution_count": null,
   "id": "718011cb",
   "metadata": {},
   "outputs": [],
   "source": [
    "l[2:6]"
   ]
  },
  {
   "cell_type": "code",
   "execution_count": null,
   "id": "260b1461",
   "metadata": {},
   "outputs": [],
   "source": [
    "l[0:6]"
   ]
  },
  {
   "cell_type": "code",
   "execution_count": null,
   "id": "d61eb2bb",
   "metadata": {},
   "outputs": [],
   "source": [
    "l[1][0]"
   ]
  },
  {
   "cell_type": "code",
   "execution_count": null,
   "id": "12efdbca",
   "metadata": {},
   "outputs": [],
   "source": [
    "type(l[0])"
   ]
  },
  {
   "cell_type": "code",
   "execution_count": null,
   "id": "85508aea",
   "metadata": {},
   "outputs": [],
   "source": [
    "type(l[5])"
   ]
  },
  {
   "cell_type": "code",
   "execution_count": null,
   "id": "b775d600",
   "metadata": {},
   "outputs": [],
   "source": [
    "l[3].imag"
   ]
  },
  {
   "cell_type": "code",
   "execution_count": null,
   "id": "589247a7",
   "metadata": {},
   "outputs": [],
   "source": [
    "l1=['sahdev','saini',5713]\n",
    "l2=['engineer','Trainee','8279881490']"
   ]
  },
  {
   "cell_type": "code",
   "execution_count": null,
   "id": "4ecaf1e4",
   "metadata": {},
   "outputs": [],
   "source": [
    "l1+l2"
   ]
  },
  {
   "cell_type": "code",
   "execution_count": null,
   "id": "ec26d75b",
   "metadata": {},
   "outputs": [],
   "source": [
    "l1*3"
   ]
  },
  {
   "cell_type": "code",
   "execution_count": null,
   "id": "ca5d7c7c",
   "metadata": {},
   "outputs": [],
   "source": [
    "l1+ [\".Net developer\"]"
   ]
  },
  {
   "cell_type": "code",
   "execution_count": null,
   "id": "4c3de2a2",
   "metadata": {},
   "outputs": [],
   "source": [
    "l1"
   ]
  },
  {
   "cell_type": "code",
   "execution_count": null,
   "id": "53cf9f5d",
   "metadata": {},
   "outputs": [],
   "source": [
    "len(l1)"
   ]
  },
  {
   "cell_type": "code",
   "execution_count": null,
   "id": "8f141cf6",
   "metadata": {},
   "outputs": [],
   "source": [
    "345 in l1"
   ]
  },
  {
   "cell_type": "code",
   "execution_count": null,
   "id": "fc045e76",
   "metadata": {},
   "outputs": [],
   "source": [
    "l = ['okay','kumar', 78,45,789,5.5,True, 5+8j]\n",
    "l[-1:6]\n"
   ]
  },
  {
   "cell_type": "code",
   "execution_count": null,
   "id": "5c82e993",
   "metadata": {},
   "outputs": [],
   "source": [
    "l[-1:6:-1]"
   ]
  },
  {
   "cell_type": "code",
   "execution_count": null,
   "id": "8109444d",
   "metadata": {},
   "outputs": [],
   "source": [
    "l2"
   ]
  },
  {
   "cell_type": "code",
   "execution_count": null,
   "id": "6f64381d",
   "metadata": {},
   "outputs": [],
   "source": [
    "l2.append(\"wpf\")"
   ]
  },
  {
   "cell_type": "code",
   "execution_count": null,
   "id": "de2d1528",
   "metadata": {},
   "outputs": [],
   "source": [
    "l2"
   ]
  },
  {
   "cell_type": "markdown",
   "id": "ec687475",
   "metadata": {},
   "source": [
    "## USE of POP fuction"
   ]
  },
  {
   "cell_type": "code",
   "execution_count": null,
   "id": "70e6abb7",
   "metadata": {},
   "outputs": [],
   "source": [
    "l2.pop()"
   ]
  },
  {
   "cell_type": "code",
   "execution_count": null,
   "id": "6aecf4c9",
   "metadata": {},
   "outputs": [],
   "source": [
    "l2"
   ]
  },
  {
   "cell_type": "code",
   "execution_count": null,
   "id": "0205a195",
   "metadata": {},
   "outputs": [],
   "source": [
    "l2.pop(3)"
   ]
  },
  {
   "cell_type": "code",
   "execution_count": null,
   "id": "8799d384",
   "metadata": {},
   "outputs": [],
   "source": [
    "l2.pop(2)"
   ]
  },
  {
   "cell_type": "code",
   "execution_count": null,
   "id": "e9e70bd7",
   "metadata": {},
   "outputs": [],
   "source": [
    "l2"
   ]
  },
  {
   "cell_type": "code",
   "execution_count": null,
   "id": "f73b3d09",
   "metadata": {},
   "outputs": [],
   "source": [
    "l2.append(\"engineer Trainee\")"
   ]
  },
  {
   "cell_type": "code",
   "execution_count": null,
   "id": "c469ba0b",
   "metadata": {},
   "outputs": [],
   "source": [
    "l2"
   ]
  },
  {
   "cell_type": "markdown",
   "id": "0102a2a9",
   "metadata": {},
   "source": [
    "## Use of insert function"
   ]
  },
  {
   "cell_type": "code",
   "execution_count": null,
   "id": "71ab77f2",
   "metadata": {},
   "outputs": [],
   "source": [
    "l2.insert(0,'sahdev saini')"
   ]
  },
  {
   "cell_type": "code",
   "execution_count": null,
   "id": "c2eb9595",
   "metadata": {},
   "outputs": [],
   "source": [
    "l2"
   ]
  },
  {
   "cell_type": "code",
   "execution_count": null,
   "id": "481b8a96",
   "metadata": {},
   "outputs": [],
   "source": [
    "l2.insert(1,'master of engineerring')"
   ]
  },
  {
   "cell_type": "code",
   "execution_count": null,
   "id": "bd1b2228",
   "metadata": {},
   "outputs": [],
   "source": [
    "l2"
   ]
  },
  {
   "cell_type": "code",
   "execution_count": null,
   "id": "d6ac3aee",
   "metadata": {},
   "outputs": [],
   "source": [
    "l2.pop(2)"
   ]
  },
  {
   "cell_type": "code",
   "execution_count": null,
   "id": "f6cce12e",
   "metadata": {},
   "outputs": [],
   "source": [
    "l2"
   ]
  },
  {
   "cell_type": "code",
   "execution_count": null,
   "id": "e1b3f73b",
   "metadata": {},
   "outputs": [],
   "source": [
    "l2[:: -1]"
   ]
  },
  {
   "cell_type": "markdown",
   "id": "26c337b6",
   "metadata": {},
   "source": [
    "## use of Reverse Function "
   ]
  },
  {
   "cell_type": "code",
   "execution_count": null,
   "id": "ae53b6ba",
   "metadata": {},
   "outputs": [],
   "source": [
    "l2.reverse()"
   ]
  },
  {
   "cell_type": "code",
   "execution_count": null,
   "id": "1c5bcf04",
   "metadata": {},
   "outputs": [],
   "source": [
    "l2"
   ]
  },
  {
   "cell_type": "code",
   "execution_count": null,
   "id": "147619cc",
   "metadata": {},
   "outputs": [],
   "source": [
    "l2.insert(1,[23,45,67,87,90])"
   ]
  },
  {
   "cell_type": "code",
   "execution_count": null,
   "id": "fa0ea0d9",
   "metadata": {},
   "outputs": [],
   "source": [
    "l2"
   ]
  },
  {
   "cell_type": "code",
   "execution_count": null,
   "id": "2c5b9542",
   "metadata": {},
   "outputs": [],
   "source": [
    "l2[1][3]"
   ]
  },
  {
   "cell_type": "markdown",
   "id": "3436a273",
   "metadata": {},
   "source": [
    "## Use of Count Function "
   ]
  },
  {
   "cell_type": "code",
   "execution_count": null,
   "id": "a458bd60",
   "metadata": {},
   "outputs": [],
   "source": [
    "l2.count(\"sahdev saini\")"
   ]
  },
  {
   "cell_type": "code",
   "execution_count": null,
   "id": "5886b071",
   "metadata": {},
   "outputs": [],
   "source": [
    "l2.count('femirfeorn')"
   ]
  },
  {
   "cell_type": "markdown",
   "id": "74790bdb",
   "metadata": {},
   "source": [
    "## Use of append function "
   ]
  },
  {
   "cell_type": "code",
   "execution_count": null,
   "id": "1f6899d9",
   "metadata": {},
   "outputs": [],
   "source": [
    "l2.append(\"vmdfvvf\")"
   ]
  },
  {
   "cell_type": "code",
   "execution_count": null,
   "id": "8fc5154f",
   "metadata": {},
   "outputs": [],
   "source": [
    "l2"
   ]
  },
  {
   "cell_type": "code",
   "execution_count": null,
   "id": "0b4480a9",
   "metadata": {},
   "outputs": [],
   "source": [
    "l2.append([23,12,4,5])"
   ]
  },
  {
   "cell_type": "code",
   "execution_count": null,
   "id": "9c98926f",
   "metadata": {},
   "outputs": [],
   "source": [
    "l2"
   ]
  },
  {
   "cell_type": "markdown",
   "id": "c2fdd25f",
   "metadata": {},
   "source": [
    "## Use of Extend function "
   ]
  },
  {
   "cell_type": "code",
   "execution_count": null,
   "id": "cc135067",
   "metadata": {},
   "outputs": [],
   "source": [
    "l1"
   ]
  },
  {
   "cell_type": "code",
   "execution_count": null,
   "id": "93407175",
   "metadata": {},
   "outputs": [],
   "source": [
    "l1.extend([2,45,45,'sdsfg'])"
   ]
  },
  {
   "cell_type": "code",
   "execution_count": null,
   "id": "c3ccb69e",
   "metadata": {},
   "outputs": [],
   "source": [
    "l1"
   ]
  },
  {
   "cell_type": "code",
   "execution_count": null,
   "id": "5440ff11",
   "metadata": {},
   "outputs": [],
   "source": [
    "print(l2.reverse())"
   ]
  },
  {
   "cell_type": "code",
   "execution_count": null,
   "id": "75fba981",
   "metadata": {},
   "outputs": [],
   "source": [
    "l3=l2.reverse()"
   ]
  },
  {
   "cell_type": "code",
   "execution_count": null,
   "id": "8923899f",
   "metadata": {},
   "outputs": [],
   "source": [
    "print(l3)"
   ]
  },
  {
   "cell_type": "code",
   "execution_count": null,
   "id": "2356b56c",
   "metadata": {},
   "outputs": [],
   "source": [
    "l1=[45,567]"
   ]
  },
  {
   "cell_type": "code",
   "execution_count": null,
   "id": "a4019a2d",
   "metadata": {},
   "outputs": [],
   "source": [
    "l1"
   ]
  },
  {
   "cell_type": "code",
   "execution_count": null,
   "id": "8e6995ae",
   "metadata": {},
   "outputs": [],
   "source": [
    "l1 + list('sifhg')"
   ]
  },
  {
   "cell_type": "code",
   "execution_count": null,
   "id": "cdeb70c5",
   "metadata": {},
   "outputs": [],
   "source": [
    "l1+['sifgh']"
   ]
  },
  {
   "cell_type": "markdown",
   "id": "3ca15300",
   "metadata": {},
   "source": [
    "## Use of List Function"
   ]
  },
  {
   "cell_type": "code",
   "execution_count": null,
   "id": "6a3d82d8",
   "metadata": {},
   "outputs": [],
   "source": [
    "list(\"sidh\")"
   ]
  },
  {
   "cell_type": "code",
   "execution_count": null,
   "id": "57a8549d",
   "metadata": {},
   "outputs": [],
   "source": [
    "\"fdsaffsafsafd afsa saf asdfa sdsaf afsad \".split('&')"
   ]
  },
  {
   "cell_type": "code",
   "execution_count": null,
   "id": "ab945c80",
   "metadata": {},
   "outputs": [],
   "source": [
    "\"fdsaffsafsafd afsa saf asdfa sdsaf afsad \".split('s')"
   ]
  },
  {
   "cell_type": "code",
   "execution_count": null,
   "id": "57189ca6",
   "metadata": {},
   "outputs": [],
   "source": [
    "\"fdsaffsafsafd afsa saf asdfa sdsaf afsad \".split('a')"
   ]
  },
  {
   "cell_type": "code",
   "execution_count": null,
   "id": "b64e2e70",
   "metadata": {},
   "outputs": [],
   "source": [
    "\"dfdasfasfda\\tsafasf\\t\\tfadsfsafdsaf\\t\".expandtabs()"
   ]
  },
  {
   "cell_type": "code",
   "execution_count": null,
   "id": "47063211",
   "metadata": {},
   "outputs": [],
   "source": [
    "a='I am working with motherson'"
   ]
  },
  {
   "cell_type": "code",
   "execution_count": null,
   "id": "83ebc918",
   "metadata": {},
   "outputs": [],
   "source": [
    "a"
   ]
  },
  {
   "cell_type": "code",
   "execution_count": null,
   "id": "2cb94b78",
   "metadata": {},
   "outputs": [],
   "source": [
    "a[0:-10:-1]"
   ]
  },
  {
   "cell_type": "code",
   "execution_count": null,
   "id": "50f19752",
   "metadata": {},
   "outputs": [],
   "source": [
    "a[0:-100:-1]"
   ]
  },
  {
   "cell_type": "code",
   "execution_count": null,
   "id": "8b53d1ee",
   "metadata": {},
   "outputs": [],
   "source": [
    "a[0:: -1]"
   ]
  },
  {
   "cell_type": "code",
   "execution_count": null,
   "id": "4bee1612",
   "metadata": {},
   "outputs": [],
   "source": [
    "## It is similar as "
   ]
  },
  {
   "cell_type": "code",
   "execution_count": null,
   "id": "26adf276",
   "metadata": {},
   "outputs": [],
   "source": [
    "a[:: -1]"
   ]
  },
  {
   "cell_type": "code",
   "execution_count": null,
   "id": "09823cca",
   "metadata": {},
   "outputs": [],
   "source": [
    "a[0]"
   ]
  },
  {
   "cell_type": "code",
   "execution_count": null,
   "id": "56d67272",
   "metadata": {},
   "outputs": [],
   "source": [
    "l2=['prweu', 5345]\n",
    "l3=l2\n",
    "l3[0]='newatl3'\n",
    "print(l3)\n",
    "print(l2)\n",
    "o/p ['newatl3', 5345]\n",
    "o/p ['newatl3', 5345] \n",
    "why it has changed l2?\n",
    "\n",
    "\n",
    "s1='sudh'\n",
    "s2=s1\n",
    "s2='newdata'\n",
    "print(s1)                 in this case why it has not changed s1?\n",
    "print(s2)\n",
    "'sudh'\n",
    "'newdata'"
   ]
  },
  {
   "cell_type": "code",
   "execution_count": null,
   "id": "90dfc4f4",
   "metadata": {},
   "outputs": [],
   "source": [
    "l2=['prewer',5345]"
   ]
  },
  {
   "cell_type": "code",
   "execution_count": null,
   "id": "18d3604f",
   "metadata": {},
   "outputs": [],
   "source": [
    "l3=l2"
   ]
  },
  {
   "cell_type": "code",
   "execution_count": null,
   "id": "b455bda9",
   "metadata": {},
   "outputs": [],
   "source": [
    "l3[0]='newrtl3'"
   ]
  },
  {
   "cell_type": "code",
   "execution_count": null,
   "id": "628e43db",
   "metadata": {},
   "outputs": [],
   "source": [
    "l3"
   ]
  },
  {
   "cell_type": "code",
   "execution_count": null,
   "id": "1155ea64",
   "metadata": {},
   "outputs": [],
   "source": [
    "s1='sudh'"
   ]
  },
  {
   "cell_type": "code",
   "execution_count": null,
   "id": "ec26294e",
   "metadata": {},
   "outputs": [],
   "source": [
    "s2=s1"
   ]
  },
  {
   "cell_type": "code",
   "execution_count": null,
   "id": "c92797f0",
   "metadata": {},
   "outputs": [],
   "source": [
    "s2"
   ]
  },
  {
   "cell_type": "code",
   "execution_count": null,
   "id": "9382a64e",
   "metadata": {},
   "outputs": [],
   "source": [
    "s2='newdata'"
   ]
  },
  {
   "cell_type": "code",
   "execution_count": null,
   "id": "0d5597b9",
   "metadata": {},
   "outputs": [],
   "source": [
    "s2"
   ]
  },
  {
   "cell_type": "code",
   "execution_count": null,
   "id": "5f7dadf5",
   "metadata": {},
   "outputs": [],
   "source": [
    "l1= [569, \"Sudh\", \"ravi\"]"
   ]
  },
  {
   "cell_type": "code",
   "execution_count": null,
   "id": "c7267a1e",
   "metadata": {},
   "outputs": [],
   "source": [
    "g = l1[2].replace('v',\"s\")"
   ]
  },
  {
   "cell_type": "code",
   "execution_count": null,
   "id": "62def489",
   "metadata": {},
   "outputs": [],
   "source": [
    "g\n"
   ]
  },
  {
   "cell_type": "code",
   "execution_count": null,
   "id": "2cc1c52d",
   "metadata": {},
   "outputs": [],
   "source": [
    "l1.pop()"
   ]
  },
  {
   "cell_type": "code",
   "execution_count": null,
   "id": "1fb4e698",
   "metadata": {},
   "outputs": [],
   "source": [
    "l1.append(g)"
   ]
  },
  {
   "cell_type": "code",
   "execution_count": null,
   "id": "d0e83910",
   "metadata": {},
   "outputs": [],
   "source": [
    "l1"
   ]
  },
  {
   "cell_type": "code",
   "execution_count": null,
   "id": "e41de313",
   "metadata": {},
   "outputs": [],
   "source": [
    "bacon=22"
   ]
  },
  {
   "cell_type": "code",
   "execution_count": null,
   "id": "a55ec762",
   "metadata": {},
   "outputs": [],
   "source": [
    "bacon + 1"
   ]
  },
  {
   "cell_type": "code",
   "execution_count": null,
   "id": "662c89a0",
   "metadata": {},
   "outputs": [],
   "source": [
    "\"spam\" +\"spamspam\""
   ]
  },
  {
   "cell_type": "code",
   "execution_count": null,
   "id": "ecbfcda9",
   "metadata": {},
   "outputs": [],
   "source": [
    "\"spam\" *3"
   ]
  },
  {
   "cell_type": "code",
   "execution_count": null,
   "id": "7ee78780",
   "metadata": {},
   "outputs": [],
   "source": [
    "n100=4\n"
   ]
  },
  {
   "cell_type": "code",
   "execution_count": null,
   "id": "9cc86eb0",
   "metadata": {},
   "outputs": [],
   "source": [
    "n100"
   ]
  },
  {
   "cell_type": "code",
   "execution_count": null,
   "id": "36f54d12",
   "metadata": {},
   "outputs": [],
   "source": [
    "100"
   ]
  },
  {
   "cell_type": "code",
   "execution_count": null,
   "id": "2be94c85",
   "metadata": {},
   "outputs": [],
   "source": [
    "spam= 1\n",
    "if spam== 1:\n",
    "    print(\"Hello\")\n",
    "elif spam==2:\n",
    "    print(\"Howdy\")\n",
    "else:\n",
    "    print(\"Greetings!\")"
   ]
  },
  {
   "cell_type": "code",
   "execution_count": null,
   "id": "eb9ac031",
   "metadata": {},
   "outputs": [],
   "source": [
    "for i in range(0,10,1):\n",
    "    print(i)"
   ]
  },
  {
   "cell_type": "code",
   "execution_count": null,
   "id": "8b587f6f",
   "metadata": {},
   "outputs": [],
   "source": [
    "for i in range(10):\n",
    "    print(i)"
   ]
  },
  {
   "cell_type": "code",
   "execution_count": 4,
   "id": "5e35bd0b",
   "metadata": {},
   "outputs": [
    {
     "name": "stdout",
     "output_type": "stream",
     "text": [
      "0\n",
      "1\n",
      "2\n",
      "3\n",
      "4\n",
      "5\n",
      "6\n",
      "7\n",
      "8\n",
      "9\n",
      "10\n"
     ]
    }
   ],
   "source": [
    "i=0\n",
    "while(i<=10):\n",
    "    print(i)\n",
    "    i+=1"
   ]
  },
  {
   "cell_type": "code",
   "execution_count": null,
   "id": "35f4f743",
   "metadata": {},
   "outputs": [],
   "source": []
  }
 ],
 "metadata": {
  "kernelspec": {
   "display_name": "Python 3",
   "language": "python",
   "name": "python3"
  },
  "language_info": {
   "codemirror_mode": {
    "name": "ipython",
    "version": 3
   },
   "file_extension": ".py",
   "mimetype": "text/x-python",
   "name": "python",
   "nbconvert_exporter": "python",
   "pygments_lexer": "ipython3",
   "version": "3.8.8"
  }
 },
 "nbformat": 4,
 "nbformat_minor": 5
}
