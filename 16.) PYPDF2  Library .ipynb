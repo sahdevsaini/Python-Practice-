{
 "cells": [
  {
   "cell_type": "code",
   "execution_count": 33,
   "id": "c9e42675",
   "metadata": {},
   "outputs": [
    {
     "name": "stdout",
     "output_type": "stream",
     "text": [
      "Requirement already satisfied: pip in c:\\users\\dell\\anaconda3\\lib\\site-packages (22.0.3)"
     ]
    },
    {
     "name": "stderr",
     "output_type": "stream",
     "text": [
      "ERROR: Could not install packages due to an OSError: [WinError 5] Access is denied: 'C:\\\\Users\\\\Dell\\\\AppData\\\\Local\\\\Temp\\\\pip-uninstall-e5i0jfpb\\\\pip.exe'\n",
      "Consider using the `--user` option or check the permissions.\n",
      "\n"
     ]
    },
    {
     "name": "stdout",
     "output_type": "stream",
     "text": [
      "\n",
      "Collecting pip\n",
      "  Downloading pip-23.2.1-py3-none-any.whl (2.1 MB)\n",
      "     ---------------------------------------- 2.1/2.1 MB 11.1 MB/s eta 0:00:00\n",
      "Installing collected packages: pip\n",
      "  Attempting uninstall: pip\n",
      "    Found existing installation: pip 22.0.3\n",
      "    Uninstalling pip-22.0.3:\n",
      "      Successfully uninstalled pip-22.0.3\n"
     ]
    }
   ],
   "source": [
    "!pip install --upgrade pip"
   ]
  },
  {
   "cell_type": "code",
   "execution_count": 2,
   "id": "6602a003",
   "metadata": {},
   "outputs": [
    {
     "name": "stdout",
     "output_type": "stream",
     "text": [
      "Collecting pypdf2\n",
      "  Downloading pypdf2-3.0.1-py3-none-any.whl (232 kB)\n",
      "     -------------------------------------- 232.6/232.6 KB 3.6 MB/s eta 0:00:00\n",
      "Collecting typing_extensions>=3.10.0.0\n",
      "  Downloading typing_extensions-4.7.1-py3-none-any.whl (33 kB)\n",
      "Installing collected packages: typing_extensions, pypdf2\n",
      "  Attempting uninstall: typing_extensions\n",
      "    Found existing installation: typing-extensions 3.7.4.3\n",
      "    Uninstalling typing-extensions-3.7.4.3:\n",
      "      Successfully uninstalled typing-extensions-3.7.4.3\n",
      "Successfully installed pypdf2-3.0.1 typing_extensions-4.7.1\n",
      "Note: you may need to restart the kernel to use updated packages.\n"
     ]
    },
    {
     "name": "stderr",
     "output_type": "stream",
     "text": [
      "WARNING: You are using pip version 22.0.3; however, version 23.2.1 is available.\n",
      "You should consider upgrading via the 'C:\\Users\\Dell\\Anaconda3\\python.exe -m pip install --upgrade pip' command.\n"
     ]
    }
   ],
   "source": [
    "pip install pypdf2"
   ]
  },
  {
   "cell_type": "code",
   "execution_count": 7,
   "id": "e995d89d",
   "metadata": {},
   "outputs": [
    {
     "data": {
      "text/plain": [
       "'C:\\\\Users\\\\Dell\\\\Python Practice'"
      ]
     },
     "execution_count": 7,
     "metadata": {},
     "output_type": "execute_result"
    }
   ],
   "source": [
    "pwd()"
   ]
  },
  {
   "cell_type": "code",
   "execution_count": 30,
   "id": "d626cd16",
   "metadata": {},
   "outputs": [],
   "source": [
    "import PyPDF2 as pdf"
   ]
  },
  {
   "cell_type": "code",
   "execution_count": 31,
   "id": "8f91471d",
   "metadata": {},
   "outputs": [],
   "source": [
    "file   =open('statement of purpose .pdf','rb')"
   ]
  },
  {
   "cell_type": "code",
   "execution_count": 33,
   "id": "921f41bb",
   "metadata": {},
   "outputs": [],
   "source": [
    "reader = pdf.PdfReader(file)"
   ]
  },
  {
   "cell_type": "code",
   "execution_count": 34,
   "id": "fd46b6ff",
   "metadata": {},
   "outputs": [],
   "source": [
    "page1   = reader.pages"
   ]
  },
  {
   "cell_type": "code",
   "execution_count": 35,
   "id": "61c3e568",
   "metadata": {},
   "outputs": [
    {
     "data": {
      "text/plain": [
       "1"
      ]
     },
     "execution_count": 35,
     "metadata": {},
     "output_type": "execute_result"
    }
   ],
   "source": [
    "len(reader.pages)"
   ]
  },
  {
   "cell_type": "code",
   "execution_count": 36,
   "id": "0c8f892c",
   "metadata": {},
   "outputs": [
    {
     "ename": "SyntaxError",
     "evalue": "invalid syntax (<ipython-input-36-6883845d2858>, line 1)",
     "output_type": "error",
     "traceback": [
      "\u001b[1;36m  File \u001b[1;32m\"<ipython-input-36-6883845d2858>\"\u001b[1;36m, line \u001b[1;32m1\u001b[0m\n\u001b[1;33m    padfdata = reader.\u001b[0m\n\u001b[1;37m                      ^\u001b[0m\n\u001b[1;31mSyntaxError\u001b[0m\u001b[1;31m:\u001b[0m invalid syntax\n"
     ]
    }
   ],
   "source": [
    "padfdata = reader."
   ]
  },
  {
   "cell_type": "code",
   "execution_count": 37,
   "id": "e6d924e8",
   "metadata": {},
   "outputs": [
    {
     "ename": "NameError",
     "evalue": "name 'padfdata' is not defined",
     "output_type": "error",
     "traceback": [
      "\u001b[1;31m---------------------------------------------------------------------------\u001b[0m",
      "\u001b[1;31mNameError\u001b[0m                                 Traceback (most recent call last)",
      "\u001b[1;32m<ipython-input-37-b2a403d9a328>\u001b[0m in \u001b[0;36m<module>\u001b[1;34m\u001b[0m\n\u001b[1;32m----> 1\u001b[1;33m \u001b[0mprint\u001b[0m\u001b[1;33m(\u001b[0m\u001b[0mpadfdata\u001b[0m\u001b[1;33m)\u001b[0m\u001b[1;33m\u001b[0m\u001b[1;33m\u001b[0m\u001b[0m\n\u001b[0m",
      "\u001b[1;31mNameError\u001b[0m: name 'padfdata' is not defined"
     ]
    }
   ],
   "source": [
    "print(padfdata)"
   ]
  },
  {
   "cell_type": "code",
   "execution_count": 21,
   "id": "d0504415",
   "metadata": {},
   "outputs": [
    {
     "name": "stdout",
     "output_type": "stream",
     "text": [
      "Note: you may need to restart the kernel to use updated packages.\n"
     ]
    },
    {
     "name": "stderr",
     "output_type": "stream",
     "text": [
      "ERROR: unknown command \"update\"\n",
      "\n"
     ]
    }
   ],
   "source": [
    "pip update "
   ]
  },
  {
   "cell_type": "code",
   "execution_count": 22,
   "id": "d48d692d",
   "metadata": {},
   "outputs": [],
   "source": [
    "from PyPDF2 import PdfFileReader"
   ]
  },
  {
   "cell_type": "code",
   "execution_count": 38,
   "id": "d1243697",
   "metadata": {},
   "outputs": [],
   "source": [
    "path = 'STATEMENT OF PURPOSE .pdf'"
   ]
  },
  {
   "cell_type": "code",
   "execution_count": 39,
   "id": "f83e4487",
   "metadata": {},
   "outputs": [],
   "source": [
    "f= open(path,'rb')"
   ]
  },
  {
   "cell_type": "code",
   "execution_count": 40,
   "id": "672d6506",
   "metadata": {},
   "outputs": [
    {
     "ename": "DeprecationError",
     "evalue": "PdfFileReader is deprecated and was removed in PyPDF2 3.0.0. Use PdfReader instead.",
     "output_type": "error",
     "traceback": [
      "\u001b[1;31m---------------------------------------------------------------------------\u001b[0m",
      "\u001b[1;31mDeprecationError\u001b[0m                          Traceback (most recent call last)",
      "\u001b[1;32m<ipython-input-40-fbe99889980f>\u001b[0m in \u001b[0;36m<module>\u001b[1;34m\u001b[0m\n\u001b[1;32m----> 1\u001b[1;33m \u001b[0mpdf\u001b[0m  \u001b[1;33m=\u001b[0m \u001b[0mPdfFileReader\u001b[0m\u001b[1;33m(\u001b[0m\u001b[0mf\u001b[0m\u001b[1;33m)\u001b[0m\u001b[1;33m\u001b[0m\u001b[1;33m\u001b[0m\u001b[0m\n\u001b[0m",
      "\u001b[1;32m~\\Anaconda3\\lib\\site-packages\\PyPDF2\\_reader.py\u001b[0m in \u001b[0;36m__init__\u001b[1;34m(self, *args, **kwargs)\u001b[0m\n\u001b[0;32m   1972\u001b[0m \u001b[1;32mclass\u001b[0m \u001b[0mPdfFileReader\u001b[0m\u001b[1;33m(\u001b[0m\u001b[0mPdfReader\u001b[0m\u001b[1;33m)\u001b[0m\u001b[1;33m:\u001b[0m  \u001b[1;31m# pragma: no cover\u001b[0m\u001b[1;33m\u001b[0m\u001b[1;33m\u001b[0m\u001b[0m\n\u001b[0;32m   1973\u001b[0m     \u001b[1;32mdef\u001b[0m \u001b[0m__init__\u001b[0m\u001b[1;33m(\u001b[0m\u001b[0mself\u001b[0m\u001b[1;33m,\u001b[0m \u001b[1;33m*\u001b[0m\u001b[0margs\u001b[0m\u001b[1;33m:\u001b[0m \u001b[0mAny\u001b[0m\u001b[1;33m,\u001b[0m \u001b[1;33m**\u001b[0m\u001b[0mkwargs\u001b[0m\u001b[1;33m:\u001b[0m \u001b[0mAny\u001b[0m\u001b[1;33m)\u001b[0m \u001b[1;33m->\u001b[0m \u001b[1;32mNone\u001b[0m\u001b[1;33m:\u001b[0m\u001b[1;33m\u001b[0m\u001b[1;33m\u001b[0m\u001b[0m\n\u001b[1;32m-> 1974\u001b[1;33m         \u001b[0mdeprecation_with_replacement\u001b[0m\u001b[1;33m(\u001b[0m\u001b[1;34m\"PdfFileReader\"\u001b[0m\u001b[1;33m,\u001b[0m \u001b[1;34m\"PdfReader\"\u001b[0m\u001b[1;33m,\u001b[0m \u001b[1;34m\"3.0.0\"\u001b[0m\u001b[1;33m)\u001b[0m\u001b[1;33m\u001b[0m\u001b[1;33m\u001b[0m\u001b[0m\n\u001b[0m\u001b[0;32m   1975\u001b[0m         \u001b[1;32mif\u001b[0m \u001b[1;34m\"strict\"\u001b[0m \u001b[1;32mnot\u001b[0m \u001b[1;32min\u001b[0m \u001b[0mkwargs\u001b[0m \u001b[1;32mand\u001b[0m \u001b[0mlen\u001b[0m\u001b[1;33m(\u001b[0m\u001b[0margs\u001b[0m\u001b[1;33m)\u001b[0m \u001b[1;33m<\u001b[0m \u001b[1;36m2\u001b[0m\u001b[1;33m:\u001b[0m\u001b[1;33m\u001b[0m\u001b[1;33m\u001b[0m\u001b[0m\n\u001b[0;32m   1976\u001b[0m             \u001b[0mkwargs\u001b[0m\u001b[1;33m[\u001b[0m\u001b[1;34m\"strict\"\u001b[0m\u001b[1;33m]\u001b[0m \u001b[1;33m=\u001b[0m \u001b[1;32mTrue\u001b[0m  \u001b[1;31m# maintain the default\u001b[0m\u001b[1;33m\u001b[0m\u001b[1;33m\u001b[0m\u001b[0m\n",
      "\u001b[1;32m~\\Anaconda3\\lib\\site-packages\\PyPDF2\\_utils.py\u001b[0m in \u001b[0;36mdeprecation_with_replacement\u001b[1;34m(old_name, new_name, removed_in)\u001b[0m\n\u001b[0;32m    367\u001b[0m     \u001b[0mRaise\u001b[0m \u001b[0man\u001b[0m \u001b[0mexception\u001b[0m \u001b[0mthat\u001b[0m \u001b[0ma\u001b[0m \u001b[0mfeature\u001b[0m \u001b[0mwas\u001b[0m \u001b[0malready\u001b[0m \u001b[0mremoved\u001b[0m\u001b[1;33m,\u001b[0m \u001b[0mbut\u001b[0m \u001b[0mhas\u001b[0m \u001b[0ma\u001b[0m \u001b[0mreplacement\u001b[0m\u001b[1;33m.\u001b[0m\u001b[1;33m\u001b[0m\u001b[1;33m\u001b[0m\u001b[0m\n\u001b[0;32m    368\u001b[0m     \"\"\"\n\u001b[1;32m--> 369\u001b[1;33m     \u001b[0mdeprecation\u001b[0m\u001b[1;33m(\u001b[0m\u001b[0mDEPR_MSG_HAPPENED\u001b[0m\u001b[1;33m.\u001b[0m\u001b[0mformat\u001b[0m\u001b[1;33m(\u001b[0m\u001b[0mold_name\u001b[0m\u001b[1;33m,\u001b[0m \u001b[0mremoved_in\u001b[0m\u001b[1;33m,\u001b[0m \u001b[0mnew_name\u001b[0m\u001b[1;33m)\u001b[0m\u001b[1;33m)\u001b[0m\u001b[1;33m\u001b[0m\u001b[1;33m\u001b[0m\u001b[0m\n\u001b[0m\u001b[0;32m    370\u001b[0m \u001b[1;33m\u001b[0m\u001b[0m\n\u001b[0;32m    371\u001b[0m \u001b[1;33m\u001b[0m\u001b[0m\n",
      "\u001b[1;32m~\\Anaconda3\\lib\\site-packages\\PyPDF2\\_utils.py\u001b[0m in \u001b[0;36mdeprecation\u001b[1;34m(msg)\u001b[0m\n\u001b[0;32m    349\u001b[0m \u001b[1;33m\u001b[0m\u001b[0m\n\u001b[0;32m    350\u001b[0m \u001b[1;32mdef\u001b[0m \u001b[0mdeprecation\u001b[0m\u001b[1;33m(\u001b[0m\u001b[0mmsg\u001b[0m\u001b[1;33m:\u001b[0m \u001b[0mstr\u001b[0m\u001b[1;33m)\u001b[0m \u001b[1;33m->\u001b[0m \u001b[1;32mNone\u001b[0m\u001b[1;33m:\u001b[0m\u001b[1;33m\u001b[0m\u001b[1;33m\u001b[0m\u001b[0m\n\u001b[1;32m--> 351\u001b[1;33m     \u001b[1;32mraise\u001b[0m \u001b[0mDeprecationError\u001b[0m\u001b[1;33m(\u001b[0m\u001b[0mmsg\u001b[0m\u001b[1;33m)\u001b[0m\u001b[1;33m\u001b[0m\u001b[1;33m\u001b[0m\u001b[0m\n\u001b[0m\u001b[0;32m    352\u001b[0m \u001b[1;33m\u001b[0m\u001b[0m\n\u001b[0;32m    353\u001b[0m \u001b[1;33m\u001b[0m\u001b[0m\n",
      "\u001b[1;31mDeprecationError\u001b[0m: PdfFileReader is deprecated and was removed in PyPDF2 3.0.0. Use PdfReader instead."
     ]
    }
   ],
   "source": [
    "pdf  = PdfFileReader(f)"
   ]
  },
  {
   "cell_type": "code",
   "execution_count": 42,
   "id": "e6a9e095",
   "metadata": {},
   "outputs": [],
   "source": [
    "pdf  = pdf.PdfReader(f)"
   ]
  },
  {
   "cell_type": "code",
   "execution_count": 43,
   "id": "8c6cc3a8",
   "metadata": {},
   "outputs": [],
   "source": [
    "info =  pdf.metadata"
   ]
  },
  {
   "cell_type": "code",
   "execution_count": 44,
   "id": "e85016e2",
   "metadata": {},
   "outputs": [
    {
     "data": {
      "text/plain": [
       "{'/Producer': 'Microsoft® Word for Office 365',\n",
       " '/Creator': 'Microsoft® Word for Office 365',\n",
       " '/CreationDate': \"D:20200419050813+00'00'\",\n",
       " '/ModDate': \"D:20200419050813+00'00'\"}"
      ]
     },
     "execution_count": 44,
     "metadata": {},
     "output_type": "execute_result"
    }
   ],
   "source": [
    "info"
   ]
  },
  {
   "cell_type": "code",
   "execution_count": 45,
   "id": "14cbd228",
   "metadata": {},
   "outputs": [],
   "source": [
    "page =  len(pdf.pages)"
   ]
  },
  {
   "cell_type": "code",
   "execution_count": 46,
   "id": "09f244a7",
   "metadata": {},
   "outputs": [
    {
     "data": {
      "text/plain": [
       "1"
      ]
     },
     "execution_count": 46,
     "metadata": {},
     "output_type": "execute_result"
    }
   ],
   "source": [
    "page"
   ]
  },
  {
   "cell_type": "code",
   "execution_count": 47,
   "id": "fd6345ed",
   "metadata": {},
   "outputs": [],
   "source": [
    "page1 = pdf.pages[0]"
   ]
  },
  {
   "cell_type": "code",
   "execution_count": 48,
   "id": "8d3903b0",
   "metadata": {},
   "outputs": [
    {
     "name": "stdout",
     "output_type": "stream",
     "text": [
      "{'/Type': '/Page', '/Parent': IndirectObject(2, 0, 2974257766016), '/Resources': {'/ExtGState': {'/GS5': IndirectObject(5, 0, 2974257766016), '/GS8': IndirectObject(8, 0, 2974257766016)}, '/Font': {'/F1': IndirectObject(6, 0, 2974257766016), '/F2': IndirectObject(9, 0, 2974257766016), '/F3': IndirectObject(11, 0, 2974257766016)}, '/ProcSet': ['/PDF', '/Text', '/ImageB', '/ImageC', '/ImageI']}, '/MediaBox': [0, 0, 612, 792], '/Contents': IndirectObject(4, 0, 2974257766016), '/Group': {'/Type': '/Group', '/S': '/Transparency', '/CS': '/DeviceRGB'}, '/Tabs': '/S', '/StructParents': 0}\n"
     ]
    }
   ],
   "source": [
    "for page in range(0,len(pdf.pages)):\n",
    "    print(pdf.pages[page])\n",
    "    "
   ]
  },
  {
   "cell_type": "code",
   "execution_count": 116,
   "id": "31ef1622",
   "metadata": {},
   "outputs": [
    {
     "data": {
      "text/plain": [
       "{'/Type': '/Page',\n",
       " '/Parent': {'/Type': '/Pages',\n",
       "  '/Count': 1,\n",
       "  '/Kids': [IndirectObject(3, 0, 1896600179136)]},\n",
       " '/Resources': {'/ExtGState': {'/GS5': {'/Type': '/ExtGState',\n",
       "    '/BM': '/Normal',\n",
       "    '/ca': 1},\n",
       "   '/GS8': {'/Type': '/ExtGState', '/BM': '/Normal', '/CA': 1}},\n",
       "  '/Font': {'/F1': {'/Type': '/Font',\n",
       "    '/Subtype': '/TrueType',\n",
       "    '/Name': '/F1',\n",
       "    '/BaseFont': '/TimesNewRomanPSMT',\n",
       "    '/Encoding': '/WinAnsiEncoding',\n",
       "    '/FontDescriptor': {'/Type': '/FontDescriptor',\n",
       "     '/FontName': '/TimesNewRomanPSMT',\n",
       "     '/Flags': 32,\n",
       "     '/ItalicAngle': 0,\n",
       "     '/Ascent': 891,\n",
       "     '/Descent': -216,\n",
       "     '/CapHeight': 693,\n",
       "     '/AvgWidth': 401,\n",
       "     '/MaxWidth': 2614,\n",
       "     '/FontWeight': 400,\n",
       "     '/XHeight': 250,\n",
       "     '/Leading': 42,\n",
       "     '/StemV': 40,\n",
       "     '/FontBBox': [-568, -216, 2046, 693]},\n",
       "    '/FirstChar': 32,\n",
       "    '/LastChar': 122,\n",
       "    '/Widths': [250,\n",
       "     0,\n",
       "     0,\n",
       "     0,\n",
       "     0,\n",
       "     0,\n",
       "     0,\n",
       "     180,\n",
       "     0,\n",
       "     0,\n",
       "     0,\n",
       "     0,\n",
       "     250,\n",
       "     333,\n",
       "     250,\n",
       "     0,\n",
       "     0,\n",
       "     0,\n",
       "     0,\n",
       "     0,\n",
       "     0,\n",
       "     0,\n",
       "     0,\n",
       "     0,\n",
       "     0,\n",
       "     0,\n",
       "     0,\n",
       "     0,\n",
       "     0,\n",
       "     0,\n",
       "     0,\n",
       "     0,\n",
       "     0,\n",
       "     722,\n",
       "     667,\n",
       "     667,\n",
       "     722,\n",
       "     0,\n",
       "     0,\n",
       "     722,\n",
       "     0,\n",
       "     333,\n",
       "     0,\n",
       "     0,\n",
       "     0,\n",
       "     889,\n",
       "     0,\n",
       "     0,\n",
       "     0,\n",
       "     0,\n",
       "     0,\n",
       "     556,\n",
       "     611,\n",
       "     722,\n",
       "     0,\n",
       "     944,\n",
       "     0,\n",
       "     0,\n",
       "     0,\n",
       "     0,\n",
       "     0,\n",
       "     0,\n",
       "     0,\n",
       "     0,\n",
       "     0,\n",
       "     444,\n",
       "     500,\n",
       "     444,\n",
       "     500,\n",
       "     444,\n",
       "     333,\n",
       "     500,\n",
       "     500,\n",
       "     278,\n",
       "     278,\n",
       "     500,\n",
       "     278,\n",
       "     778,\n",
       "     500,\n",
       "     500,\n",
       "     500,\n",
       "     500,\n",
       "     333,\n",
       "     389,\n",
       "     278,\n",
       "     500,\n",
       "     500,\n",
       "     722,\n",
       "     0,\n",
       "     500,\n",
       "     444]},\n",
       "   '/F2': {'/Type': '/Font',\n",
       "    '/Subtype': '/TrueType',\n",
       "    '/Name': '/F2',\n",
       "    '/BaseFont': '/TimesNewRomanPS-BoldMT',\n",
       "    '/Encoding': '/WinAnsiEncoding',\n",
       "    '/FontDescriptor': {'/Type': '/FontDescriptor',\n",
       "     '/FontName': '/TimesNewRomanPS-BoldMT',\n",
       "     '/Flags': 32,\n",
       "     '/ItalicAngle': 0,\n",
       "     '/Ascent': 891,\n",
       "     '/Descent': -216,\n",
       "     '/CapHeight': 677,\n",
       "     '/AvgWidth': 427,\n",
       "     '/MaxWidth': 2558,\n",
       "     '/FontWeight': 700,\n",
       "     '/XHeight': 250,\n",
       "     '/Leading': 42,\n",
       "     '/StemV': 42,\n",
       "     '/FontBBox': [-558, -216, 2000, 677]},\n",
       "    '/FirstChar': 32,\n",
       "    '/LastChar': 85,\n",
       "    '/Widths': [250,\n",
       "     0,\n",
       "     0,\n",
       "     0,\n",
       "     0,\n",
       "     0,\n",
       "     0,\n",
       "     0,\n",
       "     0,\n",
       "     0,\n",
       "     0,\n",
       "     0,\n",
       "     0,\n",
       "     0,\n",
       "     0,\n",
       "     0,\n",
       "     0,\n",
       "     0,\n",
       "     0,\n",
       "     0,\n",
       "     0,\n",
       "     0,\n",
       "     0,\n",
       "     0,\n",
       "     0,\n",
       "     0,\n",
       "     0,\n",
       "     0,\n",
       "     0,\n",
       "     0,\n",
       "     0,\n",
       "     0,\n",
       "     0,\n",
       "     722,\n",
       "     0,\n",
       "     0,\n",
       "     0,\n",
       "     667,\n",
       "     611,\n",
       "     0,\n",
       "     0,\n",
       "     0,\n",
       "     0,\n",
       "     0,\n",
       "     0,\n",
       "     944,\n",
       "     722,\n",
       "     778,\n",
       "     611,\n",
       "     0,\n",
       "     722,\n",
       "     556,\n",
       "     667,\n",
       "     722]},\n",
       "   '/F3': {'/Type': '/Font',\n",
       "    '/Subtype': '/TrueType',\n",
       "    '/Name': '/F3',\n",
       "    '/BaseFont': '/BCDEEE+Calibri',\n",
       "    '/Encoding': '/WinAnsiEncoding',\n",
       "    '/FontDescriptor': {'/Type': '/FontDescriptor',\n",
       "     '/FontName': '/BCDEEE+Calibri',\n",
       "     '/Flags': 32,\n",
       "     '/ItalicAngle': 0,\n",
       "     '/Ascent': 750,\n",
       "     '/Descent': -250,\n",
       "     '/CapHeight': 750,\n",
       "     '/AvgWidth': 521,\n",
       "     '/MaxWidth': 1743,\n",
       "     '/FontWeight': 400,\n",
       "     '/XHeight': 250,\n",
       "     '/StemV': 52,\n",
       "     '/FontBBox': [-503, -250, 1240, 750],\n",
       "     '/FontFile2': {'/Filter': '/FlateDecode', '/Length1': 73420}},\n",
       "    '/FirstChar': 32,\n",
       "    '/LastChar': 32,\n",
       "    '/Widths': [226]}},\n",
       "  '/ProcSet': ['/PDF', '/Text', '/ImageB', '/ImageC', '/ImageI']},\n",
       " '/MediaBox': [0, 0, 612, 792],\n",
       " '/Contents': {'/Filter': '/FlateDecode'},\n",
       " '/Group': {'/Type': '/Group', '/S': '/Transparency', '/CS': '/DeviceRGB'},\n",
       " '/Tabs': '/S',\n",
       " '/StructParents': 0}"
      ]
     },
     "execution_count": 116,
     "metadata": {},
     "output_type": "execute_result"
    }
   ],
   "source": [
    "page1"
   ]
  },
  {
   "cell_type": "code",
   "execution_count": 117,
   "id": "6da099af",
   "metadata": {},
   "outputs": [
    {
     "ename": "DeprecationError",
     "evalue": "extractText is deprecated and was removed in PyPDF2 3.0.0. Use extract_text instead.",
     "output_type": "error",
     "traceback": [
      "\u001b[1;31m---------------------------------------------------------------------------\u001b[0m",
      "\u001b[1;31mDeprecationError\u001b[0m                          Traceback (most recent call last)",
      "\u001b[1;32m<ipython-input-117-8b3196156d45>\u001b[0m in \u001b[0;36m<module>\u001b[1;34m\u001b[0m\n\u001b[1;32m----> 1\u001b[1;33m \u001b[0mpage1\u001b[0m\u001b[1;33m.\u001b[0m\u001b[0mextractText\u001b[0m\u001b[1;33m(\u001b[0m\u001b[1;33m)\u001b[0m\u001b[1;33m\u001b[0m\u001b[1;33m\u001b[0m\u001b[0m\n\u001b[0m",
      "\u001b[1;32m~\\Anaconda3\\lib\\site-packages\\PyPDF2\\_page.py\u001b[0m in \u001b[0;36mextractText\u001b[1;34m(self, Tj_sep, TJ_sep)\u001b[0m\n\u001b[0;32m   1897\u001b[0m             \u001b[0mUse\u001b[0m \u001b[1;33m:\u001b[0m\u001b[0mmeth\u001b[0m\u001b[1;33m:\u001b[0m\u001b[0;31m`\u001b[0m\u001b[0mextract_text\u001b[0m\u001b[0;31m`\u001b[0m \u001b[0minstead\u001b[0m\u001b[1;33m.\u001b[0m\u001b[1;33m\u001b[0m\u001b[1;33m\u001b[0m\u001b[0m\n\u001b[0;32m   1898\u001b[0m         \"\"\"\n\u001b[1;32m-> 1899\u001b[1;33m         \u001b[0mdeprecation_with_replacement\u001b[0m\u001b[1;33m(\u001b[0m\u001b[1;34m\"extractText\"\u001b[0m\u001b[1;33m,\u001b[0m \u001b[1;34m\"extract_text\"\u001b[0m\u001b[1;33m,\u001b[0m \u001b[1;34m\"3.0.0\"\u001b[0m\u001b[1;33m)\u001b[0m\u001b[1;33m\u001b[0m\u001b[1;33m\u001b[0m\u001b[0m\n\u001b[0m\u001b[0;32m   1900\u001b[0m         \u001b[1;32mreturn\u001b[0m \u001b[0mself\u001b[0m\u001b[1;33m.\u001b[0m\u001b[0mextract_text\u001b[0m\u001b[1;33m(\u001b[0m\u001b[1;33m)\u001b[0m\u001b[1;33m\u001b[0m\u001b[1;33m\u001b[0m\u001b[0m\n\u001b[0;32m   1901\u001b[0m \u001b[1;33m\u001b[0m\u001b[0m\n",
      "\u001b[1;32m~\\Anaconda3\\lib\\site-packages\\PyPDF2\\_utils.py\u001b[0m in \u001b[0;36mdeprecation_with_replacement\u001b[1;34m(old_name, new_name, removed_in)\u001b[0m\n\u001b[0;32m    367\u001b[0m     \u001b[0mRaise\u001b[0m \u001b[0man\u001b[0m \u001b[0mexception\u001b[0m \u001b[0mthat\u001b[0m \u001b[0ma\u001b[0m \u001b[0mfeature\u001b[0m \u001b[0mwas\u001b[0m \u001b[0malready\u001b[0m \u001b[0mremoved\u001b[0m\u001b[1;33m,\u001b[0m \u001b[0mbut\u001b[0m \u001b[0mhas\u001b[0m \u001b[0ma\u001b[0m \u001b[0mreplacement\u001b[0m\u001b[1;33m.\u001b[0m\u001b[1;33m\u001b[0m\u001b[1;33m\u001b[0m\u001b[0m\n\u001b[0;32m    368\u001b[0m     \"\"\"\n\u001b[1;32m--> 369\u001b[1;33m     \u001b[0mdeprecation\u001b[0m\u001b[1;33m(\u001b[0m\u001b[0mDEPR_MSG_HAPPENED\u001b[0m\u001b[1;33m.\u001b[0m\u001b[0mformat\u001b[0m\u001b[1;33m(\u001b[0m\u001b[0mold_name\u001b[0m\u001b[1;33m,\u001b[0m \u001b[0mremoved_in\u001b[0m\u001b[1;33m,\u001b[0m \u001b[0mnew_name\u001b[0m\u001b[1;33m)\u001b[0m\u001b[1;33m)\u001b[0m\u001b[1;33m\u001b[0m\u001b[1;33m\u001b[0m\u001b[0m\n\u001b[0m\u001b[0;32m    370\u001b[0m \u001b[1;33m\u001b[0m\u001b[0m\n\u001b[0;32m    371\u001b[0m \u001b[1;33m\u001b[0m\u001b[0m\n",
      "\u001b[1;32m~\\Anaconda3\\lib\\site-packages\\PyPDF2\\_utils.py\u001b[0m in \u001b[0;36mdeprecation\u001b[1;34m(msg)\u001b[0m\n\u001b[0;32m    349\u001b[0m \u001b[1;33m\u001b[0m\u001b[0m\n\u001b[0;32m    350\u001b[0m \u001b[1;32mdef\u001b[0m \u001b[0mdeprecation\u001b[0m\u001b[1;33m(\u001b[0m\u001b[0mmsg\u001b[0m\u001b[1;33m:\u001b[0m \u001b[0mstr\u001b[0m\u001b[1;33m)\u001b[0m \u001b[1;33m->\u001b[0m \u001b[1;32mNone\u001b[0m\u001b[1;33m:\u001b[0m\u001b[1;33m\u001b[0m\u001b[1;33m\u001b[0m\u001b[0m\n\u001b[1;32m--> 351\u001b[1;33m     \u001b[1;32mraise\u001b[0m \u001b[0mDeprecationError\u001b[0m\u001b[1;33m(\u001b[0m\u001b[0mmsg\u001b[0m\u001b[1;33m)\u001b[0m\u001b[1;33m\u001b[0m\u001b[1;33m\u001b[0m\u001b[0m\n\u001b[0m\u001b[0;32m    352\u001b[0m \u001b[1;33m\u001b[0m\u001b[0m\n\u001b[0;32m    353\u001b[0m \u001b[1;33m\u001b[0m\u001b[0m\n",
      "\u001b[1;31mDeprecationError\u001b[0m: extractText is deprecated and was removed in PyPDF2 3.0.0. Use extract_text instead."
     ]
    }
   ],
   "source": [
    "page1.extractText()"
   ]
  },
  {
   "cell_type": "code",
   "execution_count": 118,
   "id": "5eb60be3",
   "metadata": {},
   "outputs": [
    {
     "data": {
      "text/plain": [
       "\"                                        STATEMENT OF PURPOSE  \\n \\nThe rise of modern industrialization, humans have always chase for a solution by \\nwhich they can make any process automatic and precise up to a level of human \\nposition. This type of automatic work and highly precise processes has led to the \\nrise of advanced machine and computer aided objectives. But this was not enough \\nin the terms of time and efficiency.  We felt I need of a program that could Control \\nthe whole process by itself and learn from the mistakes that it does and correct it so \\nthat it could tackle the same problem in the future processes. This need and \\nrealization took the flight to create a new scope of interest called artificial \\nintelligence. The curiosity increases with t he limitless abilities and creation power \\nof AI. With and advancement of computing power  and better machinery has even \\nfor the boosted the areas which need to be discovered for humanity for its \\nbetterment with help of AI. My area of interest is applied sc ience where I could use \\nmy knowl edge and skills to create  a better environment which is familiar and smart \\nenough to use. Back in my high school I was quite fascinated by  scene the different \\nprocesses and automatic work in the super factories which was sho wn on \\nDiscovery channel. I always thought that they were being operated by humans but \\nduring my intermediate school studies, I got to know that the overall being \\noperated by an algorithm which was pre -written and moreover the algorithm was \\nso smart that it  could learn itself the different problems which came in the process \\nand don't repeat the same mistake again. That's the first time I heard the name of \\nartificial intelligence. This fascinated me to take admission in computer and \\nscience and information te chnology branch during my bachelor of technology . I \\ncomplete my m ajor project image classification using  deep learning. I want t o \\nlearn Artificial Intelligence  in  Masters Under the Guidance of Specialist . \""
      ]
     },
     "execution_count": 118,
     "metadata": {},
     "output_type": "execute_result"
    }
   ],
   "source": [
    "page1.extract_text()"
   ]
  },
  {
   "cell_type": "markdown",
   "id": "921194ed",
   "metadata": {},
   "source": [
    "#  Decryption of password encrypted pdf file. "
   ]
  },
  {
   "cell_type": "code",
   "execution_count": 49,
   "id": "1c8dd6d5",
   "metadata": {},
   "outputs": [],
   "source": [
    "import PyPDF2 as pdf2\n",
    "path = 'testdata.pdf'\n",
    "f=open(path,'rb')\n",
    "file  = pdf2.PdfReader(f)\n"
   ]
  },
  {
   "cell_type": "code",
   "execution_count": 50,
   "id": "1a7e634c",
   "metadata": {},
   "outputs": [
    {
     "name": "stderr",
     "output_type": "stream",
     "text": [
      "ignore '/Perms' verify failed\n"
     ]
    },
    {
     "name": "stdout",
     "output_type": "stream",
     "text": [
      "True\n"
     ]
    }
   ],
   "source": [
    "if file.is_encrypted:\n",
    "    print(\"True\")\n",
    "    file.decrypt('sahd0104')"
   ]
  },
  {
   "cell_type": "code",
   "execution_count": 51,
   "id": "23000f7c",
   "metadata": {},
   "outputs": [
    {
     "name": "stdout",
     "output_type": "stream",
     "text": [
      "Requirement already satisfied: pycryptodome==3.15.0 in c:\\users\\dell\\anaconda3\\lib\\site-packages (3.15.0)\n",
      "Note: you may need to restart the kernel to use updated packages.\n"
     ]
    },
    {
     "name": "stderr",
     "output_type": "stream",
     "text": [
      "DEPRECATION: pyodbc 4.0.0-unsupported has a non-standard version number. pip 23.3 will enforce this behaviour change. A possible replacement is to upgrade to a newer version of pyodbc or contact the author to suggest that they release a version with a conforming version number. Discussion can be found at https://github.com/pypa/pip/issues/12063\n"
     ]
    }
   ],
   "source": [
    "pip install pycryptodome==3.15.0\n"
   ]
  },
  {
   "cell_type": "code",
   "execution_count": 52,
   "id": "d6d68006",
   "metadata": {},
   "outputs": [
    {
     "name": "stderr",
     "output_type": "stream",
     "text": [
      "ignore '/Perms' verify failed\n"
     ]
    },
    {
     "name": "stdout",
     "output_type": "stream",
     "text": [
      "True\n"
     ]
    }
   ],
   "source": [
    "if file.is_encrypted:\n",
    "    print(\"True\")\n",
    "    file.decrypt('sahd0104')"
   ]
  },
  {
   "cell_type": "code",
   "execution_count": 56,
   "id": "75c87589",
   "metadata": {},
   "outputs": [
    {
     "name": "stdout",
     "output_type": "stream",
     "text": [
      "True\n"
     ]
    }
   ],
   "source": [
    "if file.is_encrypted:\n",
    "    print(\"True\")"
   ]
  },
  {
   "cell_type": "code",
   "execution_count": 57,
   "id": "b9c6f1f3",
   "metadata": {},
   "outputs": [
    {
     "name": "stdout",
     "output_type": "stream",
     "text": [
      "True\n"
     ]
    }
   ],
   "source": [
    "if file.decrypt:\n",
    "    print(\"True\")"
   ]
  },
  {
   "cell_type": "code",
   "execution_count": 63,
   "id": "c6af3f2e",
   "metadata": {},
   "outputs": [
    {
     "name": "stdout",
     "output_type": "stream",
     "text": [
      "4\n"
     ]
    }
   ],
   "source": [
    "print(len(file.pages))"
   ]
  },
  {
   "cell_type": "code",
   "execution_count": 80,
   "id": "aae5e0cd",
   "metadata": {},
   "outputs": [],
   "source": [
    "page1=  file.pages[1]"
   ]
  },
  {
   "cell_type": "code",
   "execution_count": 81,
   "id": "0cdd3dc1",
   "metadata": {},
   "outputs": [
    {
     "data": {
      "text/plain": [
       "{'/Type': '/Page',\n",
       " '/Parent': {'/Type': '/Pages',\n",
       "  '/Count': 4,\n",
       "  '/Kids': [IndirectObject(4, 0, 2974257765296),\n",
       "   IndirectObject(29, 0, 2974257765296),\n",
       "   IndirectObject(31, 0, 2974257765296),\n",
       "   IndirectObject(41, 0, 2974257765296)]},\n",
       " '/Resources': {'/ProcSet': ['/PDF', '/Text', '/ImageB', '/ImageC', '/ImageI'],\n",
       "  '/Font': {'/F': {'/Type': '/Font',\n",
       "    '/Subtype': '/Type1',\n",
       "    '/BaseFont': '/Mulish-SemiBold,Bold',\n",
       "    '/FirstChar': 32,\n",
       "    '/LastChar': 121,\n",
       "    '/Widths': [267,\n",
       "     0,\n",
       "     0,\n",
       "     0,\n",
       "     0,\n",
       "     0,\n",
       "     0,\n",
       "     0,\n",
       "     334,\n",
       "     334,\n",
       "     456,\n",
       "     600,\n",
       "     240,\n",
       "     433,\n",
       "     240,\n",
       "     299,\n",
       "     600,\n",
       "     600,\n",
       "     600,\n",
       "     600,\n",
       "     600,\n",
       "     600,\n",
       "     600,\n",
       "     600,\n",
       "     600,\n",
       "     600,\n",
       "     240,\n",
       "     0,\n",
       "     0,\n",
       "     0,\n",
       "     0,\n",
       "     0,\n",
       "     0,\n",
       "     741,\n",
       "     685,\n",
       "     684,\n",
       "     753,\n",
       "     591,\n",
       "     567,\n",
       "     735,\n",
       "     770,\n",
       "     270,\n",
       "     0,\n",
       "     648,\n",
       "     552,\n",
       "     850,\n",
       "     750,\n",
       "     779,\n",
       "     658,\n",
       "     0,\n",
       "     697,\n",
       "     633,\n",
       "     610,\n",
       "     735,\n",
       "     708,\n",
       "     1116,\n",
       "     660,\n",
       "     617,\n",
       "     602,\n",
       "     0,\n",
       "     0,\n",
       "     0,\n",
       "     0,\n",
       "     0,\n",
       "     0,\n",
       "     609,\n",
       "     609,\n",
       "     499,\n",
       "     609,\n",
       "     546,\n",
       "     351,\n",
       "     613,\n",
       "     593,\n",
       "     248,\n",
       "     0,\n",
       "     532,\n",
       "     248,\n",
       "     888,\n",
       "     593,\n",
       "     581,\n",
       "     609,\n",
       "     0,\n",
       "     376,\n",
       "     498,\n",
       "     363,\n",
       "     585,\n",
       "     537,\n",
       "     875,\n",
       "     0,\n",
       "     537],\n",
       "    '/FontDescriptor': {'/Type': '/FontDescriptor',\n",
       "     '/FontName': '/Mulish-SemiBold,Bold',\n",
       "     '/FontBBox': [-27, -227, 1123, 752],\n",
       "     '/Flags': 32,\n",
       "     '/CapHeight': 0,\n",
       "     '/Ascent': 0,\n",
       "     '/Descent': 0,\n",
       "     '/StemV': 50,\n",
       "     '/ItalicAngle': 0,\n",
       "     '/FontFile3': {'/Subtype': '/Type1C', '/Filter': '/FlateDecode'}}},\n",
       "   '/F0': {'/Type': '/Font',\n",
       "    '/Subtype': '/Type1',\n",
       "    '/BaseFont': '/Mulish-SemiBold',\n",
       "    '/FirstChar': 32,\n",
       "    '/LastChar': 177,\n",
       "    '/Widths': [267,\n",
       "     0,\n",
       "     0,\n",
       "     0,\n",
       "     0,\n",
       "     859,\n",
       "     678,\n",
       "     240,\n",
       "     334,\n",
       "     334,\n",
       "     0,\n",
       "     0,\n",
       "     240,\n",
       "     433,\n",
       "     240,\n",
       "     299,\n",
       "     600,\n",
       "     600,\n",
       "     600,\n",
       "     600,\n",
       "     600,\n",
       "     600,\n",
       "     600,\n",
       "     600,\n",
       "     600,\n",
       "     600,\n",
       "     240,\n",
       "     0,\n",
       "     0,\n",
       "     0,\n",
       "     600,\n",
       "     0,\n",
       "     939,\n",
       "     741,\n",
       "     685,\n",
       "     684,\n",
       "     753,\n",
       "     591,\n",
       "     567,\n",
       "     735,\n",
       "     770,\n",
       "     270,\n",
       "     344,\n",
       "     648,\n",
       "     552,\n",
       "     850,\n",
       "     750,\n",
       "     779,\n",
       "     658,\n",
       "     779,\n",
       "     697,\n",
       "     633,\n",
       "     610,\n",
       "     735,\n",
       "     708,\n",
       "     1116,\n",
       "     660,\n",
       "     617,\n",
       "     602,\n",
       "     0,\n",
       "     0,\n",
       "     0,\n",
       "     0,\n",
       "     0,\n",
       "     240,\n",
       "     609,\n",
       "     609,\n",
       "     499,\n",
       "     609,\n",
       "     546,\n",
       "     351,\n",
       "     613,\n",
       "     593,\n",
       "     248,\n",
       "     248,\n",
       "     532,\n",
       "     248,\n",
       "     888,\n",
       "     593,\n",
       "     581,\n",
       "     609,\n",
       "     609,\n",
       "     376,\n",
       "     498,\n",
       "     363,\n",
       "     585,\n",
       "     537,\n",
       "     875,\n",
       "     541,\n",
       "     537,\n",
       "     521,\n",
       "     0,\n",
       "     0,\n",
       "     0,\n",
       "     0,\n",
       "     0,\n",
       "     0,\n",
       "     0,\n",
       "     0,\n",
       "     0,\n",
       "     0,\n",
       "     0,\n",
       "     0,\n",
       "     0,\n",
       "     0,\n",
       "     0,\n",
       "     0,\n",
       "     0,\n",
       "     0,\n",
       "     0,\n",
       "     0,\n",
       "     0,\n",
       "     0,\n",
       "     0,\n",
       "     0,\n",
       "     0,\n",
       "     0,\n",
       "     0,\n",
       "     0,\n",
       "     0,\n",
       "     0,\n",
       "     0,\n",
       "     0,\n",
       "     0,\n",
       "     0,\n",
       "     0,\n",
       "     0,\n",
       "     0,\n",
       "     0,\n",
       "     0,\n",
       "     0,\n",
       "     0,\n",
       "     0,\n",
       "     0,\n",
       "     0,\n",
       "     0,\n",
       "     0,\n",
       "     232,\n",
       "     0,\n",
       "     0,\n",
       "     0,\n",
       "     0,\n",
       "     0,\n",
       "     0,\n",
       "     0,\n",
       "     505],\n",
       "    '/FontDescriptor': {'/Type': '/FontDescriptor',\n",
       "     '/FontName': '/Mulish-SemiBold',\n",
       "     '/FontBBox': [-58, -227, 1086, 751],\n",
       "     '/Flags': 32,\n",
       "     '/CapHeight': 0,\n",
       "     '/Ascent': 0,\n",
       "     '/Descent': 0,\n",
       "     '/StemV': 50,\n",
       "     '/ItalicAngle': 0,\n",
       "     '/FontFile3': {'/Subtype': '/Type1C', '/Filter': '/FlateDecode'}}}},\n",
       "  '/XObject': {'/O': {'/Type': '/XObject',\n",
       "    '/Subtype': '/Image',\n",
       "    '/Width': 998,\n",
       "    '/Height': 244,\n",
       "    '/BitsPerComponent': 8,\n",
       "    '/ColorSpace': '/DeviceRGB',\n",
       "    '/Filter': '/DCTDecode'},\n",
       "   '/R': {'/Type': '/XObject',\n",
       "    '/Subtype': '/Form',\n",
       "    '/FormType': 1,\n",
       "    '/BBox': [0.41732283, 823.88189, 538.16535, 842.88976],\n",
       "    '/Matrix': [1, 0, 0, 1, 0, 0],\n",
       "    '/Resources': {'/ProcSet': ['/PDF',\n",
       "      '/Text',\n",
       "      '/ImageB',\n",
       "      '/ImageC',\n",
       "      '/ImageI']},\n",
       "    '/Filter': '/FlateDecode'},\n",
       "   '/R2': {'/Type': '/XObject',\n",
       "    '/Subtype': '/Form',\n",
       "    '/FormType': 1,\n",
       "    '/BBox': [-1, 829.26772, 539.58268, 831.83465],\n",
       "    '/Matrix': [1, 0, 0, 1, 0, 0],\n",
       "    '/Resources': {'/ProcSet': ['/PDF',\n",
       "      '/Text',\n",
       "      '/ImageB',\n",
       "      '/ImageC',\n",
       "      '/ImageI']},\n",
       "    '/Filter': '/FlateDecode'},\n",
       "   '/R0': {'/Type': '/XObject',\n",
       "    '/Subtype': '/Form',\n",
       "    '/FormType': 1,\n",
       "    '/BBox': [-1, 823.66362, 539.58268, 826.23055],\n",
       "    '/Matrix': [1, 0, 0, 1, 0, 0],\n",
       "    '/Resources': {'/ProcSet': ['/PDF',\n",
       "      '/Text',\n",
       "      '/ImageB',\n",
       "      '/ImageC',\n",
       "      '/ImageI']},\n",
       "    '/Filter': '/FlateDecode'},\n",
       "   '/R1': {'/Type': '/XObject',\n",
       "    '/Subtype': '/Form',\n",
       "    '/FormType': 1,\n",
       "    '/BBox': [-1, 815.1937, 539.58268, 817.76063],\n",
       "    '/Matrix': [1, 0, 0, 1, 0, 0],\n",
       "    '/Resources': {'/ProcSet': ['/PDF',\n",
       "      '/Text',\n",
       "      '/ImageB',\n",
       "      '/ImageC',\n",
       "      '/ImageI']},\n",
       "    '/Filter': '/FlateDecode'},\n",
       "   '/R3': {'/Type': '/XObject',\n",
       "    '/Subtype': '/Form',\n",
       "    '/FormType': 1,\n",
       "    '/BBox': [-1, 826.71654, 539.58268, 842.88976],\n",
       "    '/Matrix': [1, 0, 0, 1, 0, 0],\n",
       "    '/Resources': {'/ProcSet': ['/PDF',\n",
       "      '/Text',\n",
       "      '/ImageB',\n",
       "      '/ImageC',\n",
       "      '/ImageI']},\n",
       "    '/Filter': '/FlateDecode'},\n",
       "   '/R4': {'/Type': '/XObject',\n",
       "    '/Subtype': '/Form',\n",
       "    '/FormType': 1,\n",
       "    '/BBox': [0, 0, 0, 0],\n",
       "    '/Matrix': [1, 0, 0, 1, 0, 0],\n",
       "    '/Resources': {'/ProcSet': ['/PDF',\n",
       "      '/Text',\n",
       "      '/ImageB',\n",
       "      '/ImageC',\n",
       "      '/ImageI']},\n",
       "    '/Filter': '/FlateDecode'},\n",
       "   '/R7': {'/Type': '/XObject',\n",
       "    '/Subtype': '/Form',\n",
       "    '/FormType': 1,\n",
       "    '/BBox': [0, 0, 0, 0],\n",
       "    '/Matrix': [1, 0, 0, 1, 0, 0],\n",
       "    '/Resources': {'/ProcSet': ['/PDF',\n",
       "      '/Text',\n",
       "      '/ImageB',\n",
       "      '/ImageC',\n",
       "      '/ImageI']},\n",
       "    '/Filter': '/FlateDecode'},\n",
       "   '/R5': {'/Type': '/XObject',\n",
       "    '/Subtype': '/Form',\n",
       "    '/FormType': 1,\n",
       "    '/BBox': [0, 0, 0, 0],\n",
       "    '/Matrix': [1, 0, 0, 1, 0, 0],\n",
       "    '/Resources': {'/ProcSet': ['/PDF',\n",
       "      '/Text',\n",
       "      '/ImageB',\n",
       "      '/ImageC',\n",
       "      '/ImageI']},\n",
       "    '/Filter': '/FlateDecode'},\n",
       "   '/R6': {'/Type': '/XObject',\n",
       "    '/Subtype': '/Form',\n",
       "    '/FormType': 1,\n",
       "    '/BBox': [0, 0, 0, 0],\n",
       "    '/Matrix': [1, 0, 0, 1, 0, 0],\n",
       "    '/Resources': {'/ProcSet': ['/PDF',\n",
       "      '/Text',\n",
       "      '/ImageB',\n",
       "      '/ImageC',\n",
       "      '/ImageI']},\n",
       "    '/Filter': '/FlateDecode'},\n",
       "   '/R8': {'/Type': '/XObject',\n",
       "    '/Subtype': '/Form',\n",
       "    '/FormType': 1,\n",
       "    '/BBox': [0, 0, 0, 0],\n",
       "    '/Matrix': [1, 0, 0, 1, 0, 0],\n",
       "    '/Resources': {'/ProcSet': ['/PDF',\n",
       "      '/Text',\n",
       "      '/ImageB',\n",
       "      '/ImageC',\n",
       "      '/ImageI']},\n",
       "    '/Filter': '/FlateDecode'}}},\n",
       " '/Contents': {'/Filter': '/FlateDecode'},\n",
       " '/MediaBox': [0, 0, 595.27559, 841.88976]}"
      ]
     },
     "execution_count": 81,
     "metadata": {},
     "output_type": "execute_result"
    }
   ],
   "source": [
    "page1"
   ]
  },
  {
   "cell_type": "code",
   "execution_count": 84,
   "id": "93ed766d",
   "metadata": {},
   "outputs": [
    {
     "data": {
      "text/plain": [
       "'Statement of  Tran sactions in Savi ngs Accoun t XXX XXXXX2943 in INR for the period  August 01, 2023 - August 31, 2023\\nDAT E MOD E PARTICULA RS DEPOSITS WITH DRAWA LS BALANCE\\n05-08 -202 3 UPI/3583 49032753/Payment from  Ph/Q961912846@y bl/Ye s \\nBank Ltd/YBL58 ab728dcffb44df97251ae 17e3fbc4b/60.00 35,844.05\\n05-08 -202 3 UPI/3217 57067304/Payment from  \\nPh/paytmqr 28100505/Paytm Payments \\n/YBL795 527917fbf47 87a693f14f0956 5f94155.00 35,689.05\\n07-08 -202 3 UPI/3218 57332112/Payment from  Ph/Bank Ac count \\nXX/Punjab  Nation al/YBL4fea172579cf4cd5b ed0dd43 c6e30037100.00 35,589.05\\n07-08 -202 3 UPI/3218 69302724/Payment from  Ph/Bank Ac count \\nXX/Punjab  \\nNational/YBL6f28 8e0b e3424e609e3c563 2a9047a3b2,900.0 0 32,689.05\\n07-08 -202 3 UPI/3218 55311919/Payment from  \\nPh/paytmqr 28100505/Paytm Payments \\n/YBL421 929c93 ec44bd6811c69266284eec 228.00 32,661.05\\n07-08 -202 3 UPI/3584 49741087/Payment from  Ph/EURON ET@yb l/Yes \\nBank Ltd/YBLc5f9 8a1f a0b04efaa7181d 1f4406 2943/211.00 32,450.05\\n07-08 -202 3 UPI/3219 53717984/Payment from  Ph/Bank Ac count X X/Unio n \\nBank of I/Y BL45 29f1f79 e614121a4409 4ee8f03f2587,500.0 0 24,950.05\\n07-08 -202 3 UPI/3585 19401272/Payment from  Ph/99583054 82@yb l/Bank \\nof Ba roda/YBL52 834b5ced4f4e9d98dcaf6 8651abd71/10.00 24,940.05\\n08-08 -202 3 UPI/3586 98822017/Payment from  Ph/AIRTELPREDIRECT/Y es \\nBank Ltd/YBL5effc42 e4d1343e7b0d1b02f689ab126/669.00 24,271.05\\n09-08 -202 3 UPI/3587 26121026/Payment from  \\nPh/8191071786 @ybl /Punjab \\nNational/YBL516 dab08 50624f318123cd 66694 f0208/6,500.0 0 17,771.05\\n10-08 -202 3OTHER ATMS NFS/ CPCN0224 /CASH W DL/10-08-23 9,500.0 0 8,271.05\\n10-08 -202 3OTHER ATMS NFS/ CPCN0224 /CASH W DL/10-08-23 7,000.0 0 1,271.05\\n14-08 -202 3 UPI/3591 71376121/Payment from  Ph/96398575 42@yb l/Sta te \\nBank Of I/YBL96 9a0459c3424b20ac9e6 67608269b86100. 00  1,371.05\\n14-08 -202 3 UPI/3591 11143495/Payment from  Ph/96398575 42@yb l/Sta te \\nBank Of I/YBLe8 fd8c29ab974e5890cd6916fee8e85d5,000. 00  6,371.05\\n14-08 -202 3OTHER ATMS NFS/ 03448621/CASH  WDL/13-0 8-23 5,000.0 0 1,371.05\\n16-08 -202 3 UPI/3594 19728300/Payment from  Ph/99583054 82@yb l/Bank \\nof Ba roda/YBL8c7 90bddc09345a0aa1e8ff 5faaab767/10.00 1,361.05\\n17-08 -202 3 UPI/3595 16646324/Payment from  Ph/99583054 82@yb l/Bank \\nof Ba roda/YBL9e72 29f8 86364dffb5fe1a99c712 1964/10.00 1,351.05\\n17-08 -202 3 UPI/3595 89171942/Payment from  Ph/abhishek.s orlan/IC ICI \\nBank/Y BLf994c6 da8927495ab0ce2296cdcaebbd/200.00 1,151.05\\n18-08 -202 3 UPI/3230 93358618/Payment from  Ph/70859131 37@yb l/Bank \\nof India /YBLb64 13fa86 c63405c926a1275 b5ef8 aee/40.00 1,111.05\\n18-08 -202 3 UPI/3230 79067113/Payment from  \\nPh/AMZN0 000035819@/Paytm Payments  \\n/YBLc 50c5d500c9e46 7fb2 46fd9e2e517 36484.00 1,027.05\\n18-08 -202 3 UPI/3596 63696515/Payment from  Ph/Q188976852@y bl/Axis \\nBank Ltd./YBL23f85c5e0ff342a4a044a078 861b873 d/220.00 807.05\\n18-08 -202 3 UPI/3596 29888696/Payment from  Ph/Q587414740@y bl/Ye s \\nBank Ltd/YBL16 0c049 d0e7b4c73bff342 c90e75cb de/15.00 792.05\\n18-08 -202 3 UPI/3230 39112657/Payment from  \\nPh/paytmqr 28100505/Paytm Payments \\n/YBL93a4 1e61e76 c47ce83b e05139b1226 d240.00 752.05\\n18-08 -202 3 UPI/3230 55804948/Payment from  \\nPh/paytmqr 28100505/Paytm Payments \\n/YBL1c14e5b4 a7ad435bbe7f422 6aa73f9d 220.00 732.05\\n18-08 -202 3 UPI/3230 13293043/Payment from  \\nPh/paytmqr 28100505/Paytm Payments \\n/YBL9df 7bd1baa1 441d190ec80bfd8f0b04b20.00 712.05\\n19-08 -202 3 UPI/3231 83013360/Payment from  \\nPh/paytmqr 28100505/Paytm Payments \\n/YBL03a0 59eb7 49041c7a8e61ae01d96 7c5027.00 685.05\\n21-08 -202 3 UPI/3233 51415149/Payment from  \\nPh/AMZN0 000035819@/Paytm Payments  \\n/YBLc ed7b5d64 6084ac9bfe4fe5009988 b2443.00 642.05\\n21-08 -202 3 UPI/3233 76804600/Payment from  Ph/paytm qrxhgl k8de/ Paytm\\n Payments /YBL4a9 46ba5abbe4f54b8cc4 2016395 ad5c10.00 632.05\\n21-08 -202 3 UPI/3599 27442407/Payment from  Ph/99583054 82@yb l/Bank \\nof Ba roda/YBL4a5 c4f5 c84bb4d61b7784 3286b58160 5/10.00 622.05\\n21-08 -202 3 UPI/3233 48963396/Payment from  \\nPh/paytmqr 28100505/Paytm Payments \\n/YBL718 9e9bd2 8cf4be89c2a41db19f2aad520.00 602.05\\n21-08 -202 3 UPI/3233 84706585/Payment from  \\nPh/paytmqr 28100505/Paytm Payments \\n/YBLb 1bceeb9803b4eba b5d9958c5329fd2337.00 565.05\\n22-08 -202 3 UPI/3234 31658309/Payment from  \\nPh/AMZN0 000035819@/Paytm Payments  \\n/YBL00d1 4a93ba0 045fd93bea5b1ae54a69b43.00 522.05\\nTotal: 5,100.00 40,482.00 522.05\\nPage 2 of 4 M-31930186-54318'"
      ]
     },
     "execution_count": 84,
     "metadata": {},
     "output_type": "execute_result"
    }
   ],
   "source": [
    "page1.extract_text()"
   ]
  },
  {
   "cell_type": "code",
   "execution_count": 97,
   "id": "742e2295",
   "metadata": {},
   "outputs": [],
   "source": [
    "page2=  file.pages[2]"
   ]
  },
  {
   "cell_type": "code",
   "execution_count": 98,
   "id": "ef1c66f2",
   "metadata": {},
   "outputs": [
    {
     "data": {
      "text/plain": [
       "'Statement of  Tran sactions in Savi ngs Accoun t XXX XXXXX2943 in INR for the period  August 01, 2023 - August 31, 2023\\nDAT E MOD E PARTICULA RS DEPOSITS WITH DRAWA LS BALANCE\\n22-08 -202 3 UPI/3600 24192223/Payment from  Ph/Q188976852@y bl/Axis \\nBank Ltd./YBLe637e41 5e8ab477fb a961a18 e1c1b4 10/100.00 422.05\\n22-08 -202 3 UPI/3234 74801023/Payment from  Ph/paytm qrxhgl k8de/ Paytm\\n Payments /YBL9c87 54a19f82 4382b680 7f2dc9b308ba11.00 411.05\\n22-08 -202 3 UPI/3234 44313530/Payment from  Ph/paytm qr3qfpft7z/ Paytm \\nPaym ents /YBL7 57bfa15 d79947a3a4b45855387f c38775.00 336.05\\n22-08 -202 3 UPI/3234 14532260/Payment from  \\nPh/paytmqr 28100505/Paytm Payments \\n/YBLc 930da55 7a604e55bccb6a28f4 5f2d2d60.00 276.05\\n22-08 -202 3 UPI/3234 94679286/Payment from  \\nPh/paytmqr 28100505/Paytm Payments \\n/YBLa 8b8d4aad0824bdd81ecbc095ab0 464e45.00 231.05\\n22-08 -202 3 UPI/3600 49684592/E131 0/9911944208@y bl/HDFC BANK \\nLTD/YBL79 77f2 dabc114393b344a5d3fede98 2a/60.00 171.05\\n23-08 -202 3 UPI/3601 50608931/Payment from  Ph/Q188976852@y bl/Axis \\nBank Ltd./YBLbe2ffd9ca5e248babfd2a4792a7068 ec/100.00 71.05\\n23-08 -202 3 UPI/3235 65608127/Payment from  \\nPh/AMZN0 000035819@/Paytm Payments  \\n/YBL496 ba3923bd94 d4a94ab4abb551b69a043.00 28.05\\n23-08 -202 3 UPI/3235 70938770/Payment from  \\nPh/paytmqr wc3o8oo 7/Paytm Payments \\n/YBL425 afeb07 dae40fa92bc5799234cd 7da25.00 3.05\\n28-08 -202 3 UPI/3240 79500184/UPI/tiwariabh iadity/Ban k of \\nBaroda /HDF9e04 775b72bb41bb8188cbc14e fdb5d15,000. 00  5,003.05\\n28-08 -202 3 UPI/3606 97886082/Payment from  Ph/gamandevsin gh@y/ Axis \\nBank Ltd./YBLbdd261e4e30d4da28606c067c6a1d17c5,000. 00  10,003.05\\n28-08 -202 3 UPI/3606 63693111/Payment from  Ph/76920745 25@yb l/Sta te \\nBank Of I/YBLc5bc3 c826bc749febc8d362743 7367b5/10,000.0 0 3.05\\n29-08 -202 3 UPI/3241 50950425/Payment from  Ph/96398575 42@yb l/Sta te \\nBank Of I/YBL59 adc4 03d3f34 fff800e834e80f 2f9ce5,000. 00  5,003.05\\n29-08 -202 3 UPI/3241 49983418/Payment from  Ph/96398575 42@yb l/Uni on \\nBank of I/Y BL84 c335 b7827a40d5a7d81f8a3 af2a9eb3,700. 00  8,703.05\\n29-08 -202 3OTHER ATMS NFS/ 03448622/CASH  WDL/29-0 8-23 5,000.0 0 3,703.05\\n29-08 -202 3 UPI/3607 12152809/Payment from  Ph/96398575 42@yb l/Sta te \\nBank Of I/YBLaa93 3e6081024a68b55320be80a2350 8500. 00  4,203.05\\n29-08 -202 3 BIL/PAVC/00 0715770934/Visa/Sahdev 4,051.9 6 151.09\\n30-08 -202 3 UPI/3242 18899211/Payment from  \\nPh/paytmqr 28100505/Paytm Payments \\n/YBL133 39bad0ac5 4a098543f7738759f65210.00 141.09\\n30-08 -202 3 UPI/3242 20478621/Payment from  Ph/96398575 42@yb l/Uni on \\nBank of I/Y BLff25 d9d249cd4843bcca33b72d5c 8eb42,000. 00  2,141.09\\n30-08 -202 3 UPI/3242 51011227/Payment from  Ph/96398575 42@yb l/Uni on \\nBank of I/Y BLd0 59e2f6218841d8918082ed31475 1653,000. 00  5,141.09\\n30-08 -202 3OTHER ATMS NFS/ 00610008/CASH  WDL/30-0 8-23 5,000.0 0 141.09\\n31-08 -202 3CMS TRANSAC TIONCMS/ C MS3533846015/MOTHER SON TECHNOL OGY \\nSERVICE S38,636. 00  38,777.09\\n31-08 -202 3 UPI/3609 33072307/Payment from  Ph/99583054 82@yb l/Bank \\nof Ba roda/YBL52 9f1f3937aa453488a70a78f92 e98f2/10.00 38,767.09\\n31-08 -202 3OTHER ATMS NFS/ CPCN0224 /CASH W DL/31-08-23 1,000.0 0 37,767.09\\n31-08 -202 3 UPI/3243 04333925/Payment from  \\nPh/paytmqr y8vess4 n/Paytm Paym ents \\n/YBL5d38 702ec58 c4c34bbb8895e71c7094710.00 37,757.09\\n31-08 -202 3 UPI/3243 50353930/E131 0/96503780409 30@p/P aytm \\nPaym ents /YBL2 6cf82 2eee3148718b86ed9d2206 b2aa/30.00 37,727.09\\n31-08 -202 3 UPI/3243 44004882/Payment from  Ph/83830798 94@yb l/Bank \\nof India /YBL38b1ad 9e821140698c23c118e41e 7d5d/5,000.0 0 32,727.09\\nTotal: 62,836.00 30,630.96 32,72 7.09\\nAccou nt Related Other Informa tion\\nACC OUN T TYPE ACCO UNT NUMBER MICR CODE IFS CODE NAME OF N OMIN EE*\\nSavings XXXXXXXX 2943 1102 2933 2 ICIC00072 18 -\\n* Nomin ee name is displayed only  upon specif ic co nsent of the customer.\\nSincerely,\\nTeam  ICICI BankLegends for transa ctions in your Account Statement\\nVAT /MAT/N FS- Cash Withdrawal at other bank©s AT M\\nEBA-Tran saction at ICICIDirect\\nVPS/IP S-Debit Car d transac tion\\nRTGS- Real Time  Gross Sett lement (Instant transfer ab ove Rs 2 Lakh )INF - Inter net fu nds transfer in linked accounts\\nBIL - Internet bill pay ment or funds  transfer to third party\\nTOP - Mobile Rec harge\\nNEFT - National Electronic Fund Transfer\\nThis is a system-ge nerated statement . Hence, it  does not  require any signature.\\nYou can now download the Account Statement using the iMobile Pay app and Internet Banking.\\nPage 3 of 4 M-31930186-54318'"
      ]
     },
     "execution_count": 98,
     "metadata": {},
     "output_type": "execute_result"
    }
   ],
   "source": [
    "page2.extract_text()"
   ]
  },
  {
   "cell_type": "code",
   "execution_count": 89,
   "id": "67318b64",
   "metadata": {},
   "outputs": [
    {
     "name": "stdout",
     "output_type": "stream",
     "text": [
      "{'/Type': '/Page', '/Parent': IndirectObject(3, 0, 2974257765296), '/Resources': {'/ProcSet': IndirectObject(2, 0, 2974257765296), '/Font': {'/F': IndirectObject(5, 0, 2974257765296), '/F0': IndirectObject(14, 0, 2974257765296), '/F1': IndirectObject(15, 0, 2974257765296), '/F2': IndirectObject(17, 0, 2974257765296)}, '/XObject': {'/O': IndirectObject(26, 0, 2974257765296), '/R': IndirectObject(6, 0, 2974257765296), '/R0': IndirectObject(7, 0, 2974257765296), '/R1': IndirectObject(8, 0, 2974257765296), '/R2': IndirectObject(9, 0, 2974257765296), '/R3': IndirectObject(10, 0, 2974257765296), '/R4': IndirectObject(11, 0, 2974257765296), '/R5': IndirectObject(12, 0, 2974257765296), '/R6': IndirectObject(13, 0, 2974257765296), '/R7': IndirectObject(18, 0, 2974257765296), '/R8': IndirectObject(19, 0, 2974257765296), '/R9': IndirectObject(20, 0, 2974257765296), '/R10': IndirectObject(21, 0, 2974257765296), '/R11': IndirectObject(22, 0, 2974257765296), '/R12': IndirectObject(23, 0, 2974257765296), '/R13': IndirectObject(24, 0, 2974257765296), '/R14': IndirectObject(25, 0, 2974257765296), '/R15': IndirectObject(27, 0, 2974257765296)}}, '/Contents': IndirectObject(28, 0, 2974257765296), '/MediaBox': RectangleObject([0, 0, 595.27559, 841.88976]), '/ArtBox': RectangleObject([0, 0, 595.27559, 841.88976]), '/BleedBox': RectangleObject([0, 0, 595.27559, 841.88976]), '/CropBox': RectangleObject([0, 0, 595.27559, 841.88976]), '/TrimBox': RectangleObject([0, 0, 595.27559, 841.88976])}\n",
      "{'/Type': '/Page', '/Parent': IndirectObject(3, 0, 2974257765296), '/Resources': {'/ProcSet': IndirectObject(2, 0, 2974257765296), '/Font': {'/F': IndirectObject(5, 0, 2974257765296), '/F0': IndirectObject(14, 0, 2974257765296)}, '/XObject': {'/O': IndirectObject(26, 0, 2974257765296), '/R': IndirectObject(8, 0, 2974257765296), '/R2': IndirectObject(9, 0, 2974257765296), '/R0': IndirectObject(10, 0, 2974257765296), '/R1': IndirectObject(11, 0, 2974257765296), '/R3': IndirectObject(12, 0, 2974257765296), '/R4': IndirectObject(18, 0, 2974257765296), '/R7': IndirectObject(19, 0, 2974257765296), '/R5': IndirectObject(20, 0, 2974257765296), '/R6': IndirectObject(21, 0, 2974257765296), '/R8': IndirectObject(22, 0, 2974257765296)}}, '/Contents': IndirectObject(30, 0, 2974257765296), '/MediaBox': [0, 0, 595.27559, 841.88976]}\n",
      "{'/Type': '/Page', '/Parent': IndirectObject(3, 0, 2974257765296), '/Resources': {'/ProcSet': IndirectObject(2, 0, 2974257765296), '/Font': {'/F': IndirectObject(5, 0, 2974257765296), '/F0': IndirectObject(14, 0, 2974257765296)}, '/XObject': {'/O': IndirectObject(26, 0, 2974257765296), '/R': IndirectObject(8, 0, 2974257765296), '/R2': IndirectObject(9, 0, 2974257765296), '/R0': IndirectObject(10, 0, 2974257765296), '/R1': IndirectObject(11, 0, 2974257765296), '/R3': IndirectObject(12, 0, 2974257765296), '/R12': IndirectObject(18, 0, 2974257765296), '/R15': IndirectObject(19, 0, 2974257765296), '/R13': IndirectObject(20, 0, 2974257765296), '/R14': IndirectObject(21, 0, 2974257765296), '/R16': IndirectObject(22, 0, 2974257765296), '/R4': IndirectObject(32, 0, 2974257765296), '/R5': IndirectObject(33, 0, 2974257765296), '/R6': IndirectObject(34, 0, 2974257765296), '/R7': IndirectObject(35, 0, 2974257765296), '/R8': IndirectObject(36, 0, 2974257765296), '/R9': IndirectObject(37, 0, 2974257765296), '/R10': IndirectObject(38, 0, 2974257765296), '/R11': IndirectObject(39, 0, 2974257765296)}}, '/Contents': IndirectObject(40, 0, 2974257765296), '/MediaBox': [0, 0, 595.27559, 841.88976]}\n",
      "{'/Type': '/Page', '/Parent': IndirectObject(3, 0, 2974257765296), '/Resources': {'/ProcSet': IndirectObject(2, 0, 2974257765296), '/Font': {'/F': IndirectObject(5, 0, 2974257765296), '/F0': IndirectObject(14, 0, 2974257765296), '/F1': IndirectObject(15, 0, 2974257765296), '/F2': IndirectObject(43, 0, 2974257765296)}, '/XObject': {'/O': IndirectObject(26, 0, 2974257765296), '/R': IndirectObject(49, 0, 2974257765296), '/R0': IndirectObject(50, 0, 2974257765296)}}, '/Contents': IndirectObject(51, 0, 2974257765296), '/MediaBox': [0, 0, 595.27559, 841.88976], '/Annots': [IndirectObject(42, 0, 2974257765296), IndirectObject(44, 0, 2974257765296), IndirectObject(45, 0, 2974257765296), IndirectObject(46, 0, 2974257765296), IndirectObject(47, 0, 2974257765296), IndirectObject(48, 0, 2974257765296)]}\n"
     ]
    }
   ],
   "source": [
    "for i in range(0,len(file.pages)):\n",
    "    print(file.pages[i])"
   ]
  },
  {
   "cell_type": "markdown",
   "id": "2bb6b586",
   "metadata": {},
   "source": [
    "#  Rotate the Pdf in clock and Anticlock wise direction"
   ]
  },
  {
   "cell_type": "code",
   "execution_count": 101,
   "id": "e5ea9e60",
   "metadata": {},
   "outputs": [],
   "source": [
    "import PyPDF2 as pdf4"
   ]
  },
  {
   "cell_type": "code",
   "execution_count": 103,
   "id": "6c6c40e8",
   "metadata": {},
   "outputs": [],
   "source": [
    "f   =open('statement of purpose .pdf','rb')"
   ]
  },
  {
   "cell_type": "code",
   "execution_count": 107,
   "id": "b8fa0fee",
   "metadata": {},
   "outputs": [
    {
     "data": {
      "text/plain": [
       "{'/Type': '/Page',\n",
       " '/Parent': {'/Type': '/Pages',\n",
       "  '/Count': 1,\n",
       "  '/Kids': [IndirectObject(3, 0, 2972173145952)]},\n",
       " '/Resources': {'/ExtGState': {'/GS5': {'/Type': '/ExtGState',\n",
       "    '/BM': '/Normal',\n",
       "    '/ca': 1},\n",
       "   '/GS8': {'/Type': '/ExtGState', '/BM': '/Normal', '/CA': 1}},\n",
       "  '/Font': {'/F1': {'/Type': '/Font',\n",
       "    '/Subtype': '/TrueType',\n",
       "    '/Name': '/F1',\n",
       "    '/BaseFont': '/TimesNewRomanPSMT',\n",
       "    '/Encoding': '/WinAnsiEncoding',\n",
       "    '/FontDescriptor': {'/Type': '/FontDescriptor',\n",
       "     '/FontName': '/TimesNewRomanPSMT',\n",
       "     '/Flags': 32,\n",
       "     '/ItalicAngle': 0,\n",
       "     '/Ascent': 891,\n",
       "     '/Descent': -216,\n",
       "     '/CapHeight': 693,\n",
       "     '/AvgWidth': 401,\n",
       "     '/MaxWidth': 2614,\n",
       "     '/FontWeight': 400,\n",
       "     '/XHeight': 250,\n",
       "     '/Leading': 42,\n",
       "     '/StemV': 40,\n",
       "     '/FontBBox': [-568, -216, 2046, 693]},\n",
       "    '/FirstChar': 32,\n",
       "    '/LastChar': 122,\n",
       "    '/Widths': [250,\n",
       "     0,\n",
       "     0,\n",
       "     0,\n",
       "     0,\n",
       "     0,\n",
       "     0,\n",
       "     180,\n",
       "     0,\n",
       "     0,\n",
       "     0,\n",
       "     0,\n",
       "     250,\n",
       "     333,\n",
       "     250,\n",
       "     0,\n",
       "     0,\n",
       "     0,\n",
       "     0,\n",
       "     0,\n",
       "     0,\n",
       "     0,\n",
       "     0,\n",
       "     0,\n",
       "     0,\n",
       "     0,\n",
       "     0,\n",
       "     0,\n",
       "     0,\n",
       "     0,\n",
       "     0,\n",
       "     0,\n",
       "     0,\n",
       "     722,\n",
       "     667,\n",
       "     667,\n",
       "     722,\n",
       "     0,\n",
       "     0,\n",
       "     722,\n",
       "     0,\n",
       "     333,\n",
       "     0,\n",
       "     0,\n",
       "     0,\n",
       "     889,\n",
       "     0,\n",
       "     0,\n",
       "     0,\n",
       "     0,\n",
       "     0,\n",
       "     556,\n",
       "     611,\n",
       "     722,\n",
       "     0,\n",
       "     944,\n",
       "     0,\n",
       "     0,\n",
       "     0,\n",
       "     0,\n",
       "     0,\n",
       "     0,\n",
       "     0,\n",
       "     0,\n",
       "     0,\n",
       "     444,\n",
       "     500,\n",
       "     444,\n",
       "     500,\n",
       "     444,\n",
       "     333,\n",
       "     500,\n",
       "     500,\n",
       "     278,\n",
       "     278,\n",
       "     500,\n",
       "     278,\n",
       "     778,\n",
       "     500,\n",
       "     500,\n",
       "     500,\n",
       "     500,\n",
       "     333,\n",
       "     389,\n",
       "     278,\n",
       "     500,\n",
       "     500,\n",
       "     722,\n",
       "     0,\n",
       "     500,\n",
       "     444]},\n",
       "   '/F2': {'/Type': '/Font',\n",
       "    '/Subtype': '/TrueType',\n",
       "    '/Name': '/F2',\n",
       "    '/BaseFont': '/TimesNewRomanPS-BoldMT',\n",
       "    '/Encoding': '/WinAnsiEncoding',\n",
       "    '/FontDescriptor': {'/Type': '/FontDescriptor',\n",
       "     '/FontName': '/TimesNewRomanPS-BoldMT',\n",
       "     '/Flags': 32,\n",
       "     '/ItalicAngle': 0,\n",
       "     '/Ascent': 891,\n",
       "     '/Descent': -216,\n",
       "     '/CapHeight': 677,\n",
       "     '/AvgWidth': 427,\n",
       "     '/MaxWidth': 2558,\n",
       "     '/FontWeight': 700,\n",
       "     '/XHeight': 250,\n",
       "     '/Leading': 42,\n",
       "     '/StemV': 42,\n",
       "     '/FontBBox': [-558, -216, 2000, 677]},\n",
       "    '/FirstChar': 32,\n",
       "    '/LastChar': 85,\n",
       "    '/Widths': [250,\n",
       "     0,\n",
       "     0,\n",
       "     0,\n",
       "     0,\n",
       "     0,\n",
       "     0,\n",
       "     0,\n",
       "     0,\n",
       "     0,\n",
       "     0,\n",
       "     0,\n",
       "     0,\n",
       "     0,\n",
       "     0,\n",
       "     0,\n",
       "     0,\n",
       "     0,\n",
       "     0,\n",
       "     0,\n",
       "     0,\n",
       "     0,\n",
       "     0,\n",
       "     0,\n",
       "     0,\n",
       "     0,\n",
       "     0,\n",
       "     0,\n",
       "     0,\n",
       "     0,\n",
       "     0,\n",
       "     0,\n",
       "     0,\n",
       "     722,\n",
       "     0,\n",
       "     0,\n",
       "     0,\n",
       "     667,\n",
       "     611,\n",
       "     0,\n",
       "     0,\n",
       "     0,\n",
       "     0,\n",
       "     0,\n",
       "     0,\n",
       "     944,\n",
       "     722,\n",
       "     778,\n",
       "     611,\n",
       "     0,\n",
       "     722,\n",
       "     556,\n",
       "     667,\n",
       "     722]},\n",
       "   '/F3': {'/Type': '/Font',\n",
       "    '/Subtype': '/TrueType',\n",
       "    '/Name': '/F3',\n",
       "    '/BaseFont': '/BCDEEE+Calibri',\n",
       "    '/Encoding': '/WinAnsiEncoding',\n",
       "    '/FontDescriptor': {'/Type': '/FontDescriptor',\n",
       "     '/FontName': '/BCDEEE+Calibri',\n",
       "     '/Flags': 32,\n",
       "     '/ItalicAngle': 0,\n",
       "     '/Ascent': 750,\n",
       "     '/Descent': -250,\n",
       "     '/CapHeight': 750,\n",
       "     '/AvgWidth': 521,\n",
       "     '/MaxWidth': 1743,\n",
       "     '/FontWeight': 400,\n",
       "     '/XHeight': 250,\n",
       "     '/StemV': 52,\n",
       "     '/FontBBox': [-503, -250, 1240, 750],\n",
       "     '/FontFile2': {'/Filter': '/FlateDecode', '/Length1': 73420}},\n",
       "    '/FirstChar': 32,\n",
       "    '/LastChar': 32,\n",
       "    '/Widths': [226]}},\n",
       "  '/ProcSet': ['/PDF', '/Text', '/ImageB', '/ImageC', '/ImageI']},\n",
       " '/MediaBox': [0, 0, 612, 792],\n",
       " '/Contents': {'/Filter': '/FlateDecode'},\n",
       " '/Group': {'/Type': '/Group', '/S': '/Transparency', '/CS': '/DeviceRGB'},\n",
       " '/Tabs': '/S',\n",
       " '/StructParents': 0,\n",
       " '/Rotate': 90}"
      ]
     },
     "execution_count": 107,
     "metadata": {},
     "output_type": "execute_result"
    }
   ],
   "source": [
    "file = pdf4.PdfReader(f)\n",
    "write   = pdf4.PdfWriter()\n",
    "page = file.pages[0]\n",
    "page.rotate(90)"
   ]
  },
  {
   "cell_type": "code",
   "execution_count": 108,
   "id": "af9bea9c",
   "metadata": {},
   "outputs": [
    {
     "data": {
      "text/plain": [
       "{'/Type': '/Page',\n",
       " '/Resources': {'/ExtGState': {'/GS5': {'/Type': '/ExtGState',\n",
       "    '/BM': '/Normal',\n",
       "    '/ca': 1},\n",
       "   '/GS8': {'/Type': '/ExtGState', '/BM': '/Normal', '/CA': 1}},\n",
       "  '/Font': {'/F1': {'/Type': '/Font',\n",
       "    '/Subtype': '/TrueType',\n",
       "    '/Name': '/F1',\n",
       "    '/BaseFont': '/TimesNewRomanPSMT',\n",
       "    '/Encoding': '/WinAnsiEncoding',\n",
       "    '/FontDescriptor': {'/Type': '/FontDescriptor',\n",
       "     '/FontName': '/TimesNewRomanPSMT',\n",
       "     '/Flags': 32,\n",
       "     '/ItalicAngle': 0,\n",
       "     '/Ascent': 891,\n",
       "     '/Descent': -216,\n",
       "     '/CapHeight': 693,\n",
       "     '/AvgWidth': 401,\n",
       "     '/MaxWidth': 2614,\n",
       "     '/FontWeight': 400,\n",
       "     '/XHeight': 250,\n",
       "     '/Leading': 42,\n",
       "     '/StemV': 40,\n",
       "     '/FontBBox': [-568, -216, 2046, 693]},\n",
       "    '/FirstChar': 32,\n",
       "    '/LastChar': 122,\n",
       "    '/Widths': [250,\n",
       "     0,\n",
       "     0,\n",
       "     0,\n",
       "     0,\n",
       "     0,\n",
       "     0,\n",
       "     180,\n",
       "     0,\n",
       "     0,\n",
       "     0,\n",
       "     0,\n",
       "     250,\n",
       "     333,\n",
       "     250,\n",
       "     0,\n",
       "     0,\n",
       "     0,\n",
       "     0,\n",
       "     0,\n",
       "     0,\n",
       "     0,\n",
       "     0,\n",
       "     0,\n",
       "     0,\n",
       "     0,\n",
       "     0,\n",
       "     0,\n",
       "     0,\n",
       "     0,\n",
       "     0,\n",
       "     0,\n",
       "     0,\n",
       "     722,\n",
       "     667,\n",
       "     667,\n",
       "     722,\n",
       "     0,\n",
       "     0,\n",
       "     722,\n",
       "     0,\n",
       "     333,\n",
       "     0,\n",
       "     0,\n",
       "     0,\n",
       "     889,\n",
       "     0,\n",
       "     0,\n",
       "     0,\n",
       "     0,\n",
       "     0,\n",
       "     556,\n",
       "     611,\n",
       "     722,\n",
       "     0,\n",
       "     944,\n",
       "     0,\n",
       "     0,\n",
       "     0,\n",
       "     0,\n",
       "     0,\n",
       "     0,\n",
       "     0,\n",
       "     0,\n",
       "     0,\n",
       "     444,\n",
       "     500,\n",
       "     444,\n",
       "     500,\n",
       "     444,\n",
       "     333,\n",
       "     500,\n",
       "     500,\n",
       "     278,\n",
       "     278,\n",
       "     500,\n",
       "     278,\n",
       "     778,\n",
       "     500,\n",
       "     500,\n",
       "     500,\n",
       "     500,\n",
       "     333,\n",
       "     389,\n",
       "     278,\n",
       "     500,\n",
       "     500,\n",
       "     722,\n",
       "     0,\n",
       "     500,\n",
       "     444]},\n",
       "   '/F2': {'/Type': '/Font',\n",
       "    '/Subtype': '/TrueType',\n",
       "    '/Name': '/F2',\n",
       "    '/BaseFont': '/TimesNewRomanPS-BoldMT',\n",
       "    '/Encoding': '/WinAnsiEncoding',\n",
       "    '/FontDescriptor': {'/Type': '/FontDescriptor',\n",
       "     '/FontName': '/TimesNewRomanPS-BoldMT',\n",
       "     '/Flags': 32,\n",
       "     '/ItalicAngle': 0,\n",
       "     '/Ascent': 891,\n",
       "     '/Descent': -216,\n",
       "     '/CapHeight': 677,\n",
       "     '/AvgWidth': 427,\n",
       "     '/MaxWidth': 2558,\n",
       "     '/FontWeight': 700,\n",
       "     '/XHeight': 250,\n",
       "     '/Leading': 42,\n",
       "     '/StemV': 42,\n",
       "     '/FontBBox': [-558, -216, 2000, 677]},\n",
       "    '/FirstChar': 32,\n",
       "    '/LastChar': 85,\n",
       "    '/Widths': [250,\n",
       "     0,\n",
       "     0,\n",
       "     0,\n",
       "     0,\n",
       "     0,\n",
       "     0,\n",
       "     0,\n",
       "     0,\n",
       "     0,\n",
       "     0,\n",
       "     0,\n",
       "     0,\n",
       "     0,\n",
       "     0,\n",
       "     0,\n",
       "     0,\n",
       "     0,\n",
       "     0,\n",
       "     0,\n",
       "     0,\n",
       "     0,\n",
       "     0,\n",
       "     0,\n",
       "     0,\n",
       "     0,\n",
       "     0,\n",
       "     0,\n",
       "     0,\n",
       "     0,\n",
       "     0,\n",
       "     0,\n",
       "     0,\n",
       "     722,\n",
       "     0,\n",
       "     0,\n",
       "     0,\n",
       "     667,\n",
       "     611,\n",
       "     0,\n",
       "     0,\n",
       "     0,\n",
       "     0,\n",
       "     0,\n",
       "     0,\n",
       "     944,\n",
       "     722,\n",
       "     778,\n",
       "     611,\n",
       "     0,\n",
       "     722,\n",
       "     556,\n",
       "     667,\n",
       "     722]},\n",
       "   '/F3': {'/Type': '/Font',\n",
       "    '/Subtype': '/TrueType',\n",
       "    '/Name': '/F3',\n",
       "    '/BaseFont': '/BCDEEE+Calibri',\n",
       "    '/Encoding': '/WinAnsiEncoding',\n",
       "    '/FontDescriptor': {'/Type': '/FontDescriptor',\n",
       "     '/FontName': '/BCDEEE+Calibri',\n",
       "     '/Flags': 32,\n",
       "     '/ItalicAngle': 0,\n",
       "     '/Ascent': 750,\n",
       "     '/Descent': -250,\n",
       "     '/CapHeight': 750,\n",
       "     '/AvgWidth': 521,\n",
       "     '/MaxWidth': 1743,\n",
       "     '/FontWeight': 400,\n",
       "     '/XHeight': 250,\n",
       "     '/StemV': 52,\n",
       "     '/FontBBox': [-503, -250, 1240, 750],\n",
       "     '/FontFile2': {'/Filter': '/FlateDecode', '/Length1': 73420}},\n",
       "    '/FirstChar': 32,\n",
       "    '/LastChar': 32,\n",
       "    '/Widths': [226]}},\n",
       "  '/ProcSet': ['/PDF', '/Text', '/ImageB', '/ImageC', '/ImageI']},\n",
       " '/MediaBox': [0, 0, 612, 792],\n",
       " '/Contents': {'/Filter': '/FlateDecode'},\n",
       " '/Group': {'/Type': '/Group', '/S': '/Transparency', '/CS': '/DeviceRGB'},\n",
       " '/Tabs': '/S',\n",
       " '/Rotate': 90,\n",
       " '/Parent': {'/Type': '/Pages',\n",
       "  '/Count': 1,\n",
       "  '/Kids': [IndirectObject(4, 0, 2972173145088)]}}"
      ]
     },
     "execution_count": 108,
     "metadata": {},
     "output_type": "execute_result"
    }
   ],
   "source": [
    "write.add_page(page)"
   ]
  },
  {
   "cell_type": "code",
   "execution_count": 109,
   "id": "33608c40",
   "metadata": {},
   "outputs": [
    {
     "name": "stdout",
     "output_type": "stream",
     "text": [
      "rotated save\n"
     ]
    }
   ],
   "source": [
    "out   =  open('newpdf.pdf','wb')\n",
    "write.write(out)\n",
    "print('rotated save')"
   ]
  },
  {
   "cell_type": "code",
   "execution_count": 110,
   "id": "27dc9758",
   "metadata": {},
   "outputs": [],
   "source": [
    "out.close()\n",
    "f.close()"
   ]
  },
  {
   "cell_type": "code",
   "execution_count": null,
   "id": "9057096b",
   "metadata": {},
   "outputs": [],
   "source": []
  }
 ],
 "metadata": {
  "kernelspec": {
   "display_name": "Python 3",
   "language": "python",
   "name": "python3"
  },
  "language_info": {
   "codemirror_mode": {
    "name": "ipython",
    "version": 3
   },
   "file_extension": ".py",
   "mimetype": "text/x-python",
   "name": "python",
   "nbconvert_exporter": "python",
   "pygments_lexer": "ipython3",
   "version": "3.8.8"
  }
 },
 "nbformat": 4,
 "nbformat_minor": 5
}
