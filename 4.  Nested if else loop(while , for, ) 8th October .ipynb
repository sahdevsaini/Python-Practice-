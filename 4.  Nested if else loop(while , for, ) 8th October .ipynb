{
 "cells": [
  {
   "cell_type": "raw",
   "id": "d1320b30",
   "metadata": {},
   "source": [
    "## Loops\n",
    "\n",
    "1. while loop\n",
    "2. for loop\n",
    "3. Lop control\n",
    "   - break\n",
    "    -continue\n",
    "    -pass\n",
    "4. nested loop\n"
   ]
  },
  {
   "cell_type": "markdown",
   "id": "4bd5c185",
   "metadata": {},
   "source": [
    "## Goverment exams "
   ]
  },
  {
   "cell_type": "code",
   "execution_count": 2,
   "id": "112ca06a",
   "metadata": {},
   "outputs": [
    {
     "name": "stdout",
     "output_type": "stream",
     "text": [
      "Your score is:100\n",
      "I will attept next year\n",
      "Your score is:200\n",
      "I will attept next year\n",
      "Your score is:300\n",
      "I will attept next year\n",
      "Your score is:399\n",
      "I will attept next year\n"
     ]
    }
   ],
   "source": [
    "total_marks=1000\n",
    "cutoff=400\n",
    "scores=[100,200,300,399,500]\n",
    "# I will keep on attempting until i sccceed\n",
    "year=0\n",
    "while scores[year]<=cutoff:\n",
    "    print(f\"Your score is:{scores[year]}\")\n",
    "    print(\"I will attept next year\")\n",
    "    year=year+1"
   ]
  },
  {
   "cell_type": "code",
   "execution_count": null,
   "id": "53922fe6",
   "metadata": {},
   "outputs": [],
   "source": []
  }
 ],
 "metadata": {
  "kernelspec": {
   "display_name": "Python 3",
   "language": "python",
   "name": "python3"
  },
  "language_info": {
   "codemirror_mode": {
    "name": "ipython",
    "version": 3
   },
   "file_extension": ".py",
   "mimetype": "text/x-python",
   "name": "python",
   "nbconvert_exporter": "python",
   "pygments_lexer": "ipython3",
   "version": "3.8.8"
  }
 },
 "nbformat": 4,
 "nbformat_minor": 5
}
