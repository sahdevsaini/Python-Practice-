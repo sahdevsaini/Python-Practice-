{
 "cells": [
  {
   "cell_type": "code",
   "execution_count": 2,
   "id": "4829cc63",
   "metadata": {},
   "outputs": [
    {
     "name": "stdout",
     "output_type": "stream",
     "text": [
      "C:\\Users\\Dell\n"
     ]
    }
   ],
   "source": [
    "cd"
   ]
  },
  {
   "cell_type": "code",
   "execution_count": 3,
   "id": "603add34",
   "metadata": {},
   "outputs": [
    {
     "data": {
      "text/plain": [
       "'C:\\\\Users\\\\Dell'"
      ]
     },
     "execution_count": 3,
     "metadata": {},
     "output_type": "execute_result"
    }
   ],
   "source": [
    "pwd()"
   ]
  },
  {
   "cell_type": "code",
   "execution_count": 4,
   "id": "5b6a1cce",
   "metadata": {},
   "outputs": [
    {
     "name": "stdout",
     "output_type": "stream",
     "text": [
      " Volume in drive C has no label.\n",
      " Volume Serial Number is 8AE7-44BC\n",
      "\n",
      " Directory of C:\\Users\\Dell\n",
      "\n",
      "30-11-2022  12.15 AM    <DIR>          .\n",
      "30-11-2022  12.15 AM    <DIR>          ..\n",
      "24-08-2021  09.37 AM    <DIR>          .astropy\n",
      "23-03-2022  05.26 PM    <DIR>          .BestSoft\n",
      "30-11-2022  12.16 AM    <DIR>          .conda\n",
      "21-08-2021  10.48 PM                25 .condarc\n",
      "21-08-2021  10.47 PM    <DIR>          .continuum\n",
      "31-07-2022  07.46 PM    <DIR>          .dotnet\n",
      "09-11-2021  01.43 PM               104 .gitconfig\n",
      "22-08-2021  06.34 PM    <DIR>          .idlerc\n",
      "30-11-2022  12.14 AM    <DIR>          .ipynb_checkpoints\n",
      "21-08-2021  10.52 PM    <DIR>          .ipython\n",
      "24-01-2022  10.30 PM    <DIR>          .jupyter\n",
      "24-08-2021  12.56 PM    <DIR>          .matplotlib\n",
      "15-02-2022  11.09 PM    <DIR>          .spyder-py3\n",
      "28-08-2021  04.12 PM    <DIR>          .swt\n",
      "31-07-2022  08.13 PM    <DIR>          .templateengine\n",
      "22-08-2021  06.58 PM    <DIR>          .vscode\n",
      "26-10-2021  05.29 PM    <DIR>          __pycache__\n",
      "05-10-2022  10.14 PM            33,868 01 Oct (If and else statement ) .ipynb\n",
      "31-10-2022  04.10 PM             4,877 29 Oct 2022.ipynb\n",
      "22-08-2021  03.03 AM    <DIR>          3D Objects\n",
      "16-10-2022  10.50 PM            12,458 9 OCT if else(Nested if else) loop (while,for ).ipynb\n",
      "18-02-2022  03.21 PM    <DIR>          Anaconda3\n",
      "26-10-2021  05.20 PM                98 app.py\n",
      "16-10-2022  06.35 PM               760 Assingment 7.ipynb\n",
      "02-10-2022  01.45 PM            16,876 Assingment Comulsary  .ipynb\n",
      "13-10-2022  11.07 PM             9,713 Basic program.ipynb\n",
      "22-08-2021  03.03 AM    <DIR>          Contacts\n",
      "05-05-2022  06.30 PM    <DIR>          Data  Structure and algorithma  by Python\n",
      "24-01-2022  10.26 PM    <DIR>          Data Science\n",
      "01-12-2021  11.22 PM    <DIR>          Data Science Tutorial Training basket\n",
      "24-01-2022  10.25 PM    <DIR>          Data structure and Al\n",
      "24-01-2022  10.25 PM    <DIR>          Data Structure and Algorithms by python\n",
      "28-11-2021  09.55 PM               618 Decorators .ipynb\n",
      "23-10-2022  07.41 AM    <DIR>          Desktop\n",
      "28-11-2022  09.38 PM    <DIR>          Documents\n",
      "29-11-2022  09.53 PM    <DIR>          Downloads\n",
      "22-08-2021  03.03 AM    <DIR>          Favorites\n",
      "21-08-2021  11.22 PM             1,437 Flak first notebook.ipynb\n",
      "09-11-2021  01.28 PM    <DIR>          Flask tutorial\n",
      "09-11-2021  01.39 PM        50,186,136 Git-2.33.1-64-bit.exe\n",
      "27-11-2021  02.07 PM    <DIR>          IBA_IOAPDATA\n",
      "29-08-2021  01.01 PM             3,271 K-means implementation .ipynb\n",
      "23-09-2022  11.56 PM    <DIR>          Microsoft\n",
      "31-10-2021  09.35 AM    <DIR>          MinGW\n",
      "11-07-2022  07.50 PM        51,710,821 mingw.exe\n",
      "30-11-2022  12.15 AM               838 Modules and Packages .ipynb\n",
      "24-05-2022  10.58 PM    <DIR>          Music\n",
      "09-10-2022  04.05 PM             1,768 Nested if else loop(while , for, ) 8th October .ipynb\n",
      "01-12-2021  11.12 PM               576 Numpy Notebook.ipynb\n",
      "24-01-2022  10.24 PM               576 One dimensional array.ipynb\n",
      "03-09-2022  11.34 PM    <DIR>          OneDrive\n",
      "19-04-2022  07.18 PM        12,021,576 pat_-win-1_65_1-ea34_2.exe\n",
      "22-08-2021  01.45 PM             5,555 PCA Unsupervised learning TB Datascience.ipynb\n",
      "13-09-2022  11.01 PM    <DIR>          Pictures\n",
      "17-11-2022  08.08 AM            19,334 Practice 2. (For and while loop) .ipynb\n",
      "16-11-2022  09.23 PM            11,060 Practice 3. (Function part 1).ipynb\n",
      "12-12-2021  09.26 PM             8,424 Practice programme for recursion.ipynb\n",
      "17-10-2022  10.56 PM             4,293 Programming  Assignment 2.ipynb\n",
      "16-10-2022  09.29 PM             3,673 Programming Assignment 1.ipynb\n",
      "24-10-2022  02.01 PM            24,056 Programming Assignment 3.ipynb\n",
      "19-10-2022  10.53 PM             5,220 Programming Assignment 4.ipynb\n",
      "26-10-2022  08.51 PM             6,338 Programming Assignment 5 .ipynb\n",
      "08-11-2022  02.02 PM             4,473 Programming Assignment 6.ipynb\n",
      "08-11-2022  06.45 PM             3,914 Programming Assignment 7.ipynb\n",
      "10-11-2022  08.45 PM             2,007 Programming Assignment 8.ipynb\n",
      "24-09-2022  11.40 PM            37,162 Python Basic .ipynb\n",
      "22-08-2021  03.03 AM    <DIR>          Saved Games\n",
      "22-08-2021  03.04 AM    <DIR>          Searches\n",
      "31-07-2022  08.11 PM    <DIR>          source\n",
      "09-10-2022  02.11 AM            21,944 String & Control Flow Statement .ipynb\n",
      "26-08-2021  01.28 PM    <DIR>          templare\n",
      "21-08-2021  11.20 PM             2,725 Untitled.ipynb\n",
      "21-10-2022  12.25 PM               940 Untitled1.ipynb\n",
      "06-02-2022  11.52 PM             8,587 Untitled10.ipynb\n",
      "21-10-2022  12.48 PM             2,712 Untitled11.ipynb\n",
      "08-11-2022  02.04 PM                72 Untitled12.ipynb\n",
      "22-08-2021  03.20 PM             5,555 Untitled2.ipynb\n",
      "25-08-2021  10.14 PM             4,064 Untitled3.ipynb\n",
      "29-08-2021  12.48 PM             3,271 Untitled4.ipynb\n",
      "26-10-2021  05.28 PM             1,048 Untitled5.ipynb\n",
      "26-10-2021  06.08 PM                72 Untitled6.ipynb\n",
      "26-10-2021  06.24 PM             1,328 Untitled7.ipynb\n",
      "16-11-2021  08.20 PM             1,839 Untitled8.ipynb\n",
      "28-11-2021  09.49 PM                72 Untitled9.ipynb\n",
      "06-11-2022  11.01 AM    <DIR>          Videos\n",
      "              46 File(s)    114,196,134 bytes\n",
      "              41 Dir(s)  37,472,583,680 bytes free\n"
     ]
    }
   ],
   "source": [
    "ls"
   ]
  },
  {
   "cell_type": "code",
   "execution_count": 5,
   "id": "61203322",
   "metadata": {},
   "outputs": [
    {
     "data": {
      "text/plain": [
       "<_io.TextIOWrapper name='text.py' mode='w' encoding='cp1252'>"
      ]
     },
     "execution_count": 5,
     "metadata": {},
     "output_type": "execute_result"
    }
   ],
   "source": [
    "open(\"text.py\",'w')"
   ]
  },
  {
   "cell_type": "code",
   "execution_count": 6,
   "id": "13b7d46c",
   "metadata": {},
   "outputs": [
    {
     "name": "stdout",
     "output_type": "stream",
     "text": [
      " Volume in drive C has no label.\n",
      " Volume Serial Number is 8AE7-44BC\n",
      "\n",
      " Directory of C:\\Users\\Dell\n",
      "\n",
      "30-11-2022  12.17 AM    <DIR>          .\n",
      "30-11-2022  12.17 AM    <DIR>          ..\n",
      "24-08-2021  09.37 AM    <DIR>          .astropy\n",
      "23-03-2022  05.26 PM    <DIR>          .BestSoft\n",
      "30-11-2022  12.17 AM    <DIR>          .conda\n",
      "21-08-2021  10.48 PM                25 .condarc\n",
      "21-08-2021  10.47 PM    <DIR>          .continuum\n",
      "31-07-2022  07.46 PM    <DIR>          .dotnet\n",
      "09-11-2021  01.43 PM               104 .gitconfig\n",
      "22-08-2021  06.34 PM    <DIR>          .idlerc\n",
      "30-11-2022  12.14 AM    <DIR>          .ipynb_checkpoints\n",
      "21-08-2021  10.52 PM    <DIR>          .ipython\n",
      "24-01-2022  10.30 PM    <DIR>          .jupyter\n",
      "24-08-2021  12.56 PM    <DIR>          .matplotlib\n",
      "15-02-2022  11.09 PM    <DIR>          .spyder-py3\n",
      "28-08-2021  04.12 PM    <DIR>          .swt\n",
      "31-07-2022  08.13 PM    <DIR>          .templateengine\n",
      "22-08-2021  06.58 PM    <DIR>          .vscode\n",
      "26-10-2021  05.29 PM    <DIR>          __pycache__\n",
      "05-10-2022  10.14 PM            33,868 01 Oct (If and else statement ) .ipynb\n",
      "31-10-2022  04.10 PM             4,877 29 Oct 2022.ipynb\n",
      "22-08-2021  03.03 AM    <DIR>          3D Objects\n",
      "16-10-2022  10.50 PM            12,458 9 OCT if else(Nested if else) loop (while,for ).ipynb\n",
      "18-02-2022  03.21 PM    <DIR>          Anaconda3\n",
      "26-10-2021  05.20 PM                98 app.py\n",
      "16-10-2022  06.35 PM               760 Assingment 7.ipynb\n",
      "02-10-2022  01.45 PM            16,876 Assingment Comulsary  .ipynb\n",
      "13-10-2022  11.07 PM             9,713 Basic program.ipynb\n",
      "22-08-2021  03.03 AM    <DIR>          Contacts\n",
      "05-05-2022  06.30 PM    <DIR>          Data  Structure and algorithma  by Python\n",
      "24-01-2022  10.26 PM    <DIR>          Data Science\n",
      "01-12-2021  11.22 PM    <DIR>          Data Science Tutorial Training basket\n",
      "24-01-2022  10.25 PM    <DIR>          Data structure and Al\n",
      "24-01-2022  10.25 PM    <DIR>          Data Structure and Algorithms by python\n",
      "28-11-2021  09.55 PM               618 Decorators .ipynb\n",
      "23-10-2022  07.41 AM    <DIR>          Desktop\n",
      "28-11-2022  09.38 PM    <DIR>          Documents\n",
      "29-11-2022  09.53 PM    <DIR>          Downloads\n",
      "22-08-2021  03.03 AM    <DIR>          Favorites\n",
      "21-08-2021  11.22 PM             1,437 Flak first notebook.ipynb\n",
      "09-11-2021  01.28 PM    <DIR>          Flask tutorial\n",
      "09-11-2021  01.39 PM        50,186,136 Git-2.33.1-64-bit.exe\n",
      "27-11-2021  02.07 PM    <DIR>          IBA_IOAPDATA\n",
      "29-08-2021  01.01 PM             3,271 K-means implementation .ipynb\n",
      "23-09-2022  11.56 PM    <DIR>          Microsoft\n",
      "31-10-2021  09.35 AM    <DIR>          MinGW\n",
      "11-07-2022  07.50 PM        51,710,821 mingw.exe\n",
      "30-11-2022  12.17 AM             8,065 Modules and Packages .ipynb\n",
      "24-05-2022  10.58 PM    <DIR>          Music\n",
      "09-10-2022  04.05 PM             1,768 Nested if else loop(while , for, ) 8th October .ipynb\n",
      "01-12-2021  11.12 PM               576 Numpy Notebook.ipynb\n",
      "24-01-2022  10.24 PM               576 One dimensional array.ipynb\n",
      "03-09-2022  11.34 PM    <DIR>          OneDrive\n",
      "19-04-2022  07.18 PM        12,021,576 pat_-win-1_65_1-ea34_2.exe\n",
      "22-08-2021  01.45 PM             5,555 PCA Unsupervised learning TB Datascience.ipynb\n",
      "13-09-2022  11.01 PM    <DIR>          Pictures\n",
      "17-11-2022  08.08 AM            19,334 Practice 2. (For and while loop) .ipynb\n",
      "16-11-2022  09.23 PM            11,060 Practice 3. (Function part 1).ipynb\n",
      "12-12-2021  09.26 PM             8,424 Practice programme for recursion.ipynb\n",
      "17-10-2022  10.56 PM             4,293 Programming  Assignment 2.ipynb\n",
      "16-10-2022  09.29 PM             3,673 Programming Assignment 1.ipynb\n",
      "24-10-2022  02.01 PM            24,056 Programming Assignment 3.ipynb\n",
      "19-10-2022  10.53 PM             5,220 Programming Assignment 4.ipynb\n",
      "26-10-2022  08.51 PM             6,338 Programming Assignment 5 .ipynb\n",
      "08-11-2022  02.02 PM             4,473 Programming Assignment 6.ipynb\n",
      "08-11-2022  06.45 PM             3,914 Programming Assignment 7.ipynb\n",
      "10-11-2022  08.45 PM             2,007 Programming Assignment 8.ipynb\n",
      "24-09-2022  11.40 PM            37,162 Python Basic .ipynb\n",
      "22-08-2021  03.03 AM    <DIR>          Saved Games\n",
      "22-08-2021  03.04 AM    <DIR>          Searches\n",
      "31-07-2022  08.11 PM    <DIR>          source\n",
      "09-10-2022  02.11 AM            21,944 String & Control Flow Statement .ipynb\n",
      "26-08-2021  01.28 PM    <DIR>          templare\n",
      "30-11-2022  12.17 AM                 0 text.py\n",
      "21-08-2021  11.20 PM             2,725 Untitled.ipynb\n",
      "21-10-2022  12.25 PM               940 Untitled1.ipynb\n",
      "06-02-2022  11.52 PM             8,587 Untitled10.ipynb\n",
      "21-10-2022  12.48 PM             2,712 Untitled11.ipynb\n",
      "08-11-2022  02.04 PM                72 Untitled12.ipynb\n",
      "22-08-2021  03.20 PM             5,555 Untitled2.ipynb\n",
      "25-08-2021  10.14 PM             4,064 Untitled3.ipynb\n",
      "29-08-2021  12.48 PM             3,271 Untitled4.ipynb\n",
      "26-10-2021  05.28 PM             1,048 Untitled5.ipynb\n",
      "26-10-2021  06.08 PM                72 Untitled6.ipynb\n",
      "26-10-2021  06.24 PM             1,328 Untitled7.ipynb\n",
      "16-11-2021  08.20 PM             1,839 Untitled8.ipynb\n",
      "28-11-2021  09.49 PM                72 Untitled9.ipynb\n",
      "06-11-2022  11.01 AM    <DIR>          Videos\n",
      "              47 File(s)    114,203,361 bytes\n",
      "              41 Dir(s)  37,472,337,920 bytes free\n"
     ]
    }
   ],
   "source": [
    "ls"
   ]
  },
  {
   "cell_type": "code",
   "execution_count": 11,
   "id": "c75880fc",
   "metadata": {},
   "outputs": [],
   "source": [
    "import test"
   ]
  },
  {
   "cell_type": "code",
   "execution_count": 12,
   "id": "4e55bb7f",
   "metadata": {},
   "outputs": [
    {
     "ename": "AttributeError",
     "evalue": "module 'test' has no attribute 'test1'",
     "output_type": "error",
     "traceback": [
      "\u001b[1;31m---------------------------------------------------------------------------\u001b[0m",
      "\u001b[1;31mAttributeError\u001b[0m                            Traceback (most recent call last)",
      "\u001b[1;32m<ipython-input-12-bcb12b2c4c5e>\u001b[0m in \u001b[0;36m<module>\u001b[1;34m\u001b[0m\n\u001b[1;32m----> 1\u001b[1;33m \u001b[0mtest\u001b[0m\u001b[1;33m.\u001b[0m\u001b[0mtest1\u001b[0m\u001b[1;33m(\u001b[0m\u001b[1;36m4\u001b[0m\u001b[1;33m,\u001b[0m\u001b[1;36m6\u001b[0m\u001b[1;33m)\u001b[0m\u001b[1;33m\u001b[0m\u001b[1;33m\u001b[0m\u001b[0m\n\u001b[0m",
      "\u001b[1;31mAttributeError\u001b[0m: module 'test' has no attribute 'test1'"
     ]
    }
   ],
   "source": [
    "test.test1(4,6)"
   ]
  },
  {
   "cell_type": "code",
   "execution_count": 13,
   "id": "0984643b",
   "metadata": {},
   "outputs": [],
   "source": [
    "import text1"
   ]
  },
  {
   "cell_type": "code",
   "execution_count": 15,
   "id": "906375f2",
   "metadata": {},
   "outputs": [
    {
     "data": {
      "text/plain": [
       "11"
      ]
     },
     "execution_count": 15,
     "metadata": {},
     "output_type": "execute_result"
    }
   ],
   "source": [
    "text1.test2(5,6)"
   ]
  },
  {
   "cell_type": "code",
   "execution_count": null,
   "id": "2a30cfaf",
   "metadata": {},
   "outputs": [],
   "source": []
  }
 ],
 "metadata": {
  "kernelspec": {
   "display_name": "Python 3",
   "language": "python",
   "name": "python3"
  },
  "language_info": {
   "codemirror_mode": {
    "name": "ipython",
    "version": 3
   },
   "file_extension": ".py",
   "mimetype": "text/x-python",
   "name": "python",
   "nbconvert_exporter": "python",
   "pygments_lexer": "ipython3",
   "version": "3.8.8"
  }
 },
 "nbformat": 4,
 "nbformat_minor": 5
}
