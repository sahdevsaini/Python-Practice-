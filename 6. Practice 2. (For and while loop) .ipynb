{
 "cells": [
  {
   "cell_type": "markdown",
   "id": "40dcfff0",
   "metadata": {},
   "source": [
    "# ------------------- For and While Loop ------------------------------ "
   ]
  },
  {
   "cell_type": "code",
   "execution_count": 30,
   "id": "328baef8",
   "metadata": {},
   "outputs": [],
   "source": [
    "l=[\"name\",\"email\",\"phone\",\"address\"]"
   ]
  },
  {
   "cell_type": "code",
   "execution_count": 31,
   "id": "5a169856",
   "metadata": {},
   "outputs": [
    {
     "name": "stdout",
     "output_type": "stream",
     "text": [
      "name\n",
      "email\n",
      "phone\n",
      "address\n"
     ]
    }
   ],
   "source": [
    "for i in l:\n",
    "    print(i)"
   ]
  },
  {
   "cell_type": "code",
   "execution_count": 32,
   "id": "e19279fb",
   "metadata": {},
   "outputs": [
    {
     "name": "stdout",
     "output_type": "stream",
     "text": [
      "name\n"
     ]
    }
   ],
   "source": [
    "for i in l:\n",
    "    if i==\"email\":\n",
    "        break\n",
    "    print(i)\n",
    "else:\n",
    "        print(\"check the stsement \")"
   ]
  },
  {
   "cell_type": "code",
   "execution_count": 33,
   "id": "fca74a70",
   "metadata": {},
   "outputs": [
    {
     "name": "stdout",
     "output_type": "stream",
     "text": [
      "s\n",
      "a\n",
      "h\n",
      "d\n",
      "e\n",
      "v\n",
      " \n",
      "S\n",
      "a\n",
      "i\n",
      "n\n",
      "i\n"
     ]
    }
   ],
   "source": [
    "s=\"sahdev Saini\"\n",
    "for i in s:\n",
    "    print(i)"
   ]
  },
  {
   "cell_type": "code",
   "execution_count": 34,
   "id": "d7b184e1",
   "metadata": {},
   "outputs": [
    {
     "name": "stdout",
     "output_type": "stream",
     "text": [
      "s\n",
      "a\n",
      "h\n",
      "d\n"
     ]
    }
   ],
   "source": [
    "for i in s:\n",
    "    if i== \"e\":\n",
    "        break\n",
    "    print(i)    \n",
    "else:\n",
    "        print(\"check the stsement \")"
   ]
  },
  {
   "cell_type": "code",
   "execution_count": 35,
   "id": "6a686957",
   "metadata": {},
   "outputs": [
    {
     "name": "stdout",
     "output_type": "stream",
     "text": [
      "name\n",
      "email\n",
      "phone\n",
      "address\n",
      "if for loop is going to complete iself else will execute\n"
     ]
    }
   ],
   "source": [
    "# for else loop in python\n",
    "for i in l:\n",
    "    print(i)\n",
    "else:\n",
    "    print(\"if for loop is going to complete iself else will execute\")\n",
    "    "
   ]
  },
  {
   "cell_type": "markdown",
   "id": "0a9e856b",
   "metadata": {},
   "source": [
    "## While loop"
   ]
  },
  {
   "cell_type": "code",
   "execution_count": 36,
   "id": "a5c32125",
   "metadata": {},
   "outputs": [
    {
     "name": "stdout",
     "output_type": "stream",
     "text": [
      "1\n",
      "2\n",
      "3\n",
      "4\n",
      "5\n"
     ]
    }
   ],
   "source": [
    "a=1\n",
    "while a<6:\n",
    "    print(a)\n",
    "    a=a+1"
   ]
  },
  {
   "cell_type": "code",
   "execution_count": 37,
   "id": "885763bc",
   "metadata": {},
   "outputs": [
    {
     "name": "stdout",
     "output_type": "stream",
     "text": [
      "1\n",
      "2\n",
      "3\n",
      "4\n"
     ]
    }
   ],
   "source": [
    "a=1\n",
    "while a<6:\n",
    "    print(a)\n",
    "    if a==4:\n",
    "        break\n",
    "    a=a+1\n"
   ]
  },
  {
   "cell_type": "code",
   "execution_count": null,
   "id": "e45303f3",
   "metadata": {},
   "outputs": [],
   "source": [
    "a=1\n",
    "while a<6:\n",
    "    print(a)\n",
    "    if a==4:\n",
    "        continue\n",
    "    a=a+1"
   ]
  },
  {
   "cell_type": "code",
   "execution_count": 38,
   "id": "13073429",
   "metadata": {},
   "outputs": [
    {
     "name": "stdout",
     "output_type": "stream",
     "text": [
      "1\n",
      "2\n",
      "3\n",
      "4\n",
      "5\n"
     ]
    }
   ],
   "source": [
    "a=1\n",
    "while a<6:\n",
    "    print(a)\n",
    "    a=a+1\n",
    "    if a==3:\n",
    "        continue\n",
    "    "
   ]
  },
  {
   "cell_type": "code",
   "execution_count": 39,
   "id": "ac1c26f0",
   "metadata": {},
   "outputs": [
    {
     "data": {
      "text/plain": [
       "[0, 1, 2, 3, 4, 5]"
      ]
     },
     "execution_count": 39,
     "metadata": {},
     "output_type": "execute_result"
    }
   ],
   "source": [
    "list(range(6))"
   ]
  },
  {
   "cell_type": "code",
   "execution_count": 40,
   "id": "80bb1aa7",
   "metadata": {},
   "outputs": [
    {
     "data": {
      "text/plain": [
       "[1, 3, 5, 7, 9]"
      ]
     },
     "execution_count": 40,
     "metadata": {},
     "output_type": "execute_result"
    }
   ],
   "source": [
    "list(range(1,10,2))"
   ]
  },
  {
   "cell_type": "code",
   "execution_count": 41,
   "id": "880e607f",
   "metadata": {},
   "outputs": [
    {
     "data": {
      "text/plain": [
       "[0, 1, 2, 3, 4, 5]"
      ]
     },
     "execution_count": 41,
     "metadata": {},
     "output_type": "execute_result"
    }
   ],
   "source": [
    "list(range(0,6))"
   ]
  },
  {
   "cell_type": "code",
   "execution_count": 42,
   "id": "8c885688",
   "metadata": {},
   "outputs": [
    {
     "data": {
      "text/plain": [
       "[]"
      ]
     },
     "execution_count": 42,
     "metadata": {},
     "output_type": "execute_result"
    }
   ],
   "source": [
    "list(range(3,10,-1))"
   ]
  },
  {
   "cell_type": "code",
   "execution_count": 43,
   "id": "4df1fd61",
   "metadata": {},
   "outputs": [
    {
     "data": {
      "text/plain": [
       "[10, 9, 8, 7, 6, 5, 4]"
      ]
     },
     "execution_count": 43,
     "metadata": {},
     "output_type": "execute_result"
    }
   ],
   "source": [
    "list(range(10,3,-1))"
   ]
  },
  {
   "cell_type": "code",
   "execution_count": 44,
   "id": "ba473075",
   "metadata": {},
   "outputs": [
    {
     "data": {
      "text/plain": [
       "[10, 8, 6, 4, 2, 0, -2, -4]"
      ]
     },
     "execution_count": 44,
     "metadata": {},
     "output_type": "execute_result"
    }
   ],
   "source": [
    "list(range(10,-5,-2))"
   ]
  },
  {
   "cell_type": "code",
   "execution_count": 45,
   "id": "767c600e",
   "metadata": {},
   "outputs": [
    {
     "name": "stdout",
     "output_type": "stream",
     "text": [
      "0\n",
      "1\n",
      "2\n",
      "3\n",
      "4\n",
      "5\n"
     ]
    }
   ],
   "source": [
    "for i in range(6):\n",
    "    print(i)"
   ]
  },
  {
   "cell_type": "code",
   "execution_count": 46,
   "id": "75b3e27f",
   "metadata": {},
   "outputs": [
    {
     "name": "stdout",
     "output_type": "stream",
     "text": [
      "012345"
     ]
    }
   ],
   "source": [
    "for i in range(6):\n",
    "    print(i,end=\"\")"
   ]
  },
  {
   "cell_type": "code",
   "execution_count": 47,
   "id": "dbf8f0f3",
   "metadata": {},
   "outputs": [
    {
     "name": "stdout",
     "output_type": "stream",
     "text": [
      "0/1/2/3/4/5/"
     ]
    }
   ],
   "source": [
    "for i in range(6):\n",
    "    print(i,end=\"/\")"
   ]
  },
  {
   "cell_type": "code",
   "execution_count": 48,
   "id": "72f5787f",
   "metadata": {},
   "outputs": [
    {
     "name": "stdout",
     "output_type": "stream",
     "text": [
      "0,1,2,3,4,5,"
     ]
    }
   ],
   "source": [
    "for i in range(6):\n",
    "    print(i,end=\",\")"
   ]
  },
  {
   "cell_type": "code",
   "execution_count": 49,
   "id": "9ecb3c67",
   "metadata": {},
   "outputs": [
    {
     "name": "stdout",
     "output_type": "stream",
     "text": [
      "0 1 2 3 4 5 "
     ]
    }
   ],
   "source": [
    "for i in range(6):\n",
    "    print(i,end=\" \")"
   ]
  },
  {
   "cell_type": "code",
   "execution_count": 50,
   "id": "2124cfd6",
   "metadata": {},
   "outputs": [
    {
     "name": "stdout",
     "output_type": "stream",
     "text": [
      "* \r\n",
      "* * \r\n",
      "* * * \r\n",
      "* * * * \r\n",
      "* * * * * \r\n"
     ]
    }
   ],
   "source": [
    "n=5\n",
    "for i in range(0,5):\n",
    "    for j in range(0,i+1):\n",
    "        print(\"*\",end=\" \")\n",
    "    print(\"\\r\")    "
   ]
  },
  {
   "cell_type": "code",
   "execution_count": 51,
   "id": "dbc46c84",
   "metadata": {},
   "outputs": [
    {
     "name": "stdout",
     "output_type": "stream",
     "text": [
      "* \n",
      "\n",
      "* * \n",
      "\n",
      "* * * \n",
      "\n",
      "* * * * \n",
      "\n",
      "* * * * * \n",
      "\n"
     ]
    }
   ],
   "source": [
    "n=5\n",
    "for i in range(0,5):\n",
    "    for j in range(0,i+1):\n",
    "        print(\"*\",end=\" \")\n",
    "    print(\"\\n\")    "
   ]
  },
  {
   "cell_type": "code",
   "execution_count": 52,
   "id": "24dc028d",
   "metadata": {},
   "outputs": [
    {
     "name": "stdout",
     "output_type": "stream",
     "text": [
      "*\n",
      "\r\n",
      "*\n",
      "*\n",
      "\r\n",
      "*\n",
      "*\n",
      "*\n",
      "\r\n",
      "*\n",
      "*\n",
      "*\n",
      "*\n",
      "\r\n",
      "*\n",
      "*\n",
      "*\n",
      "*\n",
      "*\n",
      "\r\n"
     ]
    }
   ],
   "source": [
    "n=5\n",
    "for i in range(0,5):\n",
    "    for j in range(0,i+1):\n",
    "        print(\"*\")\n",
    "    print(\"\\r\")    "
   ]
  },
  {
   "cell_type": "code",
   "execution_count": 58,
   "id": "452e57c8",
   "metadata": {},
   "outputs": [],
   "source": [
    "l=[10,2,3,4,5,6,7]"
   ]
  },
  {
   "cell_type": "code",
   "execution_count": 60,
   "id": "dca2177f",
   "metadata": {},
   "outputs": [
    {
     "name": "stdout",
     "output_type": "stream",
     "text": [
      "0 10\n",
      "1 2\n",
      "2 3\n",
      "3 4\n",
      "4 5\n",
      "5 6\n",
      "6 7\n"
     ]
    }
   ],
   "source": [
    "for i in range(len(l)):\n",
    "    print(i,l[i])\n",
    "    "
   ]
  },
  {
   "cell_type": "code",
   "execution_count": 61,
   "id": "71b4c229",
   "metadata": {},
   "outputs": [
    {
     "name": "stdout",
     "output_type": "stream",
     "text": [
      "0 2\n",
      "1 3\n",
      "2 4\n",
      "3 5\n",
      "4 7\n",
      "5 9\n",
      "6 20\n"
     ]
    }
   ],
   "source": [
    "s=(2,3,4,5,7,9,20)\n",
    "for i in range(len(s)):\n",
    "    print(i,s[i])"
   ]
  },
  {
   "cell_type": "code",
   "execution_count": 62,
   "id": "a727024c",
   "metadata": {},
   "outputs": [
    {
     "data": {
      "text/plain": [
       "(20, 9, 7, 5, 4, 3, 2)"
      ]
     },
     "execution_count": 62,
     "metadata": {},
     "output_type": "execute_result"
    }
   ],
   "source": [
    "s[::-1]"
   ]
  },
  {
   "cell_type": "code",
   "execution_count": 65,
   "id": "af76c970",
   "metadata": {},
   "outputs": [
    {
     "name": "stdout",
     "output_type": "stream",
     "text": [
      "6 20\n",
      "5 9\n",
      "4 7\n",
      "3 5\n",
      "2 4\n",
      "1 3\n",
      "0 2\n"
     ]
    }
   ],
   "source": [
    "for i in range(len(s)-1,-1,-1):\n",
    "    print(i,s[i])"
   ]
  },
  {
   "cell_type": "code",
   "execution_count": 67,
   "id": "9b5e22d5",
   "metadata": {},
   "outputs": [],
   "source": [
    "d={ \"a\":\"fsgrat\",\"b\":\"snhtdf\",\"c\":[2,3,4,5,6],\"d\":(3,4,5,6,7),\"e\":\"Sahdev\"}\n"
   ]
  },
  {
   "cell_type": "code",
   "execution_count": 68,
   "id": "e9fa803f",
   "metadata": {},
   "outputs": [
    {
     "data": {
      "text/plain": [
       "{'a': 'fsgrat',\n",
       " 'b': 'snhtdf',\n",
       " 'c': [2, 3, 4, 5, 6],\n",
       " 'd': (3, 4, 5, 6, 7),\n",
       " 'e': 'Sahdev'}"
      ]
     },
     "execution_count": 68,
     "metadata": {},
     "output_type": "execute_result"
    }
   ],
   "source": [
    "d"
   ]
  },
  {
   "cell_type": "code",
   "execution_count": 73,
   "id": "2151936c",
   "metadata": {},
   "outputs": [
    {
     "data": {
      "text/plain": [
       "<function dict.values>"
      ]
     },
     "execution_count": 73,
     "metadata": {},
     "output_type": "execute_result"
    }
   ],
   "source": [
    "d.values"
   ]
  },
  {
   "cell_type": "code",
   "execution_count": 70,
   "id": "ab1c65d8",
   "metadata": {},
   "outputs": [
    {
     "data": {
      "text/plain": [
       "<function dict.keys>"
      ]
     },
     "execution_count": 70,
     "metadata": {},
     "output_type": "execute_result"
    }
   ],
   "source": [
    "d.keys"
   ]
  },
  {
   "cell_type": "code",
   "execution_count": 75,
   "id": "c42ac978",
   "metadata": {},
   "outputs": [
    {
     "name": "stdout",
     "output_type": "stream",
     "text": [
      "a\n",
      "b\n",
      "c\n",
      "d\n",
      "e\n"
     ]
    }
   ],
   "source": [
    "for i in d:    # It will print the keys of dictationary\n",
    "    print(i)"
   ]
  },
  {
   "cell_type": "code",
   "execution_count": 76,
   "id": "8ef65f73",
   "metadata": {},
   "outputs": [
    {
     "name": "stdout",
     "output_type": "stream",
     "text": [
      "fsgrat\n",
      "snhtdf\n",
      "[2, 3, 4, 5, 6]\n",
      "(3, 4, 5, 6, 7)\n",
      "Sahdev\n"
     ]
    }
   ],
   "source": [
    "for i in d:       # It will print the values of dictationary \n",
    "    print(d[i])"
   ]
  },
  {
   "cell_type": "code",
   "execution_count": 77,
   "id": "920f54ee",
   "metadata": {},
   "outputs": [
    {
     "name": "stdout",
     "output_type": "stream",
     "text": [
      "a fsgrat\n",
      "b snhtdf\n",
      "c [2, 3, 4, 5, 6]\n",
      "d (3, 4, 5, 6, 7)\n",
      "e Sahdev\n"
     ]
    }
   ],
   "source": [
    "for i in d:       # It will print both keys and  values \n",
    "    print(i,d[i])"
   ]
  },
  {
   "cell_type": "markdown",
   "id": "b4bbd9b6",
   "metadata": {},
   "source": [
    "## Sets "
   ]
  },
  {
   "cell_type": "code",
   "execution_count": 78,
   "id": "fc2eba36",
   "metadata": {},
   "outputs": [],
   "source": [
    "s ={3,56,67,56,89,98,89,45,3,4,5,65,6,78,78,56,23,112,32,3,23,3}"
   ]
  },
  {
   "cell_type": "code",
   "execution_count": 80,
   "id": "e0f81285",
   "metadata": {},
   "outputs": [
    {
     "data": {
      "text/plain": [
       "{3, 4, 5, 6, 23, 32, 45, 56, 65, 67, 78, 89, 98, 112}"
      ]
     },
     "execution_count": 80,
     "metadata": {},
     "output_type": "execute_result"
    }
   ],
   "source": [
    "s                 ## output of aset is ordered and sorted "
   ]
  },
  {
   "cell_type": "code",
   "execution_count": 79,
   "id": "41c6de0b",
   "metadata": {},
   "outputs": [
    {
     "name": "stdout",
     "output_type": "stream",
     "text": [
      "32\n",
      "65\n",
      "98\n",
      "67\n",
      "3\n",
      "4\n",
      "5\n",
      "6\n",
      "45\n",
      "78\n",
      "112\n",
      "23\n",
      "56\n",
      "89\n"
     ]
    }
   ],
   "source": [
    "for i in s:\n",
    "    print(i)"
   ]
  },
  {
   "cell_type": "markdown",
   "id": "d5ca8538",
   "metadata": {},
   "source": [
    "### Write a python programe to count the length of string"
   ]
  },
  {
   "cell_type": "code",
   "execution_count": 5,
   "id": "e52398dc",
   "metadata": {},
   "outputs": [
    {
     "name": "stdout",
     "output_type": "stream",
     "text": [
      "20\n"
     ]
    }
   ],
   "source": [
    "s=\"This is Sahdev Saini\"\n",
    "\"\"\"For count the lenght of string \"\"\"\n",
    "count=0\n",
    "for i in s:\n",
    "    count+=1\n",
    "print(count)    "
   ]
  },
  {
   "cell_type": "code",
   "execution_count": 6,
   "id": "31d7cb9c",
   "metadata": {},
   "outputs": [
    {
     "data": {
      "text/plain": [
       "'iniaS vedhaS si sihT'"
      ]
     },
     "execution_count": 6,
     "metadata": {},
     "output_type": "execute_result"
    }
   ],
   "source": [
    "s[::-1]"
   ]
  },
  {
   "cell_type": "markdown",
   "id": "2d5a028f",
   "metadata": {},
   "source": [
    "### Programe for reverse a string "
   ]
  },
  {
   "cell_type": "code",
   "execution_count": 11,
   "id": "632ce7b4",
   "metadata": {},
   "outputs": [
    {
     "name": "stdout",
     "output_type": "stream",
     "text": [
      "iniaS vedhaS si sihT"
     ]
    }
   ],
   "source": [
    "for i in range(len(s)-1,-1,-1):\n",
    "    print(s[i],end=\"\")\n",
    "    "
   ]
  },
  {
   "cell_type": "code",
   "execution_count": 13,
   "id": "2a73cab0",
   "metadata": {},
   "outputs": [
    {
     "name": "stdout",
     "output_type": "stream",
     "text": [
      "iniaS vedhaS si sihT"
     ]
    }
   ],
   "source": [
    "\"\"\"Using while loop\"\"\"\n",
    "i=len(s)-1\n",
    "while(i>=0):\n",
    "    print(s[i],end=\"\")\n",
    "    i=i-1"
   ]
  },
  {
   "cell_type": "code",
   "execution_count": 15,
   "id": "e61199d2",
   "metadata": {},
   "outputs": [
    {
     "name": "stdout",
     "output_type": "stream",
     "text": [
      "Constant \n",
      "a Vowel\n",
      "Constant \n",
      "Constant \n",
      "e Vowel\n",
      "Constant \n"
     ]
    }
   ],
   "source": [
    "\"\"\"Write a programe to find the vowels in string s\"\"\"\n",
    "s=\"Sahdev\"\n",
    "v=\"AaEeIiOoUu\"\n",
    "for i in s:\n",
    "    if i in v:\n",
    "        print(i,\"Vowel\")\n",
    "    else:\n",
    "        print(\"Constant \")\n"
   ]
  },
  {
   "cell_type": "code",
   "execution_count": 18,
   "id": "0f98f2bd",
   "metadata": {},
   "outputs": [
    {
     "name": "stdout",
     "output_type": "stream",
     "text": [
      "ConstantConstantConstantConstantConstantConstantConstantConstantConstantConstantConstantVowel a a\n",
      "ConstantConstantConstantConstantConstantConstantConstantConstantConstantConstantConstantConstantConstantConstantConstantConstantConstantConstantConstantConstantConstantConstantConstantConstantConstantConstantConstantConstantConstantConstantConstantVowel e e\n",
      "ConstantConstantConstantConstantConstantConstantConstantConstantConstantConstantConstantConstantConstantConstantConstantConstant"
     ]
    }
   ],
   "source": [
    "\"\"\"By using for loop \"\"\"\n",
    "for i in s:\n",
    "    for j in v:\n",
    "        if i==j:\n",
    "            print(\"Vowel\",i,j)\n",
    "        else:\n",
    "            print(\"Constant\",end=\"\")"
   ]
  },
  {
   "cell_type": "code",
   "execution_count": 20,
   "id": "db80f9f0",
   "metadata": {},
   "outputs": [
    {
     "name": "stdout",
     "output_type": "stream",
     "text": [
      "eye\n",
      "eye: -  is Palimdrome\n"
     ]
    }
   ],
   "source": [
    "\"\"\" Palimdrome programe by using python\"\"\"\n",
    "s=input()\n",
    "r=s[::-1]\n",
    "if s==r:\n",
    "    print(f\"{s}: -  is Palimdrome\")\n",
    "else:\n",
    "    print(\"Not a Palimdrme\")"
   ]
  },
  {
   "cell_type": "code",
   "execution_count": null,
   "id": "8089db7d",
   "metadata": {},
   "outputs": [],
   "source": [
    "\"\"\"By Using for loop\"\"\"\n"
   ]
  }
 ],
 "metadata": {
  "kernelspec": {
   "display_name": "Python 3",
   "language": "python",
   "name": "python3"
  },
  "language_info": {
   "codemirror_mode": {
    "name": "ipython",
    "version": 3
   },
   "file_extension": ".py",
   "mimetype": "text/x-python",
   "name": "python",
   "nbconvert_exporter": "python",
   "pygments_lexer": "ipython3",
   "version": "3.8.8"
  }
 },
 "nbformat": 4,
 "nbformat_minor": 5
}
