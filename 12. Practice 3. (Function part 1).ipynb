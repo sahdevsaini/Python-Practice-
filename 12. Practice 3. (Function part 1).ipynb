{
 "cells": [
  {
   "cell_type": "code",
   "execution_count": 3,
   "id": "f8ae1d7d",
   "metadata": {},
   "outputs": [
    {
     "data": {
      "text/plain": [
       "4"
      ]
     },
     "execution_count": 3,
     "metadata": {},
     "output_type": "execute_result"
    }
   ],
   "source": [
    "len(\"sudh\")\n"
   ]
  },
  {
   "cell_type": "code",
   "execution_count": 4,
   "id": "0df2d6e1",
   "metadata": {},
   "outputs": [
    {
     "name": "stdout",
     "output_type": "stream",
     "text": [
      "sdafsadh\n"
     ]
    }
   ],
   "source": [
    "print(\"sdafsadh\")"
   ]
  },
  {
   "cell_type": "code",
   "execution_count": 5,
   "id": "5164863a",
   "metadata": {},
   "outputs": [],
   "source": [
    "def test():\n",
    "    pass"
   ]
  },
  {
   "cell_type": "code",
   "execution_count": 6,
   "id": "ce350e30",
   "metadata": {},
   "outputs": [],
   "source": [
    "test()"
   ]
  },
  {
   "cell_type": "code",
   "execution_count": 25,
   "id": "3a16bce8",
   "metadata": {},
   "outputs": [],
   "source": [
    "def test1():\n",
    "    print(\"This is my first fun\")"
   ]
  },
  {
   "cell_type": "code",
   "execution_count": 26,
   "id": "ca45f630",
   "metadata": {},
   "outputs": [
    {
     "name": "stdout",
     "output_type": "stream",
     "text": [
      "This is my first fun\n"
     ]
    }
   ],
   "source": [
    "test1()"
   ]
  },
  {
   "cell_type": "code",
   "execution_count": 27,
   "id": "2c2bc0b7",
   "metadata": {},
   "outputs": [
    {
     "name": "stdout",
     "output_type": "stream",
     "text": [
      "This is my first fun\n"
     ]
    }
   ],
   "source": [
    "a=test1()"
   ]
  },
  {
   "cell_type": "code",
   "execution_count": 28,
   "id": "d62b06a1",
   "metadata": {},
   "outputs": [
    {
     "data": {
      "text/plain": [
       "NoneType"
      ]
     },
     "execution_count": 28,
     "metadata": {},
     "output_type": "execute_result"
    }
   ],
   "source": [
    "type(a)"
   ]
  },
  {
   "cell_type": "code",
   "execution_count": 29,
   "id": "5e06089a",
   "metadata": {},
   "outputs": [],
   "source": [
    "a"
   ]
  },
  {
   "cell_type": "code",
   "execution_count": 30,
   "id": "d9af0452",
   "metadata": {},
   "outputs": [
    {
     "ename": "TypeError",
     "evalue": "unsupported operand type(s) for +: 'NoneType' and 'str'",
     "output_type": "error",
     "traceback": [
      "\u001b[1;31m---------------------------------------------------------------------------\u001b[0m",
      "\u001b[1;31mTypeError\u001b[0m                                 Traceback (most recent call last)",
      "\u001b[1;32m<ipython-input-30-6b1f75851230>\u001b[0m in \u001b[0;36m<module>\u001b[1;34m\u001b[0m\n\u001b[1;32m----> 1\u001b[1;33m \u001b[0ma\u001b[0m\u001b[1;33m+\u001b[0m\u001b[1;34m\"sudh\"\u001b[0m\u001b[1;33m\u001b[0m\u001b[1;33m\u001b[0m\u001b[0m\n\u001b[0m\u001b[0;32m      2\u001b[0m \"\"\"To resolve this error we use \n\u001b[0;32m      3\u001b[0m     return instead of print functtion\"\"\"\n",
      "\u001b[1;31mTypeError\u001b[0m: unsupported operand type(s) for +: 'NoneType' and 'str'"
     ]
    }
   ],
   "source": [
    "a+\"sudh\"\n",
    "\"\"\"To resolve this error we use \n",
    "    return instead of print functtion\"\"\""
   ]
  },
  {
   "cell_type": "code",
   "execution_count": 17,
   "id": "873acc61",
   "metadata": {},
   "outputs": [],
   "source": [
    "def test2():\n",
    "    return \"This is python\""
   ]
  },
  {
   "cell_type": "code",
   "execution_count": 18,
   "id": "e2f5c316",
   "metadata": {},
   "outputs": [],
   "source": [
    "a=test2()"
   ]
  },
  {
   "cell_type": "code",
   "execution_count": 20,
   "id": "f1fd1ef0",
   "metadata": {},
   "outputs": [
    {
     "data": {
      "text/plain": [
       "str"
      ]
     },
     "execution_count": 20,
     "metadata": {},
     "output_type": "execute_result"
    }
   ],
   "source": [
    "type(a)"
   ]
  },
  {
   "cell_type": "code",
   "execution_count": 21,
   "id": "a2839330",
   "metadata": {},
   "outputs": [
    {
     "data": {
      "text/plain": [
       "'This is python'"
      ]
     },
     "execution_count": 21,
     "metadata": {},
     "output_type": "execute_result"
    }
   ],
   "source": [
    "a"
   ]
  },
  {
   "cell_type": "code",
   "execution_count": 33,
   "id": "17ebabf6",
   "metadata": {},
   "outputs": [
    {
     "data": {
      "text/plain": [
       "'This is pythonSahdev'"
      ]
     },
     "execution_count": 33,
     "metadata": {},
     "output_type": "execute_result"
    }
   ],
   "source": [
    "test2() +\"Sahdev\""
   ]
  },
  {
   "cell_type": "code",
   "execution_count": 34,
   "id": "d406cb10",
   "metadata": {},
   "outputs": [],
   "source": [
    "def test3():\n",
    "    return 2345"
   ]
  },
  {
   "cell_type": "code",
   "execution_count": 35,
   "id": "dde6528f",
   "metadata": {},
   "outputs": [
    {
     "data": {
      "text/plain": [
       "int"
      ]
     },
     "execution_count": 35,
     "metadata": {},
     "output_type": "execute_result"
    }
   ],
   "source": [
    "type(test3())"
   ]
  },
  {
   "cell_type": "code",
   "execution_count": 36,
   "id": "d26e0760",
   "metadata": {},
   "outputs": [],
   "source": [
    "def test4():\n",
    "    return 4,3,\"sudh\",[1,2,3,4,5]"
   ]
  },
  {
   "cell_type": "code",
   "execution_count": 37,
   "id": "ed31118f",
   "metadata": {},
   "outputs": [
    {
     "data": {
      "text/plain": [
       "(4, 3, 'sudh', [1, 2, 3, 4, 5])"
      ]
     },
     "execution_count": 37,
     "metadata": {},
     "output_type": "execute_result"
    }
   ],
   "source": [
    "test4()"
   ]
  },
  {
   "cell_type": "code",
   "execution_count": 38,
   "id": "8edc94c5",
   "metadata": {},
   "outputs": [],
   "source": [
    "b=test4()"
   ]
  },
  {
   "cell_type": "code",
   "execution_count": 39,
   "id": "f5c620af",
   "metadata": {},
   "outputs": [
    {
     "data": {
      "text/plain": [
       "(4, 3, 'sudh', [1, 2, 3, 4, 5])"
      ]
     },
     "execution_count": 39,
     "metadata": {},
     "output_type": "execute_result"
    }
   ],
   "source": [
    "b"
   ]
  },
  {
   "cell_type": "code",
   "execution_count": 40,
   "id": "f4a8a639",
   "metadata": {},
   "outputs": [],
   "source": [
    "x,y,u,v=test4()"
   ]
  },
  {
   "cell_type": "code",
   "execution_count": 43,
   "id": "1a8cba6a",
   "metadata": {},
   "outputs": [
    {
     "data": {
      "text/plain": [
       "4"
      ]
     },
     "execution_count": 43,
     "metadata": {},
     "output_type": "execute_result"
    }
   ],
   "source": [
    "x"
   ]
  },
  {
   "cell_type": "code",
   "execution_count": 44,
   "id": "ba9e5521",
   "metadata": {},
   "outputs": [
    {
     "data": {
      "text/plain": [
       "3"
      ]
     },
     "execution_count": 44,
     "metadata": {},
     "output_type": "execute_result"
    }
   ],
   "source": [
    "y"
   ]
  },
  {
   "cell_type": "code",
   "execution_count": 45,
   "id": "7c05a5e5",
   "metadata": {},
   "outputs": [
    {
     "data": {
      "text/plain": [
       "'sudh'"
      ]
     },
     "execution_count": 45,
     "metadata": {},
     "output_type": "execute_result"
    }
   ],
   "source": [
    "u"
   ]
  },
  {
   "cell_type": "code",
   "execution_count": 46,
   "id": "f12ded6c",
   "metadata": {},
   "outputs": [
    {
     "data": {
      "text/plain": [
       "[1, 2, 3, 4, 5]"
      ]
     },
     "execution_count": 46,
     "metadata": {},
     "output_type": "execute_result"
    }
   ],
   "source": [
    "v"
   ]
  },
  {
   "cell_type": "code",
   "execution_count": 47,
   "id": "5eb1460b",
   "metadata": {},
   "outputs": [],
   "source": [
    "def test5():\n",
    "    a=6*7/6\n",
    "    return a"
   ]
  },
  {
   "cell_type": "code",
   "execution_count": 49,
   "id": "fd1a8e6a",
   "metadata": {},
   "outputs": [
    {
     "data": {
      "text/plain": [
       "7.0"
      ]
     },
     "execution_count": 49,
     "metadata": {},
     "output_type": "execute_result"
    }
   ],
   "source": [
    "test5()"
   ]
  },
  {
   "cell_type": "code",
   "execution_count": null,
   "id": "cdddaf22",
   "metadata": {},
   "outputs": [],
   "source": []
  },
  {
   "cell_type": "code",
   "execution_count": null,
   "id": "5844ae7e",
   "metadata": {},
   "outputs": [],
   "source": [
    "\"1 . you have to write a fun which will take string and return a len of \\n\",\n",
    "    \"it without using a inbuilt fun len\\n\",\n",
    "    \"2 . write a fun which will be able to print an index of all premitive element which you will pass \\n\",\n",
    "    \"3 . Write a fun which will take input as a dict and give me out as a list of all the values \\n\",\n",
    "    \"even in case of 2 level nesting it should work . \\n\",\n",
    "    \"4 . write a fun which will take another function as an input and return me an output \\n\",\n",
    "    \"5. write a function whihc will take multiple list as a input and give me concatnation of all the element as \\n\",\n",
    "    \"and output \\n\",\n",
    "    \"6 . write a function which will be able to take a list as an input return an index of each element \\n\",\n",
    "    \"like a inbuilt index function but even if we have repetative element it should return index \\n\",\n",
    "    \"7 . Write a function which will whould return list of all the file name from a directory . \\n\",\n",
    "    \"8  . write a function which will be able to show your system configuration . \\n\",\n",
    "    \"9 . write a function which will be able to show date and time  . \\n\",\n",
    "    \"10 . write a function whihc will be able to read a image file and show it to you .\\n\",\n",
    "    \"11 . write a function which can read video file and play for you . \\n\",\n",
    "    \"12  . write a function whihc can move a file from one directory to another directory . \\n\",\n",
    "    \"13 . write a function which will be able to shutdonw your system . \\n\",\n",
    "    \"14 . write a function whihc will be able to access your mail . \\n\",\n",
    "    \"15 . write a func bywhcih i can send a mail to anyone \\n\",\n",
    "    \"16. write a func to read a complete PDf file . \\n\",\n",
    "    \"17. write a function to read a word file . \\n\",\n",
    "    \"18 . write a function which can help you to filter only word file from a directory . \\n\",\n",
    "    \"19 . write a function by which you can print an ip address of your system . \\n\",\n",
    "    \"20 . write a function by which you will be able to append two PDF files . \""
   ]
  }
 ],
 "metadata": {
  "kernelspec": {
   "display_name": "Python 3",
   "language": "python",
   "name": "python3"
  },
  "language_info": {
   "codemirror_mode": {
    "name": "ipython",
    "version": 3
   },
   "file_extension": ".py",
   "mimetype": "text/x-python",
   "name": "python",
   "nbconvert_exporter": "python",
   "pygments_lexer": "ipython3",
   "version": "3.8.8"
  }
 },
 "nbformat": 4,
 "nbformat_minor": 5
}
