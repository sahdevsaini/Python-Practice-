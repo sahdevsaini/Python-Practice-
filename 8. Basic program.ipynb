{
 "cells": [
  {
   "cell_type": "markdown",
   "id": "0043d395",
   "metadata": {},
   "source": [
    "# ---------------------------------------- Basic Programs ----------------------------------"
   ]
  },
  {
   "cell_type": "markdown",
   "id": "611242c3",
   "metadata": {},
   "source": [
    "### Python programs for add two numbers "
   ]
  },
  {
   "cell_type": "code",
   "execution_count": 1,
   "id": "b5232935",
   "metadata": {},
   "outputs": [
    {
     "name": "stdout",
     "output_type": "stream",
     "text": [
      "Enter first number10\n",
      "Enter first number20\n",
      "The sum of two numbers  is :  30.0\n"
     ]
    }
   ],
   "source": [
    "num1=float(input(\"Enter first number\"))\n",
    "num2=float(input(\"Enter first number\"))\n",
    "sum1=num1+num2\n",
    "print(\"The sum of two numbers  is : \",sum1)"
   ]
  },
  {
   "cell_type": "code",
   "execution_count": 8,
   "id": "267ef673",
   "metadata": {},
   "outputs": [
    {
     "name": "stdout",
     "output_type": "stream",
     "text": [
      "Enter first number10\n",
      "Enter first number10\n",
      "20.0\n"
     ]
    }
   ],
   "source": [
    "# By using predefine function.\n",
    "num1=float(input(\"Enter first number\"))\n",
    "num2=float(input(\"Enter first number\"))\n",
    "sum=num1+num2        # sum is the predefine function which is used to add two  numbers. \n",
    "print(sum)"
   ]
  },
  {
   "cell_type": "code",
   "execution_count": 13,
   "id": "2b057c82",
   "metadata": {},
   "outputs": [
    {
     "name": "stdout",
     "output_type": "stream",
     "text": [
      "Enter the 1st value11\n",
      "Enter the 2nd value12\n",
      "23.0\n"
     ]
    }
   ],
   "source": [
    "# by using lambda function \n",
    "num1 =float(input(\"Enter the 1st value\"))\n",
    "num2= float(input(\"Enter the 2nd value\"))\n",
    "sum1=lambda num1,num2:num1+num2\n",
    "print(sum1(num1,num2))"
   ]
  },
  {
   "cell_type": "markdown",
   "id": "209d70d0",
   "metadata": {},
   "source": [
    "### Maximun of two numbers in python "
   ]
  },
  {
   "cell_type": "code",
   "execution_count": 12,
   "id": "c601763c",
   "metadata": {},
   "outputs": [
    {
     "name": "stdout",
     "output_type": "stream",
     "text": [
      "58\n",
      "52\n",
      "Maximun of 58 and 52 is :-  58\n"
     ]
    }
   ],
   "source": [
    "def max_num(a,b):\n",
    "    if a>b:\n",
    "        return a\n",
    "    else:\n",
    "        return b\n",
    "    \n",
    "a=int(input())\n",
    "b=int(input())\n",
    "print(f\"Maximun of {a} and {b} is :- \",max_num(a,b))\n",
    "    "
   ]
  },
  {
   "cell_type": "code",
   "execution_count": 13,
   "id": "8b7f0860",
   "metadata": {},
   "outputs": [
    {
     "name": "stdout",
     "output_type": "stream",
     "text": [
      "22\n",
      "20\n",
      "Maximun of 22.0 and 20.0 is :-  22.0\n"
     ]
    }
   ],
   "source": [
    "# Method\n",
    "def max_(a,b):\n",
    "    return max(a,b)\n",
    "\n",
    "a=float(input())\n",
    "b=float(input())\n",
    "print(f\"Maximun of {a} and {b} is :- \",max_(a,b))\n"
   ]
  },
  {
   "cell_type": "markdown",
   "id": "0b64da1b",
   "metadata": {},
   "source": [
    "### Factorial of a number "
   ]
  },
  {
   "cell_type": "code",
   "execution_count": 14,
   "id": "5af9702f",
   "metadata": {},
   "outputs": [
    {
     "name": "stdout",
     "output_type": "stream",
     "text": [
      "5\n",
      "Factorial of 5 is:-  120\n"
     ]
    }
   ],
   "source": [
    "def factorial(n):\n",
    "    if n==0 or n==1:\n",
    "        return 1\n",
    "    else:\n",
    "        return n * factorial(n-1)\n",
    "    \n",
    "n=int(input())\n",
    "print(f\"Factorial of {n} is:- \", factorial(n))\n",
    "        "
   ]
  },
  {
   "cell_type": "code",
   "execution_count": 16,
   "id": "bb26b0ad",
   "metadata": {},
   "outputs": [
    {
     "name": "stdout",
     "output_type": "stream",
     "text": [
      "4\n",
      "Factorial of 4 is:-  24\n"
     ]
    }
   ],
   "source": [
    "# Method \n",
    "def factorial1(n):\n",
    "    res=1\n",
    "    for i in range(2, n+1):\n",
    "        res *= i\n",
    "    return res\n",
    "    \n",
    "n=int(input())\n",
    "print(f\"Factorial of {n} is:- \", factorial1(n))"
   ]
  },
  {
   "cell_type": "code",
   "execution_count": 18,
   "id": "a5665ec0",
   "metadata": {},
   "outputs": [
    {
     "name": "stdout",
     "output_type": "stream",
     "text": [
      "4\n",
      "Factorial of 4 is:-  24\n"
     ]
    }
   ],
   "source": [
    "# 3rd Method \n",
    "def factorial2(n):\n",
    "    if n==0:\n",
    "        return 0\n",
    "    elif n==1:\n",
    "        return 1\n",
    "    else:\n",
    "        fac=1\n",
    "        while(True):\n",
    "            fac*= n\n",
    "            n=n-1\n",
    "        return fac \n",
    " \n",
    "\n",
    " n=int(input())\n",
    "print(f\"Factorial of {n} is:- \", factorial1(n))\n",
    "\n",
    "    \n",
    "            "
   ]
  },
  {
   "cell_type": "markdown",
   "id": "32d231bf",
   "metadata": {},
   "source": [
    "### Program for simple interest "
   ]
  },
  {
   "cell_type": "code",
   "execution_count": 5,
   "id": "186b36ae",
   "metadata": {},
   "outputs": [
    {
     "name": "stdout",
     "output_type": "stream",
     "text": [
      "100\n",
      "30\n",
      "3\n",
      "The Simple Interest of principle 100.0, of Interest 30.0 for duration 3.0 is:- 90.0\n"
     ]
    }
   ],
   "source": [
    "def simple_interest(p,r,t):\n",
    "    si=(p*r*t)/100\n",
    "    return si\n",
    "\n",
    "p=float(input())\n",
    "r=float(input())\n",
    "t=float(input())\n",
    "print(f\"The Simple Interest of principle {p}, of Interest {r} for duration {t} is:-\",simple_interest(p,r,t))"
   ]
  },
  {
   "cell_type": "markdown",
   "id": "7bbd6a91",
   "metadata": {},
   "source": [
    "### Program for Compound Interest "
   ]
  },
  {
   "cell_type": "code",
   "execution_count": 5,
   "id": "9ee8f080",
   "metadata": {},
   "outputs": [
    {
     "name": "stdout",
     "output_type": "stream",
     "text": [
      "1000\n",
      "20\n",
      "2\n",
      "The Simple Interest of principle 1000.0, of Interest 20.0 for duration 2.0 is:- 440.0\n"
     ]
    }
   ],
   "source": [
    "def compund_interest(p,r,t):\n",
    "    A=p*(pow((1 + r/ 100), t))\n",
    "    ci= A-p\n",
    "    return ci\n",
    "\n",
    "p=float(input())\n",
    "r=float(input())\n",
    "t=float(input())\n",
    "print(f\"The Simple Interest of principle {p}, of Interest {r} for duration {t} is:-\",compund_interest(p,r,t))\n"
   ]
  },
  {
   "cell_type": "markdown",
   "id": "d82fffd5",
   "metadata": {},
   "source": [
    "### Program for Amrongstrong Number "
   ]
  },
  {
   "cell_type": "code",
   "execution_count": null,
   "id": "0f4d5aff",
   "metadata": {},
   "outputs": [],
   "source": []
  },
  {
   "cell_type": "markdown",
   "id": "19f4270c",
   "metadata": {},
   "source": [
    "### Area of circle "
   ]
  },
  {
   "cell_type": "code",
   "execution_count": null,
   "id": "6373d2f0",
   "metadata": {},
   "outputs": [],
   "source": []
  },
  {
   "cell_type": "markdown",
   "id": "5c2c7b0b",
   "metadata": {},
   "source": [
    "### List of prime number in a interval domain."
   ]
  },
  {
   "cell_type": "code",
   "execution_count": null,
   "id": "e6561a39",
   "metadata": {},
   "outputs": [],
   "source": []
  },
  {
   "cell_type": "markdown",
   "id": "2fa42a41",
   "metadata": {},
   "source": [
    "### program to check whether a number is Prime or notprogram to check whether a number is Prime or not"
   ]
  },
  {
   "cell_type": "code",
   "execution_count": null,
   "id": "253c92aa",
   "metadata": {},
   "outputs": [],
   "source": []
  },
  {
   "cell_type": "markdown",
   "id": "ad3e1b2b",
   "metadata": {},
   "source": [
    "###  Program for n-th Fibonacci number"
   ]
  },
  {
   "cell_type": "code",
   "execution_count": null,
   "id": "b7f50cce",
   "metadata": {},
   "outputs": [],
   "source": []
  },
  {
   "cell_type": "markdown",
   "id": "f082dfd5",
   "metadata": {},
   "source": [
    "### Python Program for nth multiple of a number in Fibonacci Series"
   ]
  },
  {
   "cell_type": "code",
   "execution_count": null,
   "id": "5f5e80fa",
   "metadata": {},
   "outputs": [],
   "source": []
  },
  {
   "cell_type": "markdown",
   "id": "0945b11d",
   "metadata": {},
   "source": [
    "### print ASCII Value of a character"
   ]
  },
  {
   "cell_type": "code",
   "execution_count": null,
   "id": "fae22a93",
   "metadata": {},
   "outputs": [],
   "source": []
  },
  {
   "cell_type": "markdown",
   "id": "436659cd",
   "metadata": {},
   "source": [
    "### Program for Sum of squares of first n natural numbers"
   ]
  },
  {
   "cell_type": "code",
   "execution_count": null,
   "id": "ffba78a6",
   "metadata": {},
   "outputs": [],
   "source": []
  },
  {
   "cell_type": "markdown",
   "id": "964f8781",
   "metadata": {},
   "source": [
    "###  Program for cube sum of first n natural numbers"
   ]
  },
  {
   "cell_type": "code",
   "execution_count": null,
   "id": "086e28de",
   "metadata": {},
   "outputs": [],
   "source": []
  }
 ],
 "metadata": {
  "kernelspec": {
   "display_name": "Python 3",
   "language": "python",
   "name": "python3"
  },
  "language_info": {
   "codemirror_mode": {
    "name": "ipython",
    "version": 3
   },
   "file_extension": ".py",
   "mimetype": "text/x-python",
   "name": "python",
   "nbconvert_exporter": "python",
   "pygments_lexer": "ipython3",
   "version": "3.8.8"
  }
 },
 "nbformat": 4,
 "nbformat_minor": 5
}
