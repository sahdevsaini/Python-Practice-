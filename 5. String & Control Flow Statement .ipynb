{
 "cells": [
  {
   "cell_type": "markdown",
   "id": "46adc333",
   "metadata": {},
   "source": [
    "## Use of String "
   ]
  },
  {
   "cell_type": "code",
   "execution_count": 2,
   "id": "75a63fae",
   "metadata": {},
   "outputs": [],
   "source": [
    "s=\"My name is Sahdev Saini\""
   ]
  },
  {
   "cell_type": "code",
   "execution_count": 3,
   "id": "85099a9f",
   "metadata": {},
   "outputs": [
    {
     "data": {
      "text/plain": [
       "'My name is Sahdev Saini'"
      ]
     },
     "execution_count": 3,
     "metadata": {},
     "output_type": "execute_result"
    }
   ],
   "source": [
    "s"
   ]
  },
  {
   "cell_type": "code",
   "execution_count": 4,
   "id": "ee5c3ca2",
   "metadata": {},
   "outputs": [
    {
     "data": {
      "text/plain": [
       "'n'"
      ]
     },
     "execution_count": 4,
     "metadata": {},
     "output_type": "execute_result"
    }
   ],
   "source": [
    "s[3]"
   ]
  },
  {
   "cell_type": "code",
   "execution_count": 5,
   "id": "7454fbcb",
   "metadata": {},
   "outputs": [
    {
     "data": {
      "text/plain": [
       "'My na'"
      ]
     },
     "execution_count": 5,
     "metadata": {},
     "output_type": "execute_result"
    }
   ],
   "source": [
    "s[0:5]"
   ]
  },
  {
   "cell_type": "code",
   "execution_count": 8,
   "id": "bb748db5",
   "metadata": {},
   "outputs": [],
   "source": [
    "# method of reversing a string \n",
    "s1=s[::-1]"
   ]
  },
  {
   "cell_type": "code",
   "execution_count": 9,
   "id": "be1fab09",
   "metadata": {},
   "outputs": [
    {
     "data": {
      "text/plain": [
       "'iniaS vedhaS si eman yM'"
      ]
     },
     "execution_count": 9,
     "metadata": {},
     "output_type": "execute_result"
    }
   ],
   "source": [
    "s1"
   ]
  },
  {
   "cell_type": "code",
   "execution_count": 15,
   "id": "56ee5716",
   "metadata": {},
   "outputs": [
    {
     "name": "stdout",
     "output_type": "stream",
     "text": [
      "Enter the input:- Sadhev sainin\n",
      "Sadhev sainin \n",
      " The reverse of String:-  ninias vehdaS\n"
     ]
    }
   ],
   "source": [
    "data=input(\"Enter the input:- \")\n",
    "reverse=data[::-1]\n",
    "print(data,\"\\n\",\"The reverse of String:- \",reverse)"
   ]
  },
  {
   "cell_type": "code",
   "execution_count": 16,
   "id": "d0dbca45",
   "metadata": {},
   "outputs": [
    {
     "name": "stdout",
     "output_type": "stream",
     "text": [
      "Enter the string:-radar\n",
      "Given string radar and radar are Palimstrome\n"
     ]
    }
   ],
   "source": [
    "# programe for checking given input is palimstrome \n",
    "data=input(\"Enter the string:-\")\n",
    "reverse=data[::-1]\n",
    "if data==reverse:\n",
    "    print(f\"Given string {data} and {reverse} are Palimstrome\")\n",
    "else:\n",
    "    print(f\"Given string {data} and {reverse} are not Palimstrome\")\n",
    "    \n",
    "    "
   ]
  },
  {
   "cell_type": "code",
   "execution_count": 17,
   "id": "ea6e860b",
   "metadata": {},
   "outputs": [
    {
     "name": "stdout",
     "output_type": "stream",
     "text": [
      "Enter the string:-Sahdev \n",
      "Given string: Sahdev  is not Palimstrome\n"
     ]
    }
   ],
   "source": [
    "# programe for checking given input is palimstrome \n",
    "data=input(\"Enter the string:-\")\n",
    "reverse=data[::-1]\n",
    "if data==reverse:\n",
    "    print(f\"Given string : {data} is Palimstrome\")\n",
    "else:\n",
    "    print(f\"Given string: {data} is not Palimstrome\")\n",
    "    \n",
    "    "
   ]
  },
  {
   "cell_type": "markdown",
   "id": "76c97a73",
   "metadata": {},
   "source": [
    "# Mutability\n",
    "\n",
    "### Mutable means subject to change or which can be changed"
   ]
  },
  {
   "cell_type": "code",
   "execution_count": 19,
   "id": "6efa2df1",
   "metadata": {},
   "outputs": [],
   "source": [
    "name=\"Sahdev\""
   ]
  },
  {
   "cell_type": "code",
   "execution_count": 20,
   "id": "36d0aec6",
   "metadata": {},
   "outputs": [
    {
     "data": {
      "text/plain": [
       "'Sahdev'"
      ]
     },
     "execution_count": 20,
     "metadata": {},
     "output_type": "execute_result"
    }
   ],
   "source": [
    "name"
   ]
  },
  {
   "cell_type": "code",
   "execution_count": 21,
   "id": "09c6277b",
   "metadata": {},
   "outputs": [
    {
     "ename": "TypeError",
     "evalue": "'str' object does not support item assignment",
     "output_type": "error",
     "traceback": [
      "\u001b[1;31m---------------------------------------------------------------------------\u001b[0m",
      "\u001b[1;31mTypeError\u001b[0m                                 Traceback (most recent call last)",
      "\u001b[1;32m<ipython-input-21-281f5c57c714>\u001b[0m in \u001b[0;36m<module>\u001b[1;34m\u001b[0m\n\u001b[1;32m----> 1\u001b[1;33m \u001b[0mname\u001b[0m\u001b[1;33m[\u001b[0m\u001b[1;36m0\u001b[0m\u001b[1;33m]\u001b[0m\u001b[1;33m=\u001b[0m\u001b[1;34m'D'\u001b[0m\u001b[1;33m\u001b[0m\u001b[1;33m\u001b[0m\u001b[0m\n\u001b[0m",
      "\u001b[1;31mTypeError\u001b[0m: 'str' object does not support item assignment"
     ]
    }
   ],
   "source": [
    "name[0]='D'"
   ]
  },
  {
   "cell_type": "code",
   "execution_count": 22,
   "id": "4e395abe",
   "metadata": {},
   "outputs": [
    {
     "data": {
      "text/plain": [
       "'Dahdev'"
      ]
     },
     "execution_count": 22,
     "metadata": {},
     "output_type": "execute_result"
    }
   ],
   "source": [
    "\"D\" + name[1:]"
   ]
  },
  {
   "cell_type": "code",
   "execution_count": 23,
   "id": "7e72f03d",
   "metadata": {},
   "outputs": [
    {
     "data": {
      "text/plain": [
       "'SahdeSaini'"
      ]
     },
     "execution_count": 23,
     "metadata": {},
     "output_type": "execute_result"
    }
   ],
   "source": [
    "name = name.replace(\"v\", \"Saini\") # String is immutable but be can edit the string by sing this technique.\n",
    "name"
   ]
  },
  {
   "cell_type": "raw",
   "id": "1288addd",
   "metadata": {},
   "source": [
    " len\n",
    "count\n",
    " split\n",
    " join\n",
    " lowercase\n",
    " uppercase\n",
    "1. String indexing\n",
    "2. String slicing\n",
    "3. String skipping\n",
    "4. String reversal\n",
    "5. String replace method\n",
    "6. length of the string\n",
    "7. String is immutable because we cannot directly assign any value using indexing"
   ]
  },
  {
   "cell_type": "code",
   "execution_count": 47,
   "id": "9dde1c7d",
   "metadata": {},
   "outputs": [],
   "source": [
    "name=\"Sadhev/saini\""
   ]
  },
  {
   "cell_type": "code",
   "execution_count": 48,
   "id": "eee9cec8",
   "metadata": {},
   "outputs": [
    {
     "data": {
      "text/plain": [
       "'Sadhev/saini'"
      ]
     },
     "execution_count": 48,
     "metadata": {},
     "output_type": "execute_result"
    }
   ],
   "source": [
    "name"
   ]
  },
  {
   "cell_type": "code",
   "execution_count": 25,
   "id": "557d7589",
   "metadata": {},
   "outputs": [
    {
     "data": {
      "text/plain": [
       "12"
      ]
     },
     "execution_count": 25,
     "metadata": {},
     "output_type": "execute_result"
    }
   ],
   "source": [
    "len(name)"
   ]
  },
  {
   "cell_type": "code",
   "execution_count": 29,
   "id": "0ce65676",
   "metadata": {},
   "outputs": [
    {
     "data": {
      "text/plain": [
       "0"
      ]
     },
     "execution_count": 29,
     "metadata": {},
     "output_type": "execute_result"
    }
   ],
   "source": [
    "name.count(s)"
   ]
  },
  {
   "cell_type": "code",
   "execution_count": 31,
   "id": "25844586",
   "metadata": {},
   "outputs": [],
   "source": [
    "name1=name.split(\"-\")"
   ]
  },
  {
   "cell_type": "code",
   "execution_count": 33,
   "id": "0ecdcf73",
   "metadata": {},
   "outputs": [
    {
     "data": {
      "text/plain": [
       "['Sadhev saini']"
      ]
     },
     "execution_count": 33,
     "metadata": {},
     "output_type": "execute_result"
    }
   ],
   "source": [
    "name1"
   ]
  },
  {
   "cell_type": "code",
   "execution_count": 37,
   "id": "9201601b",
   "metadata": {},
   "outputs": [
    {
     "data": {
      "text/plain": [
       "'Sadhev saini'"
      ]
     },
     "execution_count": 37,
     "metadata": {},
     "output_type": "execute_result"
    }
   ],
   "source": [
    "\" \".join(name1)"
   ]
  },
  {
   "cell_type": "code",
   "execution_count": 51,
   "id": "3cf48a94",
   "metadata": {},
   "outputs": [
    {
     "name": "stdout",
     "output_type": "stream",
     "text": [
      "Sadhev \n",
      " saini\n"
     ]
    }
   ],
   "source": [
    "nam,surname=name.split(\"/\")\n",
    "print(nam,\"\\n\",surname)"
   ]
  },
  {
   "cell_type": "code",
   "execution_count": 52,
   "id": "9a45a15f",
   "metadata": {},
   "outputs": [
    {
     "data": {
      "text/plain": [
       "False"
      ]
     },
     "execution_count": 52,
     "metadata": {},
     "output_type": "execute_result"
    }
   ],
   "source": [
    "name.isupper()"
   ]
  },
  {
   "cell_type": "code",
   "execution_count": 53,
   "id": "9d40b396",
   "metadata": {},
   "outputs": [
    {
     "data": {
      "text/plain": [
       "'SADHEV/SAINI'"
      ]
     },
     "execution_count": 53,
     "metadata": {},
     "output_type": "execute_result"
    }
   ],
   "source": [
    "name.upper()"
   ]
  },
  {
   "cell_type": "code",
   "execution_count": 54,
   "id": "fc6ab3b1",
   "metadata": {},
   "outputs": [
    {
     "data": {
      "text/plain": [
       "'sadhev/saini'"
      ]
     },
     "execution_count": 54,
     "metadata": {},
     "output_type": "execute_result"
    }
   ],
   "source": [
    "name.lower()"
   ]
  },
  {
   "cell_type": "code",
   "execution_count": 55,
   "id": "593c7204",
   "metadata": {},
   "outputs": [
    {
     "data": {
      "text/plain": [
       "'Sadhev/saini'"
      ]
     },
     "execution_count": 55,
     "metadata": {},
     "output_type": "execute_result"
    }
   ],
   "source": [
    "name"
   ]
  },
  {
   "cell_type": "code",
   "execution_count": 56,
   "id": "99c5df5e",
   "metadata": {},
   "outputs": [],
   "source": [
    "name=\"Sahdev Saini\""
   ]
  },
  {
   "cell_type": "code",
   "execution_count": 57,
   "id": "d69677c2",
   "metadata": {},
   "outputs": [
    {
     "data": {
      "text/plain": [
       "'Sahdev Saini'"
      ]
     },
     "execution_count": 57,
     "metadata": {},
     "output_type": "execute_result"
    }
   ],
   "source": [
    "name"
   ]
  },
  {
   "cell_type": "markdown",
   "id": "a85c9ab3",
   "metadata": {},
   "source": [
    "### Use of Join() Function "
   ]
  },
  {
   "cell_type": "code",
   "execution_count": 58,
   "id": "85494af3",
   "metadata": {},
   "outputs": [
    {
     "data": {
      "text/plain": [
       "'S*a*h*d*e*v* *S*a*i*n*i'"
      ]
     },
     "execution_count": 58,
     "metadata": {},
     "output_type": "execute_result"
    }
   ],
   "source": [
    "\"*\".join(name)"
   ]
  },
  {
   "cell_type": "code",
   "execution_count": 60,
   "id": "f159c5dc",
   "metadata": {},
   "outputs": [
    {
     "data": {
      "text/plain": [
       "'S_a_h_d_e_v_ _S_a_i_n_i'"
      ]
     },
     "execution_count": 60,
     "metadata": {},
     "output_type": "execute_result"
    }
   ],
   "source": [
    "\"_\".join(name)"
   ]
  },
  {
   "cell_type": "code",
   "execution_count": 61,
   "id": "090ddc13",
   "metadata": {},
   "outputs": [
    {
     "data": {
      "text/plain": [
       "'S*&%a*&%h*&%d*&%e*&%v*&% *&%S*&%a*&%i*&%n*&%i'"
      ]
     },
     "execution_count": 61,
     "metadata": {},
     "output_type": "execute_result"
    }
   ],
   "source": [
    "\"*&%\".join(name)"
   ]
  },
  {
   "cell_type": "code",
   "execution_count": 70,
   "id": "da4da4d7",
   "metadata": {},
   "outputs": [
    {
     "name": "stdout",
     "output_type": "stream",
     "text": [
      "Enter the name:- Sahdev Saini\n",
      "Name in uppercase: SAHDEV SAINI\n",
      "Name in Lowercase: sahdev saini\n",
      "Name in center aling: Sahdev Saini\n",
      "Name as a Title: Sahdev Saini\n",
      "Name is in uppercase: False\n",
      "Name is in Lowercase: False\n",
      "Name is in Ascii: True\n",
      "Name is Title: True\n",
      "Name Swapscape: sAHDEV sAINI\n",
      "Capitalize name: Sahdev saini\n"
     ]
    }
   ],
   "source": [
    "name=input(\"Enter the name:- \")\n",
    "print(f\"Name in uppercase: {name.upper()}\")\n",
    "print(f\"Name in Lowercase: {name.lower()}\")\n",
    "print(f\"Name in center aling: {name.center(10)}\")\n",
    "print(f\"Name as a Title: {name.title()}\")\n",
    "print(f\"Name is in uppercase: {name.isupper()}\")\n",
    "print(f\"Name is in Lowercase: {name.islower()}\")\n",
    "print(f\"Name is in Ascii: {name.isascii()}\")\n",
    "print(f\"Name is Title: {name.istitle()}\")\n",
    "print(f\"Name Swapscape: {name.swapcase()}\")\n",
    "print(f\"Capitalize name: {name.capitalize()}\")\n"
   ]
  },
  {
   "cell_type": "code",
   "execution_count": 63,
   "id": "3f91eeea",
   "metadata": {},
   "outputs": [
    {
     "data": {
      "text/plain": [
       "'Sahdev Saini'"
      ]
     },
     "execution_count": 63,
     "metadata": {},
     "output_type": "execute_result"
    }
   ],
   "source": [
    "name"
   ]
  },
  {
   "cell_type": "code",
   "execution_count": 76,
   "id": "e3c55b4a",
   "metadata": {},
   "outputs": [
    {
     "name": "stdout",
     "output_type": "stream",
     "text": [
      "Enter the name:-Sahdev Saini\n",
      "Not in Uppercase not a lower case\n"
     ]
    }
   ],
   "source": [
    "nam=input(\"Enter the name:-\")\n",
    "if nam==nam.upper():\n",
    "    print(f\"{nam} is in uppercase\")\n",
    "elif nam==nam.lower():\n",
    "    print(f\"{nam} is in Lowercase\")\n",
    "else:\n",
    "    print(\"Not in Uppercase not a lower case\")\n"
   ]
  },
  {
   "cell_type": "code",
   "execution_count": 77,
   "id": "8104a78b",
   "metadata": {},
   "outputs": [
    {
     "name": "stdout",
     "output_type": "stream",
     "text": [
      "Enter the name:-sahdev saini\n",
      "sahdev saini is in Lowercase\n"
     ]
    }
   ],
   "source": [
    "nam=input(\"Enter the name:-\")\n",
    "if nam==nam.upper():\n",
    "    print(f\"{nam} is in uppercase\")\n",
    "elif nam==nam.lower():\n",
    "    print(f\"{nam} is in Lowercase\")\n",
    "else:\n",
    "    print(\"Not in Uppercase not a lower case\")\n"
   ]
  },
  {
   "cell_type": "code",
   "execution_count": 78,
   "id": "c3afb386",
   "metadata": {},
   "outputs": [
    {
     "name": "stdout",
     "output_type": "stream",
     "text": [
      "Enter the name:-SAHDEV SAINI\n",
      "SAHDEV SAINI is in uppercase\n"
     ]
    }
   ],
   "source": [
    "nam=input(\"Enter the name:-\")\n",
    "if nam==nam.upper():\n",
    "    print(f\"{nam} is in uppercase\")\n",
    "elif nam==nam.lower():\n",
    "    print(f\"{nam} is in Lowercase\")\n",
    "else:\n",
    "    print(\"Not in Uppercase not a lower case\")\n"
   ]
  },
  {
   "cell_type": "code",
   "execution_count": 79,
   "id": "496aee7a",
   "metadata": {},
   "outputs": [
    {
     "name": "stdout",
     "output_type": "stream",
     "text": [
      "Enter the namesadhev saini\n",
      "We need to auto correct it\n",
      "correct name is : Sadhev Saini\n"
     ]
    }
   ],
   "source": [
    "nam=input(\"Enter the name\")\n",
    "if nam==nam.title():\n",
    "    print(\"Name in the corect format\")\n",
    "elif nam==nam.isspace():\n",
    "    print(\"Name is not in space\")\n",
    "else:\n",
    "    print(\"We need to auto correct it:\")\n",
    "    nam=nam.title()\n",
    "    print(f\"correct name is : {nam}\")\n"
   ]
  },
  {
   "cell_type": "code",
   "execution_count": 82,
   "id": "981052ca",
   "metadata": {},
   "outputs": [
    {
     "name": "stdout",
     "output_type": "stream",
     "text": [
      "Enter the nameSahdev Saini\n",
      "Name in the correct format\n"
     ]
    }
   ],
   "source": [
    "nam=input(\"Enter the name\")\n",
    "if nam==nam.title():\n",
    "    print(\"Name in the correct format\")\n",
    "elif nam==nam.isspace():\n",
    "    print(\"Name is not in space\")\n",
    "else:\n",
    "    print(\"We need to auto correct it:\")\n",
    "    nam=nam.title()\n",
    "    print(f\"correct name is : {nam}\")\n"
   ]
  },
  {
   "cell_type": "markdown",
   "id": "f671a390",
   "metadata": {},
   "source": [
    "## Programe to check the phone number is valid or not"
   ]
  },
  {
   "cell_type": "code",
   "execution_count": 83,
   "id": "b899fd40",
   "metadata": {},
   "outputs": [
    {
     "name": "stdout",
     "output_type": "stream",
     "text": [
      "Enter the phone number:4586526\n",
      "Invalid number\n"
     ]
    }
   ],
   "source": [
    "phone_number=input(\"Enter the phone number:\")\n",
    "if phone_number.isdigit() and len(phone_number)==10:\n",
    "    print(f\"Use input is correct\")\n",
    "else:\n",
    "    print(\"Invalid number\")"
   ]
  },
  {
   "cell_type": "code",
   "execution_count": 84,
   "id": "275e3b5b",
   "metadata": {},
   "outputs": [
    {
     "name": "stdout",
     "output_type": "stream",
     "text": [
      "Enter the phone number:gfdghdhgxgxg\n",
      "Invalid number\n"
     ]
    }
   ],
   "source": [
    "phone_number=input(\"Enter the phone number:\")\n",
    "if phone_number.isdigit() and len(phone_number)==10:\n",
    "    print(f\"Use input is correct\")\n",
    "else:\n",
    "    print(\"Invalid number\")"
   ]
  },
  {
   "cell_type": "code",
   "execution_count": 85,
   "id": "62f3bb8f",
   "metadata": {},
   "outputs": [
    {
     "name": "stdout",
     "output_type": "stream",
     "text": [
      "Enter the phone number:8279881490\n",
      "Use input is corect\n"
     ]
    }
   ],
   "source": [
    "phone_number=input(\"Enter the phone number:\")\n",
    "if phone_number.isdigit() and len(phone_number)==10:\n",
    "    print(f\"Use input is correct\")\n",
    "else:\n",
    "    print(\"Invalid number\")"
   ]
  },
  {
   "cell_type": "code",
   "execution_count": 86,
   "id": "943c6b20",
   "metadata": {},
   "outputs": [
    {
     "name": "stdout",
     "output_type": "stream",
     "text": [
      "Enter the phone number:000000000\n",
      "Invalid number\n"
     ]
    }
   ],
   "source": [
    "phone_number=input(\"Enter the phone number:\")\n",
    "if phone_number.isdigit() and len(phone_number)==10 and phone_number!= \"0000000000\" :\n",
    "    print(f\"Use input is corect\")\n",
    "else:\n",
    "    print(\"Invalid number\")"
   ]
  },
  {
   "cell_type": "code",
   "execution_count": 87,
   "id": "6355dc81",
   "metadata": {},
   "outputs": [
    {
     "name": "stdout",
     "output_type": "stream",
     "text": [
      "Enter the phone number:8279881490\n",
      "Use input is corect\n"
     ]
    }
   ],
   "source": [
    "phone_number=input(\"Enter the phone number:\")\n",
    "if phone_number.isdigit() and len(phone_number)==10 and phone_number!= \"0000000000\" :\n",
    "    print(f\"Use input is corect\")\n",
    "else:\n",
    "    print(\"Invalid number\")"
   ]
  },
  {
   "cell_type": "code",
   "execution_count": 88,
   "id": "e642b0cc",
   "metadata": {},
   "outputs": [],
   "source": [
    "phone=\"8279512189\""
   ]
  },
  {
   "cell_type": "code",
   "execution_count": 89,
   "id": "6ada677a",
   "metadata": {},
   "outputs": [
    {
     "data": {
      "text/plain": [
       "True"
      ]
     },
     "execution_count": 89,
     "metadata": {},
     "output_type": "execute_result"
    }
   ],
   "source": [
    "phone.startswith(\"8\")"
   ]
  },
  {
   "cell_type": "code",
   "execution_count": 90,
   "id": "dce526b9",
   "metadata": {},
   "outputs": [
    {
     "data": {
      "text/plain": [
       "True"
      ]
     },
     "execution_count": 90,
     "metadata": {},
     "output_type": "execute_result"
    }
   ],
   "source": [
    "phone.endswith(\"9\")"
   ]
  },
  {
   "cell_type": "markdown",
   "id": "a3694708",
   "metadata": {},
   "source": [
    "## Programe to check wether given no is indian or not"
   ]
  },
  {
   "cell_type": "code",
   "execution_count": 91,
   "id": "ad0741e0",
   "metadata": {},
   "outputs": [
    {
     "name": "stdout",
     "output_type": "stream",
     "text": [
      "Enter your phone number:-25495825\n",
      "Invalid number\n"
     ]
    }
   ],
   "source": [
    "phone_number=input(\"Enter your phone number:-\")\n",
    "if phone_number[1:].isdigit() and phone_number.startswith(\"+91\") and len(phone_number)==13:\n",
    "    print(\"Given number is Indian\")\n",
    "else:\n",
    "    print(\"Invalid number\")"
   ]
  },
  {
   "cell_type": "code",
   "execution_count": 95,
   "id": "babfc3d0",
   "metadata": {},
   "outputs": [
    {
     "name": "stdout",
     "output_type": "stream",
     "text": [
      "Enter your phone number:-+917584658679\n",
      "Given number is Indian\n"
     ]
    }
   ],
   "source": [
    "phone_number=input(\"Enter your phone number:-\")\n",
    "if phone_number[1:].isdigit() and phone_number.startswith(\"+91\") and len(phone_number)==13:\n",
    "    print(\"Given number is Indian\")\n",
    "else:\n",
    "    print(\"Invalid number\")"
   ]
  },
  {
   "cell_type": "code",
   "execution_count": null,
   "id": "260ea074",
   "metadata": {},
   "outputs": [],
   "source": []
  }
 ],
 "metadata": {
  "kernelspec": {
   "display_name": "Python 3",
   "language": "python",
   "name": "python3"
  },
  "language_info": {
   "codemirror_mode": {
    "name": "ipython",
    "version": 3
   },
   "file_extension": ".py",
   "mimetype": "text/x-python",
   "name": "python",
   "nbconvert_exporter": "python",
   "pygments_lexer": "ipython3",
   "version": "3.8.8"
  }
 },
 "nbformat": 4,
 "nbformat_minor": 5
}
