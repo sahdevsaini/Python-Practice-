{
 "cells": [
  {
   "cell_type": "markdown",
   "id": "19c7145d",
   "metadata": {},
   "source": [
    "### 1. write a function which will try to find out len of a string without using an inbuilt len function "
   ]
  },
  {
   "cell_type": "code",
   "execution_count": 29,
   "id": "94e4d601",
   "metadata": {},
   "outputs": [
    {
     "name": "stdout",
     "output_type": "stream",
     "text": [
      "Enter a srtring: sahdev\n",
      "6\n"
     ]
    }
   ],
   "source": [
    "\n",
    "def lengh(s):\n",
    "    count=0\n",
    "    for i in s:\n",
    "        count+=1\n",
    "    return count    \n",
    "         \n",
    "s=str(input(\"Enter a srtring: \"))\n",
    "print(lengh(s))"
   ]
  },
  {
   "cell_type": "markdown",
   "id": "dbba9ce7",
   "metadata": {},
   "source": [
    "### 2. write a function which  will be able to print an index of list element without using an index function"
   ]
  },
  {
   "cell_type": "code",
   "execution_count": 50,
   "id": "e9bd9fa8",
   "metadata": {},
   "outputs": [
    {
     "name": "stdout",
     "output_type": "stream",
     "text": [
      "3\n"
     ]
    }
   ],
   "source": [
    "def index_list(l1,st):\n",
    "    count=0\n",
    "    index=0\n",
    "    for i in l1:\n",
    "        if st % i==0:\n",
    "            count+=1\n",
    "        if count==2:\n",
    "            return index\n",
    "        else:\n",
    "            index+=1\n",
    "        \n",
    "        \n",
    "        \n",
    "l1=[1,2,8,9,6,3]\n",
    "print(index_list(l1,9))"
   ]
  },
  {
   "cell_type": "markdown",
   "id": "326a5a5e",
   "metadata": {},
   "source": [
    "### 3. write a function which will be able to print an ip address of your system"
   ]
  },
  {
   "cell_type": "code",
   "execution_count": null,
   "id": "d050f398",
   "metadata": {},
   "outputs": [],
   "source": [
    "import sock"
   ]
  },
  {
   "cell_type": "markdown",
   "id": "abc516b2",
   "metadata": {},
   "source": [
    "### 4. write a function which will shutdown your system"
   ]
  },
  {
   "cell_type": "code",
   "execution_count": 3,
   "id": "15b205ee",
   "metadata": {},
   "outputs": [
    {
     "name": "stdout",
     "output_type": "stream",
     "text": [
      "Do you wish to shutdown your computer ? (yes / no): no\n",
      "None\n"
     ]
    }
   ],
   "source": [
    "import os\n",
    "  \n",
    "def shutdown(shutdown):\n",
    "    if shutdown == 'no':\n",
    "        exit()\n",
    "    else:\n",
    "        os.system(\"shutdown /s /t 1\")\n",
    "    \n",
    "intp = input(\"Do you wish to shutdown your computer ? (yes / no): \")\n",
    "print(shutdown(intp))"
   ]
  },
  {
   "cell_type": "markdown",
   "id": "e294a28d",
   "metadata": {},
   "source": [
    "### 5. write a function which will take input as a list with any kind of numeric value and give an out as a multiplication of all the numeric data l = [3.5, 6.56, 4,5,\"sudh\" , \"ineuron\" , 'fsda bootcamp 2.0']"
   ]
  },
  {
   "cell_type": "code",
   "execution_count": null,
   "id": "fce4b943",
   "metadata": {},
   "outputs": [],
   "source": []
  },
  {
   "cell_type": "markdown",
   "id": "613b972d",
   "metadata": {},
   "source": [
    "### 6. write a function which will be able to read all the mails "
   ]
  },
  {
   "cell_type": "code",
   "execution_count": null,
   "id": "12ad3d1d",
   "metadata": {},
   "outputs": [],
   "source": []
  },
  {
   "cell_type": "markdown",
   "id": "14767846",
   "metadata": {},
   "source": [
    "### 7 . write a function which will be able to send a mail to anyone "
   ]
  },
  {
   "cell_type": "code",
   "execution_count": null,
   "id": "dbdc15a5",
   "metadata": {},
   "outputs": [],
   "source": []
  },
  {
   "cell_type": "markdown",
   "id": "576b9b6a",
   "metadata": {},
   "source": [
    "### 8. write a function which will be able to read a doc/word file from your system "
   ]
  },
  {
   "cell_type": "code",
   "execution_count": null,
   "id": "1a08552d",
   "metadata": {},
   "outputs": [],
   "source": [
    "\n",
    "\n",
    "\n",
    "\n",
    "\n",
    "\n",
    "you are suppose to complete this by oct 30th before your \n",
    "live class and you have to send a solution at mail id - query@ineuron.ai\n",
    "submit your git link to mail "
   ]
  },
  {
   "cell_type": "code",
   "execution_count": null,
   "id": "f81dfad3",
   "metadata": {},
   "outputs": [],
   "source": []
  }
 ],
 "metadata": {
  "kernelspec": {
   "display_name": "Python 3",
   "language": "python",
   "name": "python3"
  },
  "language_info": {
   "codemirror_mode": {
    "name": "ipython",
    "version": 3
   },
   "file_extension": ".py",
   "mimetype": "text/x-python",
   "name": "python",
   "nbconvert_exporter": "python",
   "pygments_lexer": "ipython3",
   "version": "3.8.8"
  }
 },
 "nbformat": 4,
 "nbformat_minor": 5
}
