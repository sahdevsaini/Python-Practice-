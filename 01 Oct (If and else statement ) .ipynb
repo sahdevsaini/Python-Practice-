{
 "cells": [
  {
   "cell_type": "markdown",
   "id": "a31180c2",
   "metadata": {},
   "source": [
    "# ---------------------- Use of If -else Statement --------------------------"
   ]
  },
  {
   "cell_type": "markdown",
   "id": "3bdfd75d",
   "metadata": {},
   "source": [
    "### if its is raining then let's work from home else let's go to office"
   ]
  },
  {
   "cell_type": "code",
   "execution_count": 1,
   "id": "4f93555e",
   "metadata": {},
   "outputs": [
    {
     "name": "stdout",
     "output_type": "stream",
     "text": [
      "Let's work from home\n"
     ]
    }
   ],
   "source": [
    "raining=True       # True Condition \n",
    "if raining:\n",
    "    print(\"Let's work from home\")  # this statement executed \n",
    "else:\n",
    "    print(\"Let's go to  office \")"
   ]
  },
  {
   "cell_type": "code",
   "execution_count": 3,
   "id": "7bae8e5a",
   "metadata": {},
   "outputs": [
    {
     "name": "stdout",
     "output_type": "stream",
     "text": [
      "Let's go to  office\n"
     ]
    }
   ],
   "source": [
    "raining = False       # its not raining\n",
    "if raining:\n",
    "    print(\"Let's work from office\")\n",
    "else:\n",
    "    print(\"Let's go to  office\")     # this statement will executed"
   ]
  },
  {
   "cell_type": "markdown",
   "id": "da8dc32c",
   "metadata": {},
   "source": [
    "### use of Indendation "
   ]
  },
  {
   "cell_type": "code",
   "execution_count": 4,
   "id": "c1116bb1",
   "metadata": {},
   "outputs": [
    {
     "ename": "IndentationError",
     "evalue": "expected an indented block (<ipython-input-4-4f8e30ef9fee>, line 3)",
     "output_type": "error",
     "traceback": [
      "\u001b[1;36m  File \u001b[1;32m\"<ipython-input-4-4f8e30ef9fee>\"\u001b[1;36m, line \u001b[1;32m3\u001b[0m\n\u001b[1;33m    print(\"Let's work from office\")\u001b[0m\n\u001b[1;37m    ^\u001b[0m\n\u001b[1;31mIndentationError\u001b[0m\u001b[1;31m:\u001b[0m expected an indented block\n"
     ]
    }
   ],
   "source": [
    "raining=True  # Means its rainy\n",
    "if raining:\n",
    "print(\"Let's work from office\")  # Identation  error due to tab and absence of whitespace\n",
    "else:\n",
    "    print(\"Let's go to office\")\n"
   ]
  },
  {
   "cell_type": "code",
   "execution_count": 5,
   "id": "4c89346a",
   "metadata": {},
   "outputs": [
    {
     "ename": "IndentationError",
     "evalue": "expected an indented block (<ipython-input-5-bc0fd6fc11d6>, line 5)",
     "output_type": "error",
     "traceback": [
      "\u001b[1;36m  File \u001b[1;32m\"<ipython-input-5-bc0fd6fc11d6>\"\u001b[1;36m, line \u001b[1;32m5\u001b[0m\n\u001b[1;33m    print(\"Let's go to office \")\u001b[0m\n\u001b[1;37m    ^\u001b[0m\n\u001b[1;31mIndentationError\u001b[0m\u001b[1;31m:\u001b[0m expected an indented block\n"
     ]
    }
   ],
   "source": [
    "raining=False\n",
    "if raining:\n",
    "    print(\"Let's work from office\")\n",
    "else:\n",
    "print(\"Let's go to office \")  # Identation error occur due to this line   "
   ]
  },
  {
   "cell_type": "markdown",
   "id": "4e962f08",
   "metadata": {},
   "source": [
    "### if it's NOT raining then let's let's go to office ELSE let's work from home"
   ]
  },
  {
   "cell_type": "code",
   "execution_count": 3,
   "id": "60ee693f",
   "metadata": {},
   "outputs": [
    {
     "name": "stdout",
     "output_type": "stream",
     "text": [
      "Since its raining\n",
      "Work from office \n"
     ]
    }
   ],
   "source": [
    "raining=True     # True Condition \n",
    "if not raining:\n",
    "    print(\"Since its not raining\")\n",
    "    print(\"Let's go to office\")\n",
    "else:\n",
    "    print(\"Since its raining\")\n",
    "    print(\"Work from office \")   # This statement executed "
   ]
  },
  {
   "cell_type": "code",
   "execution_count": 4,
   "id": "400d4ae3",
   "metadata": {},
   "outputs": [
    {
     "name": "stdout",
     "output_type": "stream",
     "text": [
      "Since its not raining\n",
      "Let's go to office\n"
     ]
    }
   ],
   "source": [
    "raining=False    # True Condition \n",
    "if not raining:\n",
    "    print(\"Since its not raining\") # This statement executed\n",
    "    print(\"Let's go to office\")\n",
    "else:\n",
    "    print(\"Since its raining\")\n",
    "    print(\"Work from office \")   "
   ]
  },
  {
   "cell_type": "code",
   "execution_count": 5,
   "id": "b808fa9c",
   "metadata": {},
   "outputs": [
    {
     "name": "stdout",
     "output_type": "stream",
     "text": [
      "\n"
     ]
    }
   ],
   "source": [
    "class_started=False\n",
    "if class_started:\n",
    "    print(\"Lets Concentrate\")\n",
    "else:\n",
    "    print(\"\")"
   ]
  },
  {
   "cell_type": "markdown",
   "id": "a7db442a",
   "metadata": {},
   "source": [
    "##  Logical opertors \n",
    "\n",
    "Keywords | Meaning\n",
    "- | - \n",
    "not | unary negation\n",
    "and | conditional AND\n",
    "or | conditional OR"
   ]
  },
  {
   "cell_type": "markdown",
   "id": "b9558b1c",
   "metadata": {},
   "source": [
    "### if class started then let's concentrate else revise the previous class\n"
   ]
  },
  {
   "cell_type": "code",
   "execution_count": 7,
   "id": "95292da6",
   "metadata": {},
   "outputs": [
    {
     "name": "stdout",
     "output_type": "stream",
     "text": [
      "Since class started...\n",
      "Lets concentrate\n"
     ]
    }
   ],
   "source": [
    "class_started = True\n",
    "\n",
    "if class_started:\n",
    "    print(\"Since class started...\")\n",
    "    print(\"Lets concentrate\")\n",
    "else:\n",
    "    print(\"Since class is not started...\")\n",
    "    print(\"let's revise\")"
   ]
  },
  {
   "cell_type": "code",
   "execution_count": 8,
   "id": "25d660bc",
   "metadata": {},
   "outputs": [
    {
     "name": "stdout",
     "output_type": "stream",
     "text": [
      "Since class is not started...\n",
      "let's revise\n"
     ]
    }
   ],
   "source": [
    "class_started = False\n",
    "\n",
    "if class_started:\n",
    "    print(\"Since class started...\")\n",
    "    print(\"Lets concentrate\")\n",
    "else:\n",
    "    print(\"Since class is not started...\")\n",
    "    print(\"let's revise\")"
   ]
  },
  {
   "cell_type": "markdown",
   "id": "9bec4e05",
   "metadata": {},
   "source": [
    "### if class NOT started then let's revise else let's concentrate class\n"
   ]
  },
  {
   "cell_type": "code",
   "execution_count": 9,
   "id": "c5ad35ff",
   "metadata": {},
   "outputs": [
    {
     "name": "stdout",
     "output_type": "stream",
     "text": [
      "Since class is not started...\n",
      "let's revise\n"
     ]
    }
   ],
   "source": [
    "class_started = True\n",
    "\n",
    "if not class_started:\n",
    "    print(\"Since class started...\")\n",
    "    print(\"Lets concentrate\")\n",
    "else:\n",
    "    print(\"Since class is not started...\")  # this statement is executed \n",
    "    print(\"let's revise\")"
   ]
  },
  {
   "cell_type": "code",
   "execution_count": 10,
   "id": "86ceaaf9",
   "metadata": {},
   "outputs": [
    {
     "name": "stdout",
     "output_type": "stream",
     "text": [
      "Since class started...\n",
      "Lets concentrate\n"
     ]
    }
   ],
   "source": [
    "class_started = False\n",
    "\n",
    "if not class_started:\n",
    "    print(\"Since class started...\")   # This statement is executed \n",
    "    print(\"Lets concentrate\")\n",
    "else:\n",
    "    print(\"Since class is not started...\")  \n",
    "    print(\"let's revise\")"
   ]
  },
  {
   "cell_type": "code",
   "execution_count": 11,
   "id": "2931cd9e",
   "metadata": {},
   "outputs": [
    {
     "ename": "IndentationError",
     "evalue": "expected an indented block (<ipython-input-11-18bfdb242d16>, line 4)",
     "output_type": "error",
     "traceback": [
      "\u001b[1;36m  File \u001b[1;32m\"<ipython-input-11-18bfdb242d16>\"\u001b[1;36m, line \u001b[1;32m4\u001b[0m\n\u001b[1;33m    print(\"Since class started...\")   # This statement is executed\u001b[0m\n\u001b[1;37m    ^\u001b[0m\n\u001b[1;31mIndentationError\u001b[0m\u001b[1;31m:\u001b[0m expected an indented block\n"
     ]
    }
   ],
   "source": [
    "class_started = False\n",
    "\n",
    "if not class_started:\n",
    "print(\"Since class started...\")   # Indentation error occur due to this line of code \n",
    "    print(\"Lets concentrate\")\n",
    "else:\n",
    "print(\"Since class is not started...\")   # Indentation error occur due to this error.\n",
    "    print(\"let's revise\")"
   ]
  },
  {
   "cell_type": "markdown",
   "id": "c0b5b96c",
   "metadata": {},
   "source": [
    "### and Conditional AND\n",
    "Vegetable | Salt | Dish\n",
    "- | - | -\n",
    "False | False | False\n",
    "False | True | False\n",
    "True | False | False\n",
    "True | True | True\n"
   ]
  },
  {
   "cell_type": "code",
   "execution_count": 15,
   "id": "60fae89d",
   "metadata": {},
   "outputs": [
    {
     "name": "stdout",
     "output_type": "stream",
     "text": [
      "it is bad dish\n",
      "because vegetable present:False\n",
      "salt present:False\n"
     ]
    }
   ],
   "source": [
    "vegetable_present = False\n",
    "salt_present = False\n",
    "if vegetable_present and salt_present:\n",
    "    print(\"It is good dish\")\n",
    "else:                        # this statement is exceute because both the condition is false if condition \n",
    "    print(\"it is bad dish\")\n",
    "    print(f\"because vegetable present:{vegetable_present}\")\n",
    "    print(f\"salt present:{salt_present}\")"
   ]
  },
  {
   "cell_type": "code",
   "execution_count": 2,
   "id": "844d2386",
   "metadata": {},
   "outputs": [
    {
     "name": "stdout",
     "output_type": "stream",
     "text": [
      "It is bad for health\n",
      "beacause vegetable present:True\n",
      "salt present:False\n"
     ]
    }
   ],
   "source": [
    "vegetable_present=True\n",
    "salt_present=False\n",
    "if vegetable_present and salt_present:\n",
    "    print(\"It is good dish for health\")\n",
    "else:    \n",
    "    print(\"It is bad for health\")\n",
    "    print(f\"beacause vegetable present:{vegetable_present}\")\n",
    "    print(f\"salt present:{salt_present}\")"
   ]
  },
  {
   "cell_type": "code",
   "execution_count": 3,
   "id": "14612200",
   "metadata": {},
   "outputs": [
    {
     "name": "stdout",
     "output_type": "stream",
     "text": [
      "It is good dish for health\n"
     ]
    }
   ],
   "source": [
    "vegetable_present=True\n",
    "salt_present=True\n",
    "if vegetable_present and salt_present:  # this statement will execute because both condition is true.\n",
    "    print(\"It is good dish for health\")\n",
    "else:\n",
    "    print(\"It is bad for health\")\n",
    "    print(f\"beacause vegetable present:{vegetable_present}\")\n",
    "    print(f\"salt present:{salt_present}\")"
   ]
  },
  {
   "cell_type": "markdown",
   "id": "db94de82",
   "metadata": {},
   "source": [
    "# OR Conditional operator\n",
    "Car | Bike | Travel_100_kms\n",
    "- | - | -\n",
    "False | False | False\n",
    "False | True | True\n",
    "True | False | True\n",
    "True | True | True"
   ]
  },
  {
   "cell_type": "code",
   "execution_count": 4,
   "id": "9db3256a",
   "metadata": {},
   "outputs": [
    {
     "name": "stdout",
     "output_type": "stream",
     "text": [
      "I am stuck as I don't have car or bike!\n"
     ]
    }
   ],
   "source": [
    "i_own_car = False\n",
    "i_own_bike = False\n",
    "if i_own_car or i_own_bike:  \n",
    "    print(\"I can travel 100 km per day\")\n",
    "else:  # Both condition are false so or resultant is also false hence else statement will execute \n",
    "    print(\"I am stuck as I don't have car or bike!\")"
   ]
  },
  {
   "cell_type": "code",
   "execution_count": 5,
   "id": "2b7ef65a",
   "metadata": {},
   "outputs": [
    {
     "name": "stdout",
     "output_type": "stream",
     "text": [
      "I can travel 100 km per day\n"
     ]
    }
   ],
   "source": [
    "i_own_car = True \n",
    "i_own_bike = False\n",
    "if i_own_car or i_own_bike:  # one condition is true and other conditionis also false so resultant is true so if condtion will execute \n",
    "    print(\"I can travel 100 km per day\")\n",
    "else:  \n",
    "    print(\"I am stuck as I don't have car or bike!\")"
   ]
  },
  {
   "cell_type": "code",
   "execution_count": 6,
   "id": "1d973e21",
   "metadata": {},
   "outputs": [
    {
     "name": "stdout",
     "output_type": "stream",
     "text": [
      "I can travel 100 km per day\n"
     ]
    }
   ],
   "source": [
    "i_own_car = True \n",
    "i_own_bike = True\n",
    "if i_own_car or i_own_bike:  # both condition are true wso resultant is true Hence if condition  will execute\n",
    "    print(\"I can travel 100 km per day\")\n",
    "else:  \n",
    "    print(\"I am stuck as I don't have car or bike!\")"
   ]
  },
  {
   "cell_type": "code",
   "execution_count": 7,
   "id": "57ebefd2",
   "metadata": {},
   "outputs": [
    {
     "name": "stdout",
     "output_type": "stream",
     "text": [
      "I can travel 100 km per day\n"
     ]
    }
   ],
   "source": [
    "i_own_car = False \n",
    "i_own_bike = True\n",
    "if i_own_car or i_own_bike:  # One condition is true and other condtion is false hence resultant is true so if condition will ececute \n",
    "    print(\"I can travel 100 km per day\")\n",
    "else:  \n",
    "    print(\"I am stuck as I don't have car or bike!\")"
   ]
  },
  {
   "cell_type": "markdown",
   "id": "a4b16b04",
   "metadata": {},
   "source": [
    "### example-\n",
    "\n",
    "attendance | assignment | eligible_for_exam\n",
    "- | - | -\n",
    ">=75% | >=70% | True"
   ]
  },
  {
   "cell_type": "code",
   "execution_count": 18,
   "id": "48950dfe",
   "metadata": {},
   "outputs": [
    {
     "name": "stdout",
     "output_type": "stream",
     "text": [
      "Attendence Criteria >=75 :- False\n",
      "Assingment Criteria>=70:- False\n",
      "Student is not eligiible\n"
     ]
    }
   ],
   "source": [
    "attendence = 70\n",
    "assignment =40\n",
    "print(f\"Attendence Criteria >=75 :- {attendence>=75}\")\n",
    "print(f\"Assingment Criteria>=70:- {assignment>=70}\")\n",
    "\n",
    "if attendence>=75 and assignment>=70:\n",
    "    print(\"Student is eligible for exam \")\n",
    "else:     # Both the condition are false so resultant is false hence, else condition will execute.\n",
    "    print(\"Student is not eligiible\")"
   ]
  },
  {
   "cell_type": "code",
   "execution_count": 19,
   "id": "cb922366",
   "metadata": {},
   "outputs": [
    {
     "name": "stdout",
     "output_type": "stream",
     "text": [
      "Attendence Criteria >=75 :- True\n",
      "Assingment Criteria>=70:- False\n",
      "Student is not eligiible\n"
     ]
    }
   ],
   "source": [
    "attendence = 80\n",
    "assignment =40\n",
    "print(f\"Attendence Criteria >=75 :- {attendence>=75}\")\n",
    "print(f\"Assingment Criteria>=70:- {assignment>=70}\")\n",
    "\n",
    "if attendence>=75 and assignment>=70:\n",
    "    print(\"Student is eligible for exam \")\n",
    "else: # One condition is true and other condition is false so resultant is false hence, else condition will execute.\n",
    "    print(\"Student is not eligiible\")"
   ]
  },
  {
   "cell_type": "code",
   "execution_count": 20,
   "id": "f3953db8",
   "metadata": {},
   "outputs": [
    {
     "name": "stdout",
     "output_type": "stream",
     "text": [
      "Attendence Criteria >=75 :- True\n",
      "Assingment Criteria>=70:- True\n",
      "Student is eligible for exam \n"
     ]
    }
   ],
   "source": [
    "attendence = 77\n",
    "assignment =80\n",
    "print(f\"Attendence Criteria >=75 :- {attendence>=75}\")\n",
    "print(f\"Assingment Criteria>=70:- {assignment>=70}\")\n",
    "\n",
    "if attendence>=75 and assignment>=70: # Both the condition are true so resultant is also true hence if condition is execute.\n",
    "    print(\"Student is eligible for exam \")\n",
    "else:\n",
    "    print(\"Student is not eligiible\")"
   ]
  },
  {
   "cell_type": "markdown",
   "id": "8c8af1b0",
   "metadata": {},
   "source": [
    "## and or together\n",
    "\n",
    "attendance | assignment | sports_player | eligible_for_exam\n",
    "- | - | - | -\n",
    ">=75% | >=70% | False | True\n",
    ">=75% | >=70% | True | True"
   ]
  },
  {
   "cell_type": "code",
   "execution_count": 22,
   "id": "8ee85a0b",
   "metadata": {},
   "outputs": [
    {
     "name": "stdout",
     "output_type": "stream",
     "text": [
      "Assigment Criteria:-True\n",
      "Attendance Criteria:-False\n",
      "Sports criteria:-True\n",
      "Student is eligible for final exam \n"
     ]
    }
   ],
   "source": [
    "assignment=70\n",
    "attendance= 60\n",
    "sports_player=True\n",
    "print(f\"Assigment Criteria:-{assignment>=70}\")\n",
    "print(f\"Attendance Criteria:-{attendance>=75}\")\n",
    "print(f\"Sports criteria:-{sports_player}\")\n",
    "if assignment and attendance:\n",
    "    if sports_player:\n",
    "        print(\"Student is eligible for final exam \")\n",
    "    else:\n",
    "        print(\"Student is eligible for final exam\")\n",
    "else:\n",
    "    print(\"Student is not eligible\")\n",
    "        "
   ]
  },
  {
   "cell_type": "code",
   "execution_count": 23,
   "id": "643f88a9",
   "metadata": {},
   "outputs": [
    {
     "name": "stdout",
     "output_type": "stream",
     "text": [
      "Assigment Criteria:-True\n",
      "Attendance Criteria:-True\n",
      "Sports criteria:-True\n",
      "Student is eligible for final exam \n"
     ]
    }
   ],
   "source": [
    "assignment=70\n",
    "attendance= 80\n",
    "sports_player=True\n",
    "print(f\"Assigment Criteria:-{assignment>=70}\")\n",
    "print(f\"Attendance Criteria:-{attendance>=75}\")\n",
    "print(f\"Sports criteria:-{sports_player}\")\n",
    "if assignment and attendance:\n",
    "    if sports_player:\n",
    "        print(\"Student is eligible for final exam \")\n",
    "    else:\n",
    "        print(\"Student is eligible for final exam\")\n",
    "else:\n",
    "    print(\"Student is not eligible\")\n",
    "        "
   ]
  },
  {
   "cell_type": "code",
   "execution_count": 24,
   "id": "49145036",
   "metadata": {},
   "outputs": [
    {
     "name": "stdout",
     "output_type": "stream",
     "text": [
      "Assigment Criteria:-False\n",
      "Attendance Criteria:-False\n",
      "Sports criteria:-True\n",
      "Student is eligible for final exam \n"
     ]
    }
   ],
   "source": [
    "assignment=60\n",
    "attendance= 70\n",
    "sports_player=True\n",
    "print(f\"Assigment Criteria:-{assignment>=70}\")\n",
    "print(f\"Attendance Criteria:-{attendance>=75}\")\n",
    "print(f\"Sports criteria:-{sports_player}\")\n",
    "if assignment and attendance:\n",
    "    if sports_player:\n",
    "        print(\"Student is eligible for final exam \")\n",
    "    else:\n",
    "        print(\"Student is eligible for final exam\")\n",
    "else:\n",
    "    print(\"Student is not eligible\")\n",
    "        "
   ]
  },
  {
   "cell_type": "markdown",
   "id": "5361aebb",
   "metadata": {},
   "source": [
    "### Example:- \n",
    "### if attendence is more than 75% and assignment completed more than 70% OR the student is sports player then only the student is eligible for exam if you are sports player then you will get grace marks = +10"
   ]
  },
  {
   "cell_type": "code",
   "execution_count": 30,
   "id": "153738a0",
   "metadata": {},
   "outputs": [
    {
     "name": "stdout",
     "output_type": "stream",
     "text": [
      "Attendence Criteria:-True\n",
      "Assingment Completed Criteria:-True\n",
      "Sports Critria:-False\n",
      "Student is eligible for exam but not eligible for +10 marks grace\n"
     ]
    }
   ],
   "source": [
    "attendence=80\n",
    "assignment_completed=70\n",
    "sports_player=False\n",
    "print(f\"Attendence Criteria:-{attendence>=75}\")\n",
    "print(f\"Assingment Completed Criteria:-{assignment_completed>=70}\")\n",
    "print(f\"Sports Critria:-{sports_player}\")\n",
    "if attendence >=75 and assignment_completed >= 70:\n",
    "    if sports_player:\n",
    "        print(\"Student is eligible for get +10 grace\")\n",
    "    else:\n",
    "        print(\"Student is eligible for exam but not eligible for +10 marks grace\")\n",
    "else:\n",
    "    print(\"Student is not eligible for exam\")"
   ]
  },
  {
   "cell_type": "code",
   "execution_count": 31,
   "id": "82f1dca2",
   "metadata": {},
   "outputs": [
    {
     "name": "stdout",
     "output_type": "stream",
     "text": [
      "Attendence Criteria:-True\n",
      "Assingment Completed Criteria:-True\n",
      "Sports Critria:-True\n",
      "Student is eligible for get +10 grace\n"
     ]
    }
   ],
   "source": [
    "attendence=80\n",
    "assignment_completed=70\n",
    "sports_player=True\n",
    "print(f\"Attendence Criteria:-{attendence>=75}\")\n",
    "print(f\"Assingment Completed Criteria:-{assignment_completed>=70}\")\n",
    "print(f\"Sports Critria:-{sports_player}\")\n",
    "if attendence >=75 and assignment_completed >= 70:\n",
    "    if sports_player:\n",
    "        print(\"Student is eligible for get +10 grace\")\n",
    "    else:\n",
    "        print(\"Student is eligible for exam but not eligible for +10 marks grace\")\n",
    "else:\n",
    "    print(\"Student is not eligible for exam\")"
   ]
  },
  {
   "cell_type": "code",
   "execution_count": 32,
   "id": "b1885288",
   "metadata": {},
   "outputs": [
    {
     "name": "stdout",
     "output_type": "stream",
     "text": [
      "Attendence Criteria:-False\n",
      "Assingment Completed Criteria:-False\n",
      "Sports Critria:-True\n",
      "Student is not eligible for exam\n"
     ]
    }
   ],
   "source": [
    "attendence=60\n",
    "assignment_completed=65\n",
    "sports_player=True\n",
    "print(f\"Attendence Criteria:-{attendence>=75}\")\n",
    "print(f\"Assingment Completed Criteria:-{assignment_completed>=70}\")\n",
    "print(f\"Sports Critria:-{sports_player}\")\n",
    "if attendence >=75 and assignment_completed >= 70:\n",
    "    if sports_player:\n",
    "        print(\"Student is eligible for get +10 grace\")\n",
    "    else:\n",
    "        print(\"Student is eligible for exam but not eligible for +10 marks grace\")\n",
    "else:\n",
    "    print(\"Student is not eligible for exam\")"
   ]
  },
  {
   "cell_type": "markdown",
   "id": "c4fbc026",
   "metadata": {},
   "source": [
    "# Equality Operator\n",
    "Operator | uses | Meaning\n",
    "- | - | -\n",
    "is | A is B=> | return True if A and B points to the same object   \n",
    "is not | A is not B | returns True if A and B do not points to the same object\n",
    "== | A == B | A is equal to B\n",
    "!= | A != B | A is not equal to B\n",
    "\n",
    "When using `is` then we are also comparing memory location\n",
    "When using `is not` then we are also comparing memory location\n",
    "\n",
    "== and != is only checking value of the variables [Used more offently or frequently]"
   ]
  },
  {
   "cell_type": "code",
   "execution_count": null,
   "id": "9488de92",
   "metadata": {},
   "outputs": [],
   "source": []
  },
  {
   "cell_type": "code",
   "execution_count": 11,
   "id": "1c67a29d",
   "metadata": {},
   "outputs": [
    {
     "name": "stdout",
     "output_type": "stream",
     "text": [
      "A and B are same\n"
     ]
    }
   ],
   "source": [
    "A=1\n",
    "B=1\n",
    "if A is B: # Memory location of both A and B are same so if statement will be executed.\n",
    "    print(\"A and B are same\")\n",
    "else:\n",
    "    print(\"A and B are not same\")"
   ]
  },
  {
   "cell_type": "markdown",
   "id": "63534eac",
   "metadata": {},
   "source": [
    "### Use of id() function "
   ]
  },
  {
   "cell_type": "code",
   "execution_count": 12,
   "id": "85cb9b91",
   "metadata": {},
   "outputs": [
    {
     "data": {
      "text/plain": [
       "140713737070384"
      ]
     },
     "execution_count": 12,
     "metadata": {},
     "output_type": "execute_result"
    }
   ],
   "source": [
    "id(A)    ## id() function is used to know the memory location of varible."
   ]
  },
  {
   "cell_type": "code",
   "execution_count": 13,
   "id": "71b56b87",
   "metadata": {},
   "outputs": [
    {
     "data": {
      "text/plain": [
       "140713737070384"
      ]
     },
     "execution_count": 13,
     "metadata": {},
     "output_type": "execute_result"
    }
   ],
   "source": [
    "id(B)"
   ]
  },
  {
   "cell_type": "code",
   "execution_count": 10,
   "id": "39cdcc47",
   "metadata": {},
   "outputs": [
    {
     "name": "stdout",
     "output_type": "stream",
     "text": [
      "A and B are not same \n"
     ]
    }
   ],
   "source": [
    "A=1\n",
    "B=2\n",
    "if A is B:\n",
    "    print(\"A and B are same\")\n",
    "else:    # Memory location of A and B are not same so else statement will execute.\n",
    "    print(\"A and B are not same \")\n",
    "    "
   ]
  },
  {
   "cell_type": "code",
   "execution_count": 14,
   "id": "3b431576",
   "metadata": {},
   "outputs": [
    {
     "name": "stdout",
     "output_type": "stream",
     "text": [
      "A and B are same\n"
     ]
    }
   ],
   "source": [
    "A=1\n",
    "B=2\n",
    "if A is not B:\n",
    "    print(\"A and B are same\")\n",
    "else:\n",
    "    print(\"A and B are not same \")\n",
    "    "
   ]
  },
  {
   "cell_type": "code",
   "execution_count": 17,
   "id": "de2ba203",
   "metadata": {},
   "outputs": [
    {
     "name": "stdout",
     "output_type": "stream",
     "text": [
      "A and B are same \n"
     ]
    }
   ],
   "source": [
    "A=2\n",
    "B=1+1\n",
    "if A == B:   # Condition is true so so if statement will execute \n",
    "    print(\"A and B are same \")\n",
    "else:\n",
    "    print(\"A and B are not same \")"
   ]
  },
  {
   "cell_type": "code",
   "execution_count": 18,
   "id": "f81b7e56",
   "metadata": {},
   "outputs": [
    {
     "name": "stdout",
     "output_type": "stream",
     "text": [
      "A and B are not same \n"
     ]
    }
   ],
   "source": [
    "A=2\n",
    "B=1+1\n",
    "if A != B:\n",
    "    print(\"A and B are same \")\n",
    "else:\n",
    "    print(\"A and B are not same \")"
   ]
  },
  {
   "cell_type": "code",
   "execution_count": 19,
   "id": "bae1a35d",
   "metadata": {},
   "outputs": [
    {
     "data": {
      "text/plain": [
       "True"
      ]
     },
     "execution_count": 19,
     "metadata": {},
     "output_type": "execute_result"
    }
   ],
   "source": [
    "A=\"sunny\"\n",
    "B=\"sunny\"\n",
    "A is B"
   ]
  },
  {
   "cell_type": "code",
   "execution_count": 20,
   "id": "d50fe569",
   "metadata": {},
   "outputs": [
    {
     "data": {
      "text/plain": [
       "True"
      ]
     },
     "execution_count": 20,
     "metadata": {},
     "output_type": "execute_result"
    }
   ],
   "source": [
    "A==B"
   ]
  },
  {
   "cell_type": "code",
   "execution_count": 21,
   "id": "6e66b0eb",
   "metadata": {},
   "outputs": [
    {
     "data": {
      "text/plain": [
       "False"
      ]
     },
     "execution_count": 21,
     "metadata": {},
     "output_type": "execute_result"
    }
   ],
   "source": [
    "A is not B"
   ]
  },
  {
   "cell_type": "code",
   "execution_count": 23,
   "id": "edcad3f4",
   "metadata": {},
   "outputs": [
    {
     "data": {
      "text/plain": [
       "False"
      ]
     },
     "execution_count": 23,
     "metadata": {},
     "output_type": "execute_result"
    }
   ],
   "source": [
    "# use of list data structure\n",
    "A=[\"Sahdev\",\"Saini\"]\n",
    "B=[\"Sahdev\",\"Saini\"]\n",
    "A is B\n"
   ]
  },
  {
   "cell_type": "code",
   "execution_count": 24,
   "id": "3f3a8576",
   "metadata": {},
   "outputs": [
    {
     "data": {
      "text/plain": [
       "2450975815360"
      ]
     },
     "execution_count": 24,
     "metadata": {},
     "output_type": "execute_result"
    }
   ],
   "source": [
    "id(A) "
   ]
  },
  {
   "cell_type": "code",
   "execution_count": 25,
   "id": "9cc26838",
   "metadata": {},
   "outputs": [
    {
     "data": {
      "text/plain": [
       "2450975465856"
      ]
     },
     "execution_count": 25,
     "metadata": {},
     "output_type": "execute_result"
    }
   ],
   "source": [
    "id(B)"
   ]
  },
  {
   "cell_type": "markdown",
   "id": "a5136586",
   "metadata": {},
   "source": [
    "### Use of input Function "
   ]
  },
  {
   "cell_type": "code",
   "execution_count": 27,
   "id": "667684b9",
   "metadata": {},
   "outputs": [
    {
     "name": "stdout",
     "output_type": "stream",
     "text": [
      "Enetr the vlaue of A:- 2\n",
      "Enter the value of B:- 2\n"
     ]
    },
    {
     "data": {
      "text/plain": [
       "True"
      ]
     },
     "execution_count": 27,
     "metadata": {},
     "output_type": "execute_result"
    }
   ],
   "source": [
    "A=input(\"Enetr the vlaue of A:- \")\n",
    "B=input(\"Enter the value of B:- \")\n",
    "A is B"
   ]
  },
  {
   "cell_type": "code",
   "execution_count": 29,
   "id": "fedbbd19",
   "metadata": {},
   "outputs": [
    {
     "name": "stdout",
     "output_type": "stream",
     "text": [
      "Enter the value of B: 1\n"
     ]
    },
    {
     "data": {
      "text/plain": [
       "True"
      ]
     },
     "execution_count": 29,
     "metadata": {},
     "output_type": "execute_result"
    }
   ],
   "source": [
    "A=1\n",
    "B=int(input(\"Enter the value of B: \"))\n",
    "A is B"
   ]
  },
  {
   "cell_type": "code",
   "execution_count": 31,
   "id": "b976065f",
   "metadata": {},
   "outputs": [
    {
     "name": "stdout",
     "output_type": "stream",
     "text": [
      "Enter your name: Sahdev Saini\n",
      "He is Engineer Trainee\n"
     ]
    }
   ],
   "source": [
    "name=input(\"Enter your name: \")\n",
    "if name==\"Sahdev Saini\":\n",
    "    print(\"He is Engineer Trainee\")\n",
    "else:\n",
    "    print(\"Not a Engineer trainee\")"
   ]
  },
  {
   "cell_type": "code",
   "execution_count": 32,
   "id": "282227f8",
   "metadata": {},
   "outputs": [
    {
     "name": "stdout",
     "output_type": "stream",
     "text": [
      "Enter your name: Sahdev\n",
      "Not a Engineer trainee\n"
     ]
    }
   ],
   "source": [
    "name=input(\"Enter your name: \")\n",
    "if name==\"Sahdev Saini\":\n",
    "    print(\"He is Engineer Trainee\")\n",
    "else:\n",
    "    print(\"Not a Engineer trainee\")"
   ]
  },
  {
   "cell_type": "markdown",
   "id": "5f4881e3",
   "metadata": {},
   "source": [
    "### Comparision\n",
    "\n",
    "Operation | Meaning\n",
    "- | -\n",
    "< | A < B \n",
    "<= | A <= B\n",
    "> | A > B \n",
    ">= | A >= B"
   ]
  },
  {
   "cell_type": "code",
   "execution_count": 34,
   "id": "ec72cf93",
   "metadata": {},
   "outputs": [
    {
     "name": "stdout",
     "output_type": "stream",
     "text": [
      "Your score is 90 and you have passed the exam\n",
      "Well done it is wonderful!\n"
     ]
    }
   ],
   "source": [
    "your_score = 90\n",
    "passing_marks = 33.33\n",
    "distinction_marks = 75\n",
    "\n",
    "if your_score > 33.33:\n",
    "    print(f\"Your score is {your_score} and you have passed the exam\")\n",
    "    if your_score > distinction_marks:\n",
    "        print(f\"Well done it is wonderful!\")\n",
    "else:\n",
    "    print(\"You should take thing sericiously\")\n",
    "        "
   ]
  },
  {
   "cell_type": "code",
   "execution_count": 35,
   "id": "6a9597eb",
   "metadata": {},
   "outputs": [
    {
     "name": "stdout",
     "output_type": "stream",
     "text": [
      "Your score is 60 and you have passed the exam\n"
     ]
    }
   ],
   "source": [
    "your_score = 60\n",
    "passing_marks = 33.33\n",
    "distinction_marks = 75\n",
    "\n",
    "if your_score > 33.33:\n",
    "    print(f\"Your score is {your_score} and you have passed the exam\")\n",
    "    if your_score > distinction_marks:\n",
    "        print(f\"Well done it is wonderful!\")\n",
    "else:\n",
    "    print(\"You should take thing sericiously\")\n",
    "        "
   ]
  },
  {
   "cell_type": "code",
   "execution_count": 37,
   "id": "6a9a2485",
   "metadata": {},
   "outputs": [
    {
     "name": "stdout",
     "output_type": "stream",
     "text": [
      "You should take thing sericiously\n"
     ]
    }
   ],
   "source": [
    "your_score = 33\n",
    "passing_marks = 33.33\n",
    "distinction_marks = 75\n",
    "\n",
    "if your_score > 33.33:\n",
    "    print(f\"Your score is {your_score} and you have passed the exam\")\n",
    "    if your_score > distinction_marks:\n",
    "        print(f\"Well done it is wonderful!\")\n",
    "else:\n",
    "    print(\"You should take thing sericiously\")\n",
    "        "
   ]
  },
  {
   "cell_type": "code",
   "execution_count": null,
   "id": "75521adc",
   "metadata": {},
   "outputs": [],
   "source": []
  }
 ],
 "metadata": {
  "kernelspec": {
   "display_name": "Python 3",
   "language": "python",
   "name": "python3"
  },
  "language_info": {
   "codemirror_mode": {
    "name": "ipython",
    "version": 3
   },
   "file_extension": ".py",
   "mimetype": "text/x-python",
   "name": "python",
   "nbconvert_exporter": "python",
   "pygments_lexer": "ipython3",
   "version": "3.8.8"
  }
 },
 "nbformat": 4,
 "nbformat_minor": 5
}
