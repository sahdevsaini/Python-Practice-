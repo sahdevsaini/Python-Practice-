{
 "cells": [
  {
   "cell_type": "markdown",
   "id": "40c2faf5",
   "metadata": {},
   "source": [
    "### Creating a class xyz "
   ]
  },
  {
   "cell_type": "code",
   "execution_count": 1,
   "id": "a4d52d7a",
   "metadata": {},
   "outputs": [],
   "source": [
    "#  Declaration of xyz class.\n",
    "class xyz:\n",
    "    def __init__(self,a,b,c):\n",
    "        self.a =a\n",
    "        self.b =b\n",
    "        self.c =c\n",
    "        \n",
    "    def test(self):\n",
    "        print(\"This is 1st method of xyz class\")\n",
    "        \n",
    "    def test1(self):\n",
    "        print(\"This is 2nd method of xyz class\")\n",
    "        \n",
    "    def test2(self):\n",
    "        print(\"This is 3rd method of xyz class\")    "
   ]
  },
  {
   "cell_type": "code",
   "execution_count": 5,
   "id": "4706ad3f",
   "metadata": {},
   "outputs": [],
   "source": [
    "n=xyz(4,5,6)                     # creating object of class xyz.\n"
   ]
  },
  {
   "cell_type": "code",
   "execution_count": 29,
   "id": "6ba3bd84",
   "metadata": {},
   "outputs": [
    {
     "data": {
      "text/plain": [
       "4"
      ]
     },
     "execution_count": 29,
     "metadata": {},
     "output_type": "execute_result"
    }
   ],
   "source": [
    "n.a"
   ]
  },
  {
   "cell_type": "code",
   "execution_count": 8,
   "id": "bd929252",
   "metadata": {},
   "outputs": [
    {
     "name": "stdout",
     "output_type": "stream",
     "text": [
      "This is 1st method of xyz class\n"
     ]
    }
   ],
   "source": [
    "n.test()                         # calling of test method of xyz class "
   ]
  },
  {
   "cell_type": "markdown",
   "id": "50cbcea3",
   "metadata": {},
   "source": [
    "### Simple Inheritance "
   ]
  },
  {
   "cell_type": "code",
   "execution_count": 16,
   "id": "2d31db70",
   "metadata": {},
   "outputs": [],
   "source": [
    "class xyz1(xyz):                 # Inheriting xyz class into xyz1 class.\n",
    "    pass"
   ]
  },
  {
   "cell_type": "code",
   "execution_count": null,
   "id": "fff7fbd2",
   "metadata": {},
   "outputs": [],
   "source": []
  },
  {
   "cell_type": "code",
   "execution_count": 22,
   "id": "d998faf0",
   "metadata": {},
   "outputs": [],
   "source": [
    "p= xyz1(3,4,5)                   # creating object of class xyz1 which is inhering properties of xyz class."
   ]
  },
  {
   "cell_type": "code",
   "execution_count": 24,
   "id": "508198bd",
   "metadata": {},
   "outputs": [
    {
     "data": {
      "text/plain": [
       "3"
      ]
     },
     "execution_count": 24,
     "metadata": {},
     "output_type": "execute_result"
    }
   ],
   "source": [
    "p.a"
   ]
  },
  {
   "cell_type": "code",
   "execution_count": 25,
   "id": "71f87de5",
   "metadata": {},
   "outputs": [
    {
     "data": {
      "text/plain": [
       "4"
      ]
     },
     "execution_count": 25,
     "metadata": {},
     "output_type": "execute_result"
    }
   ],
   "source": [
    "p.b"
   ]
  },
  {
   "cell_type": "code",
   "execution_count": 26,
   "id": "239e3c43",
   "metadata": {},
   "outputs": [
    {
     "data": {
      "text/plain": [
       "5"
      ]
     },
     "execution_count": 26,
     "metadata": {},
     "output_type": "execute_result"
    }
   ],
   "source": [
    "p.c"
   ]
  },
  {
   "cell_type": "code",
   "execution_count": 23,
   "id": "08635812",
   "metadata": {},
   "outputs": [
    {
     "name": "stdout",
     "output_type": "stream",
     "text": [
      "This is 1st method of xyz class\n"
     ]
    }
   ],
   "source": [
    "p.test()"
   ]
  },
  {
   "cell_type": "code",
   "execution_count": 27,
   "id": "680c1c65",
   "metadata": {},
   "outputs": [
    {
     "name": "stdout",
     "output_type": "stream",
     "text": [
      "This is 2nd method of xyz class\n"
     ]
    }
   ],
   "source": [
    "p.test1()"
   ]
  },
  {
   "cell_type": "code",
   "execution_count": 28,
   "id": "369f744b",
   "metadata": {},
   "outputs": [
    {
     "name": "stdout",
     "output_type": "stream",
     "text": [
      "This is 3rd method of xyz class\n"
     ]
    }
   ],
   "source": [
    "p.test2()"
   ]
  },
  {
   "cell_type": "markdown",
   "id": "bdf3df43",
   "metadata": {},
   "source": [
    "### Creating xyz2 Class  and Overwrite the method of parent class into child class."
   ]
  },
  {
   "cell_type": "code",
   "execution_count": 30,
   "id": "b63828d7",
   "metadata": {},
   "outputs": [],
   "source": [
    "class xyz2(xyz):\n",
    "    def test(self):\n",
    "        print(\"this is the test method of xyz2 class\")"
   ]
  },
  {
   "cell_type": "code",
   "execution_count": 32,
   "id": "19d48e10",
   "metadata": {},
   "outputs": [],
   "source": [
    "obj_xyz2 = xyz2(6,9,0)                       # creating object of xyz2 class."
   ]
  },
  {
   "cell_type": "markdown",
   "id": "14f1638b",
   "metadata": {},
   "source": [
    "### test() method is define in both parent class and child class(or Overwrite test method in child class)\n",
    "### obj_xyz2 is always class the test() method of child not of parent class."
   ]
  },
  {
   "cell_type": "code",
   "execution_count": 33,
   "id": "7319364c",
   "metadata": {},
   "outputs": [
    {
     "name": "stdout",
     "output_type": "stream",
     "text": [
      "this is hte test method of xyz2 class\n"
     ]
    }
   ],
   "source": [
    "obj_xyz2.test()                      "
   ]
  },
  {
   "cell_type": "markdown",
   "id": "7c902d14",
   "metadata": {},
   "source": [
    "# Multiple Inheritance "
   ]
  },
  {
   "cell_type": "code",
   "execution_count": 45,
   "id": "11329a9a",
   "metadata": {},
   "outputs": [],
   "source": [
    "class xyz3:\n",
    "    def __init__(self,a,b,c):\n",
    "        self.a = a\n",
    "        self.b= b\n",
    "        self.c = c\n",
    "        \n",
    "    def test():\n",
    "        print(\"This is the method of xyz class\")\n",
    "        \n",
    "        \n",
    "class xyz4:\n",
    "    def __init__(self,p,q,r):\n",
    "        self.p= p\n",
    "        self.q= q\n",
    "        self.r= r\n",
    "        \n",
    "    def test1():\n",
    "        print(\"This is the method of xyz1 class\")\n",
    "    \n",
    "    \n",
    "class child(xyz,xyz1):                 # Multiple inheritance(Inherating xyz and xyz1 class)\n",
    "    pass\n",
    "    \n",
    "    \n",
    "class child1(xyz1,xyz):                #\n",
    "    def __init__(self,*args):              # it helps us show all the varible off all the inherited classs.\n",
    "        xyz.__init__(self,*args)\n",
    "        xyz1.__init__(self,*args)\n",
    "        \n",
    "        \n",
    "class child2(xyz1,xyz):\n",
    "    def __init__(self,*args,**kwargs):       ## *args is to take multiple Inheritance.\n",
    "        xyz3.__init__(self,*args)\n",
    "        xyz4.__init__(self,**kwargs)       "
   ]
  },
  {
   "cell_type": "code",
   "execution_count": 46,
   "id": "351aa2e5",
   "metadata": {},
   "outputs": [],
   "source": [
    "n = child(4,5,6)"
   ]
  },
  {
   "cell_type": "code",
   "execution_count": 47,
   "id": "8bb5d8dd",
   "metadata": {},
   "outputs": [
    {
     "data": {
      "text/plain": [
       "4"
      ]
     },
     "execution_count": 47,
     "metadata": {},
     "output_type": "execute_result"
    }
   ],
   "source": [
    "n.a"
   ]
  },
  {
   "cell_type": "code",
   "execution_count": 48,
   "id": "92cfe409",
   "metadata": {},
   "outputs": [],
   "source": [
    "n1= child1(7,8,9)"
   ]
  },
  {
   "cell_type": "code",
   "execution_count": 49,
   "id": "c47de3c2",
   "metadata": {},
   "outputs": [
    {
     "data": {
      "text/plain": [
       "8"
      ]
     },
     "execution_count": 49,
     "metadata": {},
     "output_type": "execute_result"
    }
   ],
   "source": [
    "n1.b"
   ]
  },
  {
   "cell_type": "code",
   "execution_count": 51,
   "id": "f0db7212",
   "metadata": {},
   "outputs": [],
   "source": [
    "n2 = child2(1,2,3, p=4, q=5, r=6)"
   ]
  },
  {
   "cell_type": "code",
   "execution_count": 52,
   "id": "9e206f46",
   "metadata": {},
   "outputs": [
    {
     "data": {
      "text/plain": [
       "6"
      ]
     },
     "execution_count": 52,
     "metadata": {},
     "output_type": "execute_result"
    }
   ],
   "source": [
    "n2.r"
   ]
  },
  {
   "cell_type": "markdown",
   "id": "0f40daab",
   "metadata": {},
   "source": [
    "# Multi Level Inheritance "
   ]
  },
  {
   "cell_type": "code",
   "execution_count": 15,
   "id": "efb1456d",
   "metadata": {},
   "outputs": [],
   "source": [
    "class xyz5:\n",
    "    def __init__(self,a,b,c):\n",
    "        self.a = a\n",
    "        self.b = b\n",
    "        self.c= c\n",
    "        \n",
    "    def test():\n",
    "        print(\"This is my method of xyz5 class:\")\n",
    "        \n",
    "class xyz6(xyz5):\n",
    "    def test1(self):\n",
    "        print(\"This is the method of xyz6 class: \")\n",
    "    \n",
    "class xyz7(xyz6):\n",
    "    def test2(self):\n",
    "        print(\"This is the method of xyz7 class: \")"
   ]
  },
  {
   "cell_type": "code",
   "execution_count": 16,
   "id": "5fab6ccb",
   "metadata": {},
   "outputs": [],
   "source": [
    "v= xyz7(4,5,6)"
   ]
  },
  {
   "cell_type": "code",
   "execution_count": 17,
   "id": "41d9761b",
   "metadata": {},
   "outputs": [
    {
     "name": "stdout",
     "output_type": "stream",
     "text": [
      "This is the method of xyz6 class: \n"
     ]
    }
   ],
   "source": [
    "v.test1()"
   ]
  },
  {
   "cell_type": "markdown",
   "id": "5c22a51d",
   "metadata": {},
   "source": [
    "### Q1. Create a file class for reading data from respectve readfile with a method name read and write.\n",
    "### Q2. Try to inherit read and write method from parent class to child class to perform read and write operation"
   ]
  },
  {
   "cell_type": "code",
   "execution_count": 30,
   "id": "547cf3f4",
   "metadata": {},
   "outputs": [
    {
     "name": "stdout",
     "output_type": "stream",
     "text": [
      "Inserted lines .....\n"
     ]
    }
   ],
   "source": [
    "class readfile:\n",
    "    def __init__(self,fileobj,lines):\n",
    "        self.file = fileobj\n",
    "        self.lines = lines\n",
    "    \n",
    "    def readfile(self):\n",
    "        file2 =open(self.file,'r')\n",
    "        line = file2.readline()\n",
    "        while(line!=\"\"):\n",
    "            print(line)\n",
    "            line=file2.readline()\n",
    "            \n",
    "    def writefile(self):\n",
    "        content_write = open(self.file,'w')\n",
    "        content_write.writelines(lines)\n",
    "        content_write.close()\n",
    "        \n",
    "        \n",
    "class readfile1(readfile):\n",
    "    def readfile1(self):\n",
    "        print(\"Inheritance of readfile class\")\n",
    "file1 = r'test1.txt'\n",
    "lines = 'Inserted lines .....'\n",
    "\n",
    "read_write =readfile1(file1,lines)\n",
    "read_write.writefile()\n",
    "read_write.readfile()\n",
    "    "
   ]
  },
  {
   "cell_type": "code",
   "execution_count": 1,
   "id": "9cfc3075",
   "metadata": {},
   "outputs": [],
   "source": [
    "class test:\n",
    "    def __init__(self,a,b,c):\n",
    "        self.a = a\n",
    "        self.b = b\n",
    "        self.c= c\n",
    "        \n",
    "class test1(test):\n",
    "    pass\n",
    "u= test1(4,5,6)"
   ]
  },
  {
   "cell_type": "code",
   "execution_count": 2,
   "id": "2eeb5f0a",
   "metadata": {},
   "outputs": [
    {
     "data": {
      "text/plain": [
       "4"
      ]
     },
     "execution_count": 2,
     "metadata": {},
     "output_type": "execute_result"
    }
   ],
   "source": [
    "u.a"
   ]
  },
  {
   "cell_type": "code",
   "execution_count": 3,
   "id": "c00c6a82",
   "metadata": {},
   "outputs": [],
   "source": [
    "v= test(1,2,3)"
   ]
  },
  {
   "cell_type": "code",
   "execution_count": 4,
   "id": "cb4c55da",
   "metadata": {},
   "outputs": [
    {
     "data": {
      "text/plain": [
       "1"
      ]
     },
     "execution_count": 4,
     "metadata": {},
     "output_type": "execute_result"
    }
   ],
   "source": [
    "v.a"
   ]
  },
  {
   "cell_type": "markdown",
   "id": "a5e7612f",
   "metadata": {},
   "source": [
    "# Access Modifier in Python (Encapsulation)"
   ]
  },
  {
   "cell_type": "markdown",
   "id": "62eb9832",
   "metadata": {},
   "source": [
    "### 1. Public :- denoted without(- dash)\n",
    "###  2. Protected :- denoted with single _(dash)\n",
    "###  3. Private :- denoted with double __(dash)"
   ]
  },
  {
   "cell_type": "code",
   "execution_count": null,
   "id": "c39b08c3",
   "metadata": {},
   "outputs": [],
   "source": []
  },
  {
   "cell_type": "code",
   "execution_count": 13,
   "id": "0df2b690",
   "metadata": {},
   "outputs": [],
   "source": [
    "class Access_Modifier:\n",
    "    def __init__(self,a,b,c):\n",
    "        self.a= a                           # this varible is public \n",
    "        self._b = b                         # This varible is in protected mode.\n",
    "        self.__c =c                         # This varible is in private mode.\n",
    "        \n",
    "class test8(Access_Modifier) :\n",
    "    pass\n"
   ]
  },
  {
   "cell_type": "code",
   "execution_count": 14,
   "id": "33f823ad",
   "metadata": {},
   "outputs": [],
   "source": [
    "ob = test8(6,8,3)"
   ]
  },
  {
   "cell_type": "code",
   "execution_count": 15,
   "id": "3b943164",
   "metadata": {},
   "outputs": [
    {
     "data": {
      "text/plain": [
       "6"
      ]
     },
     "execution_count": 15,
     "metadata": {},
     "output_type": "execute_result"
    }
   ],
   "source": [
    "ob.a"
   ]
  },
  {
   "cell_type": "code",
   "execution_count": 16,
   "id": "5ae2809f",
   "metadata": {},
   "outputs": [
    {
     "ename": "AttributeError",
     "evalue": "'test8' object has no attribute 'b'",
     "output_type": "error",
     "traceback": [
      "\u001b[1;31m---------------------------------------------------------------------------\u001b[0m",
      "\u001b[1;31mAttributeError\u001b[0m                            Traceback (most recent call last)",
      "\u001b[1;32m<ipython-input-16-ace82155a81a>\u001b[0m in \u001b[0;36m<module>\u001b[1;34m\u001b[0m\n\u001b[1;32m----> 1\u001b[1;33m \u001b[0mob\u001b[0m\u001b[1;33m.\u001b[0m\u001b[0mb\u001b[0m               \u001b[1;31m# we cann't call protected varible of class in inherited class.\u001b[0m\u001b[1;33m\u001b[0m\u001b[1;33m\u001b[0m\u001b[0m\n\u001b[0m",
      "\u001b[1;31mAttributeError\u001b[0m: 'test8' object has no attribute 'b'"
     ]
    }
   ],
   "source": [
    "ob.b               # we cann't call protected varible of class in inherited class."
   ]
  },
  {
   "cell_type": "code",
   "execution_count": 17,
   "id": "3a69cef6",
   "metadata": {},
   "outputs": [
    {
     "ename": "AttributeError",
     "evalue": "'test8' object has no attribute '_c'",
     "output_type": "error",
     "traceback": [
      "\u001b[1;31m---------------------------------------------------------------------------\u001b[0m",
      "\u001b[1;31mAttributeError\u001b[0m                            Traceback (most recent call last)",
      "\u001b[1;32m<ipython-input-17-458bce911789>\u001b[0m in \u001b[0;36m<module>\u001b[1;34m\u001b[0m\n\u001b[1;32m----> 1\u001b[1;33m \u001b[0mob\u001b[0m\u001b[1;33m.\u001b[0m\u001b[0m_c\u001b[0m             \u001b[1;31m# we cann't call public varible of class in inherited class.\u001b[0m\u001b[1;33m\u001b[0m\u001b[1;33m\u001b[0m\u001b[0m\n\u001b[0m",
      "\u001b[1;31mAttributeError\u001b[0m: 'test8' object has no attribute '_c'"
     ]
    }
   ],
   "source": [
    "ob._c             # we cann't call public varible of class in inherited class."
   ]
  },
  {
   "cell_type": "code",
   "execution_count": 18,
   "id": "10a9a1ba",
   "metadata": {},
   "outputs": [
    {
     "data": {
      "text/plain": [
       "8"
      ]
     },
     "execution_count": 18,
     "metadata": {},
     "output_type": "execute_result"
    }
   ],
   "source": [
    "ob._b"
   ]
  },
  {
   "cell_type": "code",
   "execution_count": 20,
   "id": "d025d5ed",
   "metadata": {},
   "outputs": [
    {
     "data": {
      "text/plain": [
       "3"
      ]
     },
     "execution_count": 20,
     "metadata": {},
     "output_type": "execute_result"
    }
   ],
   "source": [
    "ob._Access_Modifier__c"
   ]
  },
  {
   "cell_type": "markdown",
   "id": "fd322b34",
   "metadata": {},
   "source": [
    "### Example for Encapsulation"
   ]
  },
  {
   "cell_type": "code",
   "execution_count": 9,
   "id": "32937a6f",
   "metadata": {},
   "outputs": [],
   "source": [
    "class bonuscalculator:\n",
    "    def __init__(self,empid,emprating):\n",
    "        self.empid = empid\n",
    "        self.emprating = emprating \n",
    "        self._empemail = 'sahd@gmail.com'\n",
    "        self.__bonusforratingA = \"70%\"\n",
    "        self.__bonusforratingB = \"60%\"\n",
    "        self.__bonusforratingC= \"40%\"\n",
    "        \n",
    "        \n",
    "    def bonuscalculator(self):\n",
    "        if self.emprating == 'A':\n",
    "            bonus = self.__bonusforratingA\n",
    "            return bonus\n",
    "        elif self.emprating == 'B':\n",
    "            bonus = self.__bonusforratingB\n",
    "            return bonus\n",
    "        else:\n",
    "            bonus = self.__bonusforratingC\n",
    "            return bonus\n",
    "            "
   ]
  },
  {
   "cell_type": "code",
   "execution_count": 10,
   "id": "1171d09b",
   "metadata": {},
   "outputs": [],
   "source": [
    "emp1 = bonuscalculator(101,'A')\n",
    "emp2 = bonuscalculator(101,'B')\n",
    "emp3 = bonuscalculator(101,'C')"
   ]
  },
  {
   "cell_type": "code",
   "execution_count": 11,
   "id": "fae0d397",
   "metadata": {},
   "outputs": [
    {
     "data": {
      "text/plain": [
       "101"
      ]
     },
     "execution_count": 11,
     "metadata": {},
     "output_type": "execute_result"
    }
   ],
   "source": [
    "emp1.empid\n"
   ]
  },
  {
   "cell_type": "code",
   "execution_count": 12,
   "id": "67d56fc2",
   "metadata": {},
   "outputs": [
    {
     "data": {
      "text/plain": [
       "'A'"
      ]
     },
     "execution_count": 12,
     "metadata": {},
     "output_type": "execute_result"
    }
   ],
   "source": [
    "emp1.emprating"
   ]
  },
  {
   "cell_type": "code",
   "execution_count": 13,
   "id": "b28b89d2",
   "metadata": {},
   "outputs": [
    {
     "data": {
      "text/plain": [
       "'70%'"
      ]
     },
     "execution_count": 13,
     "metadata": {},
     "output_type": "execute_result"
    }
   ],
   "source": [
    "emp1.bonuscalculator()"
   ]
  },
  {
   "cell_type": "code",
   "execution_count": 14,
   "id": "09d0c7c2",
   "metadata": {},
   "outputs": [
    {
     "data": {
      "text/plain": [
       "'sahd@gmail.com'"
      ]
     },
     "execution_count": 14,
     "metadata": {},
     "output_type": "execute_result"
    }
   ],
   "source": [
    "emp1._empemail"
   ]
  },
  {
   "cell_type": "code",
   "execution_count": 15,
   "id": "3200d33f",
   "metadata": {},
   "outputs": [],
   "source": [
    "emp1.empid = '10120'"
   ]
  },
  {
   "cell_type": "code",
   "execution_count": 17,
   "id": "e4fa1383",
   "metadata": {},
   "outputs": [
    {
     "data": {
      "text/plain": [
       "'10120'"
      ]
     },
     "execution_count": 17,
     "metadata": {},
     "output_type": "execute_result"
    }
   ],
   "source": [
    "emp1.empid                           # We can modify the value of public varible."
   ]
  },
  {
   "cell_type": "code",
   "execution_count": null,
   "id": "1cb87cc4",
   "metadata": {},
   "outputs": [],
   "source": []
  }
 ],
 "metadata": {
  "kernelspec": {
   "display_name": "Python 3",
   "language": "python",
   "name": "python3"
  },
  "language_info": {
   "codemirror_mode": {
    "name": "ipython",
    "version": 3
   },
   "file_extension": ".py",
   "mimetype": "text/x-python",
   "name": "python",
   "nbconvert_exporter": "python",
   "pygments_lexer": "ipython3",
   "version": "3.8.8"
  }
 },
 "nbformat": 4,
 "nbformat_minor": 5
}
