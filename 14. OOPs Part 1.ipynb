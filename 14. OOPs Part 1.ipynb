{
 "cells": [
  {
   "cell_type": "code",
   "execution_count": 133,
   "id": "617cae17",
   "metadata": {},
   "outputs": [],
   "source": [
    "class dictatory:\n",
    "    \n",
    "    def __init__(sahdev,d):\n",
    "        sahdev.p=d\n",
    "    \n",
    "    def dictkey(sahdev):\n",
    "        l=[]\n",
    "        if type(sahdev.p)==dict:\n",
    "            for i in sahdev.p:\n",
    "                l.append(i)\n",
    "            return l\n",
    "       \n",
    "    def dictvalue(sahdev):\n",
    "        l=[]\n",
    "        if type(sahdev.p)==dict:\n",
    "            for i in sahdev.p:\n",
    "                l.append(sahdev.p[i])\n",
    "            return l\n",
    "        \n",
    "    def throwexcept(sahdev):\n",
    "            if type(sahdev.p)!=dict:\n",
    "                raise Exception(sahdev.p,\"Not a dictationaty\")\n",
    "            return 1 \n",
    "        \n",
    "    def userinput(sahdev):\n",
    "        sahdev.p=eval(input())\n",
    "        print(sahdev.p,type(sahdev.p))\n",
    "        print(sahdev.dictkey())\n",
    "        print(sahdev.dictvalue())\n",
    "        \n",
    "    def inseration(sahdev,i,v):\n",
    "        sahdev.p[i]=v\n",
    "        print(sahdev.p)\n",
    "        \n",
    "              "
   ]
  },
  {
   "cell_type": "code",
   "execution_count": 134,
   "id": "f49d9832",
   "metadata": {},
   "outputs": [],
   "source": [
    "o=dictatory({'a':1,'b':2,\"c\":3})\n",
    "\n"
   ]
  },
  {
   "cell_type": "code",
   "execution_count": 135,
   "id": "6752f3f5",
   "metadata": {},
   "outputs": [
    {
     "data": {
      "text/plain": [
       "['a', 'b', 'c']"
      ]
     },
     "execution_count": 135,
     "metadata": {},
     "output_type": "execute_result"
    }
   ],
   "source": [
    "o.dictkey()"
   ]
  },
  {
   "cell_type": "code",
   "execution_count": 136,
   "id": "9089591c",
   "metadata": {},
   "outputs": [
    {
     "data": {
      "text/plain": [
       "[1, 2, 3]"
      ]
     },
     "execution_count": 136,
     "metadata": {},
     "output_type": "execute_result"
    }
   ],
   "source": [
    "o.dictvalue()"
   ]
  },
  {
   "cell_type": "code",
   "execution_count": 137,
   "id": "5075acf2",
   "metadata": {},
   "outputs": [
    {
     "data": {
      "text/plain": [
       "1"
      ]
     },
     "execution_count": 137,
     "metadata": {},
     "output_type": "execute_result"
    }
   ],
   "source": [
    "o.throwexcept()"
   ]
  },
  {
   "cell_type": "code",
   "execution_count": 138,
   "id": "5c7820f4",
   "metadata": {},
   "outputs": [
    {
     "name": "stdout",
     "output_type": "stream",
     "text": [
      "\n"
     ]
    },
    {
     "ename": "SyntaxError",
     "evalue": "unexpected EOF while parsing (<string>, line 0)",
     "output_type": "error",
     "traceback": [
      "Traceback \u001b[1;36m(most recent call last)\u001b[0m:\n",
      "  File \u001b[0;32m\"C:\\Users\\Dell\\Anaconda3\\lib\\site-packages\\IPython\\core\\interactiveshell.py\"\u001b[0m, line \u001b[0;32m3437\u001b[0m, in \u001b[0;35mrun_code\u001b[0m\n    exec(code_obj, self.user_global_ns, self.user_ns)\n",
      "  File \u001b[0;32m\"<ipython-input-138-8e31dcb1df9a>\"\u001b[0m, line \u001b[0;32m1\u001b[0m, in \u001b[0;35m<module>\u001b[0m\n    o.userinput()\n",
      "\u001b[1;36m  File \u001b[1;32m\"<ipython-input-133-3773e7af6824>\"\u001b[1;36m, line \u001b[1;32m26\u001b[1;36m, in \u001b[1;35muserinput\u001b[1;36m\u001b[0m\n\u001b[1;33m    sahdev.p=eval(input())\u001b[0m\n",
      "\u001b[1;36m  File \u001b[1;32m\"<string>\"\u001b[1;36m, line \u001b[1;32munknown\u001b[0m\n\u001b[1;33m    \u001b[0m\n\u001b[1;37m    ^\u001b[0m\n\u001b[1;31mSyntaxError\u001b[0m\u001b[1;31m:\u001b[0m unexpected EOF while parsing\n"
     ]
    }
   ],
   "source": [
    "o.userinput()"
   ]
  },
  {
   "cell_type": "code",
   "execution_count": 140,
   "id": "b9db512e",
   "metadata": {},
   "outputs": [
    {
     "name": "stdout",
     "output_type": "stream",
     "text": [
      "{'a': 1, 'b': 2, 'c': 3, 3: 4}\n"
     ]
    }
   ],
   "source": [
    "o.inseration(3,4)"
   ]
  },
  {
   "cell_type": "code",
   "execution_count": null,
   "id": "1ac2192b",
   "metadata": {},
   "outputs": [],
   "source": []
  },
  {
   "cell_type": "code",
   "execution_count": 81,
   "id": "6502dc51",
   "metadata": {},
   "outputs": [
    {
     "ename": "Exception",
     "evalue": "([1, 2, 3, 45], 'Not a dictationaty')",
     "output_type": "error",
     "traceback": [
      "\u001b[1;31m---------------------------------------------------------------------------\u001b[0m",
      "\u001b[1;31mException\u001b[0m                                 Traceback (most recent call last)",
      "\u001b[1;32m<ipython-input-81-8a82a5d2fb22>\u001b[0m in \u001b[0;36m<module>\u001b[1;34m\u001b[0m\n\u001b[0;32m      1\u001b[0m \u001b[0ma\u001b[0m\u001b[1;33m=\u001b[0m\u001b[0mdictatory\u001b[0m\u001b[1;33m(\u001b[0m\u001b[1;33m[\u001b[0m\u001b[1;36m1\u001b[0m\u001b[1;33m,\u001b[0m\u001b[1;36m2\u001b[0m\u001b[1;33m,\u001b[0m\u001b[1;36m3\u001b[0m\u001b[1;33m,\u001b[0m\u001b[1;36m45\u001b[0m\u001b[1;33m]\u001b[0m\u001b[1;33m)\u001b[0m\u001b[1;33m\u001b[0m\u001b[1;33m\u001b[0m\u001b[0m\n\u001b[1;32m----> 2\u001b[1;33m \u001b[0ma\u001b[0m\u001b[1;33m.\u001b[0m\u001b[0mthrowexcept\u001b[0m\u001b[1;33m(\u001b[0m\u001b[1;33m)\u001b[0m\u001b[1;33m\u001b[0m\u001b[1;33m\u001b[0m\u001b[0m\n\u001b[0m",
      "\u001b[1;32m<ipython-input-75-346fa3abb712>\u001b[0m in \u001b[0;36mthrowexcept\u001b[1;34m(sahdev)\u001b[0m\n\u001b[0;32m     20\u001b[0m     \u001b[1;32mdef\u001b[0m \u001b[0mthrowexcept\u001b[0m\u001b[1;33m(\u001b[0m\u001b[0msahdev\u001b[0m\u001b[1;33m)\u001b[0m\u001b[1;33m:\u001b[0m\u001b[1;33m\u001b[0m\u001b[1;33m\u001b[0m\u001b[0m\n\u001b[0;32m     21\u001b[0m             \u001b[1;32mif\u001b[0m \u001b[0mtype\u001b[0m\u001b[1;33m(\u001b[0m\u001b[0msahdev\u001b[0m\u001b[1;33m.\u001b[0m\u001b[0mp\u001b[0m\u001b[1;33m)\u001b[0m\u001b[1;33m!=\u001b[0m\u001b[0mdict\u001b[0m\u001b[1;33m:\u001b[0m\u001b[1;33m\u001b[0m\u001b[1;33m\u001b[0m\u001b[0m\n\u001b[1;32m---> 22\u001b[1;33m                 \u001b[1;32mraise\u001b[0m \u001b[0mException\u001b[0m\u001b[1;33m(\u001b[0m\u001b[0msahdev\u001b[0m\u001b[1;33m.\u001b[0m\u001b[0mp\u001b[0m\u001b[1;33m,\u001b[0m\u001b[1;34m\"Not a dictationaty\"\u001b[0m\u001b[1;33m)\u001b[0m\u001b[1;33m\u001b[0m\u001b[1;33m\u001b[0m\u001b[0m\n\u001b[0m\u001b[0;32m     23\u001b[0m             \u001b[1;32mreturn\u001b[0m \u001b[1;36m1\u001b[0m\u001b[1;33m\u001b[0m\u001b[1;33m\u001b[0m\u001b[0m\n",
      "\u001b[1;31mException\u001b[0m: ([1, 2, 3, 45], 'Not a dictationaty')"
     ]
    }
   ],
   "source": [
    "a=dictatory([1,2,3,45])\n",
    "a.throwexcept()"
   ]
  },
  {
   "cell_type": "code",
   "execution_count": 60,
   "id": "0c9b0788",
   "metadata": {},
   "outputs": [
    {
     "name": "stdout",
     "output_type": "stream",
     "text": [
      "{'a':1,'b':2,'c':3}\n"
     ]
    }
   ],
   "source": [
    "o.userinput()"
   ]
  },
  {
   "cell_type": "code",
   "execution_count": null,
   "id": "4be20306",
   "metadata": {},
   "outputs": [],
   "source": []
  }
 ],
 "metadata": {
  "kernelspec": {
   "display_name": "Python 3",
   "language": "python",
   "name": "python3"
  },
  "language_info": {
   "codemirror_mode": {
    "name": "ipython",
    "version": 3
   },
   "file_extension": ".py",
   "mimetype": "text/x-python",
   "name": "python",
   "nbconvert_exporter": "python",
   "pygments_lexer": "ipython3",
   "version": "3.8.8"
  }
 },
 "nbformat": 4,
 "nbformat_minor": 5
}
