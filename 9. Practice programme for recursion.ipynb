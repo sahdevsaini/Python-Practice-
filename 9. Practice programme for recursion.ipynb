{
 "cells": [
  {
   "cell_type": "markdown",
   "id": "36121ceb",
   "metadata": {},
   "source": [
    "# 1. Programme for sum of digits."
   ]
  },
  {
   "cell_type": "code",
   "execution_count": 8,
   "id": "bc0e4e2c",
   "metadata": {},
   "outputs": [
    {
     "name": "stdout",
     "output_type": "stream",
     "text": [
      "151\n",
      "7\n"
     ]
    }
   ],
   "source": [
    "\n",
    "def sumofdigit(n):\n",
    "    # assert n>=0 and int(n)==n\n",
    "    if n==0:\n",
    "        return 0\n",
    "    else:\n",
    "        return int(n%10) +sumofdigit(n/10)\n",
    "    \n",
    "n=int(input())\n",
    "print(sumofdigit(n))\n",
    "    \n",
    "        "
   ]
  },
  {
   "cell_type": "markdown",
   "id": "2263b7e6",
   "metadata": {},
   "source": [
    "# 2. programe for power"
   ]
  },
  {
   "cell_type": "code",
   "execution_count": 9,
   "id": "ca72b67a",
   "metadata": {},
   "outputs": [
    {
     "name": "stdout",
     "output_type": "stream",
     "text": [
      "5\n",
      "2\n",
      "25\n"
     ]
    }
   ],
   "source": [
    "def power(base,exp):\n",
    "    if exp == 0:\n",
    "        return 1\n",
    "    if(exp==1):\n",
    "        return(base)\n",
    "    if(exp!=1):\n",
    "        return (base*power(base,exp-1))\n",
    "base=int(input())\n",
    "exp=int(input())\n",
    "print(power(base,exp))"
   ]
  },
  {
   "cell_type": "markdown",
   "id": "ca8a7dff",
   "metadata": {},
   "source": [
    "# 3. Programe for GCD"
   ]
  },
  {
   "cell_type": "code",
   "execution_count": 10,
   "id": "d68ea85f",
   "metadata": {},
   "outputs": [
    {
     "name": "stdout",
     "output_type": "stream",
     "text": [
      "42\n",
      "7\n",
      "7\n"
     ]
    }
   ],
   "source": [
    "def gcd(a,b):\n",
    "    assert int(a) == a and int(b) == b, 'The numbers must be integer only!'\n",
    "    if a < 0:\n",
    "        a = -1 * a\n",
    "    if b < 0:\n",
    "        b = -1 * b\n",
    "    if b == 0:\n",
    "        return a\n",
    "    else:\n",
    "        return gcd(b, a%b)\n",
    "\n",
    "    \n",
    "        \n",
    "a=int(input())\n",
    "b=int(input())\n",
    "print(gcd(a,b))"
   ]
  },
  {
   "cell_type": "markdown",
   "id": "6e0025d6",
   "metadata": {},
   "source": [
    "# 4. Programe for decimal to binary"
   ]
  },
  {
   "cell_type": "code",
   "execution_count": 11,
   "id": "cb6ec0cc",
   "metadata": {},
   "outputs": [
    {
     "name": "stdout",
     "output_type": "stream",
     "text": [
      "12\n",
      "1100\n"
     ]
    }
   ],
   "source": [
    "def decimalToBinary(n):\n",
    "    if n == 0:\n",
    "        return 0\n",
    "    else:\n",
    "        return n%2 + 10*decimalToBinary(int(n/2))\n",
    "    \n",
    "\n",
    "n=int(input())\n",
    "print(decimalToBinary(n))\n"
   ]
  },
  {
   "cell_type": "markdown",
   "id": "b3ca9a40",
   "metadata": {},
   "source": [
    "# 5.Programe for factorial"
   ]
  },
  {
   "cell_type": "code",
   "execution_count": 12,
   "id": "3722e20c",
   "metadata": {},
   "outputs": [
    {
     "name": "stdout",
     "output_type": "stream",
     "text": [
      "4\n",
      "24\n"
     ]
    }
   ],
   "source": [
    "def factorial(n): \n",
    "    if (n==1 or n==0):\n",
    "          \n",
    "        return 1\n",
    "      \n",
    "    else:\n",
    "          \n",
    "        return (n * factorial(n - 1)) \n",
    "\n",
    "num =int(input())\n",
    "print(factorial(num))"
   ]
  },
  {
   "cell_type": "markdown",
   "id": "e987e336",
   "metadata": {},
   "source": [
    "# 6.Programme for ArrayProduct\n"
   ]
  },
  {
   "cell_type": "code",
   "execution_count": 5,
   "id": "4f9a611e",
   "metadata": {},
   "outputs": [
    {
     "name": "stdout",
     "output_type": "stream",
     "text": [
      "Enter number of elements : 4\n",
      "5\n",
      "6\n",
      "2\n",
      "1\n",
      "60\n"
     ]
    }
   ],
   "source": [
    "def productofArray(arr):\n",
    "    if len(arr) == 0:\n",
    "        return 1\n",
    "    return arr[0] * productOfArray(arr[1:])\n",
    "\n",
    "lst = []\n",
    " \n",
    "# number of elements as input\n",
    "n = int(input(\"Enter number of elements : \"))\n",
    " \n",
    "# iterating till the range\n",
    "for i in range(0, n):\n",
    "    ele = int(input())\n",
    " \n",
    "    lst.append(ele) # adding the element\n",
    "     \n",
    "print(productofArray(lst))"
   ]
  },
  {
   "cell_type": "markdown",
   "id": "6f5866c2",
   "metadata": {},
   "source": [
    "# 7.Power of number"
   ]
  },
  {
   "cell_type": "code",
   "execution_count": 6,
   "id": "7b0070fd",
   "metadata": {},
   "outputs": [
    {
     "name": "stdout",
     "output_type": "stream",
     "text": [
      "2\n",
      "5\n",
      "32\n"
     ]
    }
   ],
   "source": [
    "def power(base, exponent):\n",
    "    if exponent == 0:\n",
    "        return 1\n",
    "    return base * power(base, exponent-1)\n",
    "b=int(input())\n",
    "e=int(input())\n",
    "print(power(b,e))"
   ]
  },
  {
   "cell_type": "markdown",
   "id": "a42c16a2",
   "metadata": {},
   "source": [
    "# 8.Recursion Range"
   ]
  },
  {
   "cell_type": "code",
   "execution_count": 1,
   "id": "cf9eae6b",
   "metadata": {},
   "outputs": [
    {
     "name": "stdout",
     "output_type": "stream",
     "text": [
      "5\n",
      "15\n"
     ]
    }
   ],
   "source": [
    "def recursiveRange(num):\n",
    "    if num <= 0:\n",
    "        return 0\n",
    "    return num + recursiveRange(num - 1)\n",
    "\n",
    "n=int(input())\n",
    "print(recursiveRange(n))"
   ]
  },
  {
   "cell_type": "markdown",
   "id": "7cecebc5",
   "metadata": {},
   "source": [
    "# 9.Reverse a string"
   ]
  },
  {
   "cell_type": "code",
   "execution_count": 11,
   "id": "0c17f043",
   "metadata": {},
   "outputs": [
    {
     "name": "stdout",
     "output_type": "stream",
     "text": [
      "sahdev\n",
      "vedhas\n"
     ]
    }
   ],
   "source": [
    "def reverse(strng):\n",
    "    if len(strng) <= 1:\n",
    "        return strng\n",
    "    return strng[len(strng)-1] + reverse(strng[0:len(strng)-1])\n",
    "s=str(input())\n",
    "print(reverse(s))"
   ]
  },
  {
   "cell_type": "code",
   "execution_count": 14,
   "id": "f2efe11b",
   "metadata": {},
   "outputs": [
    {
     "name": "stdout",
     "output_type": "stream",
     "text": [
      "sahdev\n",
      "vedhas\n"
     ]
    }
   ],
   "source": [
    "n=str(input())\n",
    "y=n[::-1]\n",
    "print(y)\n",
    "\n"
   ]
  },
  {
   "cell_type": "code",
   "execution_count": 13,
   "id": "09ad1fc9",
   "metadata": {},
   "outputs": [
    {
     "name": "stdout",
     "output_type": "stream",
     "text": [
      "sahdev\n",
      "vedhas\n"
     ]
    }
   ],
   "source": [
    "def revstring(stri):\n",
    "    return stri[::-1]\n",
    "\n",
    "n=str(input())\n",
    "print(revstring(n))"
   ]
  },
  {
   "cell_type": "code",
   "execution_count": 8,
   "id": "32bf502b",
   "metadata": {},
   "outputs": [
    {
     "data": {
      "text/plain": [
       "6"
      ]
     },
     "execution_count": 8,
     "metadata": {},
     "output_type": "execute_result"
    }
   ],
   "source": [
    "s='sahdev'\n",
    "len(s)"
   ]
  },
  {
   "cell_type": "markdown",
   "id": "6c88c49d",
   "metadata": {},
   "source": [
    "# 10. Fibonacci series "
   ]
  },
  {
   "cell_type": "code",
   "execution_count": 4,
   "id": "00f160b3",
   "metadata": {},
   "outputs": [
    {
     "name": "stdout",
     "output_type": "stream",
     "text": [
      "10\n",
      "55\n"
     ]
    }
   ],
   "source": [
    "def fib(num):\n",
    "    if (num < 2):\n",
    "        return num\n",
    "    return fib(num - 1) + fib(num - 2)\n",
    "\n",
    "n=int(input())\n",
    "print(fib(n))"
   ]
  },
  {
   "cell_type": "code",
   "execution_count": null,
   "id": "e3b867e7",
   "metadata": {},
   "outputs": [],
   "source": []
  }
 ],
 "metadata": {
  "kernelspec": {
   "display_name": "Python 3",
   "language": "python",
   "name": "python3"
  },
  "language_info": {
   "codemirror_mode": {
    "name": "ipython",
    "version": 3
   },
   "file_extension": ".py",
   "mimetype": "text/x-python",
   "name": "python",
   "nbconvert_exporter": "python",
   "pygments_lexer": "ipython3",
   "version": "3.8.8"
  }
 },
 "nbformat": 4,
 "nbformat_minor": 5
}
